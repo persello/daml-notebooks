{
 "cells": [
  {
   "cell_type": "markdown",
   "metadata": {},
   "source": [
    "## General instructions\n",
    "\n",
    "Before you turn this problem in, make sure everything runs as expected. First, **restart the kernel/runtime** (Colab: in the menubar, select *Runtime*$\\rightarrow$*Factory Reset Runtime*; Jupyter: in the menubar, select *Kernel*$\\rightarrow$*Restart*) and then **run all cells** (Colab: in the menubar, select *Runtime*$\\rightarrow$*Run all*; Jupyter: in the menubar, select *Cell*$\\rightarrow$*Run All*).\n",
    "\n",
    "Make sure you fill in any place that says `YOUR CODE HERE` or `\"YOUR ANSWER HERE\"`, as well as the list of the group members in the following cell."
   ]
  },
  {
   "cell_type": "markdown",
   "metadata": {},
   "source": [
    "Enter here the *Group Name* and the list of *Group Members*.\n",
    "\n",
    "`Doi eletronics`\n",
    "\n",
    "`Burco Lorenzo, Persello Riccardo`"
   ]
  },
  {
   "cell_type": "markdown",
   "metadata": {},
   "source": [
    "In order to be able to have an evaluation DO NOT delete/cut the cells with code and answers. Once you have finished you can downolad the notebook (Colab: in the menubar, select *File*$\\rightarrow$*Download .ipynb*; Jupyter: in the menubar, select *File*$\\rightarrow$*Download as*$\\rightarrow$*Notebook (.ipynb)*) and upload as an assignment on the e-learning platform.\n",
    "\n",
    "The following cell will load the Google Drive extension for the current notebook, when the variable `MOUNT` is `True`. This allow you to mount the Google Drive filesystem for file persistence. The mountpoint will be `/content/gdrive`.\n",
    "Furthermore, it will set the `PATH` variable, from now on, so that if you have to refer to external files you could do that by writing:\n",
    "\n",
    "```python\n",
    "os.path.join(PATH, filename)\n",
    "```\n",
    "\n",
    "This will append the filename after the specific PATH."
   ]
  },
  {
   "cell_type": "code",
   "execution_count": 1,
   "metadata": {},
   "outputs": [],
   "source": [
    "import os\n",
    "MOUNT = False\n",
    "if 'google.colab' in str(get_ipython()) and MOUNT:\n",
    "    from google.colab import drive\n",
    "    drive.mount('/content/gdrive')\n",
    "    PATH = '/content/gdrive/MyDrive'\n",
    "else:\n",
    "    PATH = '.'"
   ]
  },
  {
   "cell_type": "markdown",
   "metadata": {},
   "source": [
    "# Important warning\n",
    "\n",
    "**⚠️ avoid copying, removing or modifying test cells, if you do that your assignment might be graded wrongly ⚠️**"
   ]
  },
  {
   "cell_type": "markdown",
   "metadata": {},
   "source": [
    "---"
   ]
  },
  {
   "cell_type": "markdown",
   "metadata": {
    "deletable": false,
    "editable": false,
    "nbgrader": {
     "cell_type": "markdown",
     "checksum": "479c13d660cba13a3d7b44675ab35b7b",
     "grade": false,
     "grade_id": "ex1text",
     "locked": true,
     "schema_version": 3,
     "solution": false
    }
   },
   "source": [
    "---\n",
    "\n",
    "## Exercise 1\n",
    "\n",
    "Given the following list of tuples that represent a sequence of names and surnames, transform them into a *list* `person_list` whose elements are dictionaries with the following structure:\n",
    "\n",
    "`{ 'name': <person name>, 'surname': <person surname>}`"
   ]
  },
  {
   "cell_type": "code",
   "execution_count": 2,
   "metadata": {},
   "outputs": [],
   "source": [
    "persons = [('Alexander', 'Thomas'),\n",
    " ('Monica', 'Grant'),\n",
    " ('美加子', '山本'),\n",
    " ('晃', '坂本'),\n",
    " ('Nicholas', 'White'),\n",
    " ('直人', '杉山'),\n",
    " ('直人', '山本'),\n",
    " ('Donald', 'Dickson'),\n",
    " ('Michelangelo', 'Giammusso'),\n",
    " ('Enzio', 'Battelli'),\n",
    " ('Jessica', 'Wade'),\n",
    " ('Fernanda', 'Paruta'),\n",
    " ('Dante', 'Comboni'),\n",
    " ('Arnulfo', 'Terragni'),\n",
    " ('陽子', '加納')]"
   ]
  },
  {
   "cell_type": "code",
   "execution_count": 3,
   "metadata": {
    "deletable": false,
    "nbgrader": {
     "cell_type": "code",
     "checksum": "d998aaa7a694e3ac8343dbc074d75c79",
     "grade": false,
     "grade_id": "tuples_to_dict",
     "locked": false,
     "schema_version": 3,
     "solution": true
    }
   },
   "outputs": [
    {
     "data": {
      "text/plain": [
       "[{'name': 'Alexander', 'surname': 'Thomas'},\n",
       " {'name': 'Monica', 'surname': 'Grant'},\n",
       " {'name': '美加子', 'surname': '山本'},\n",
       " {'name': '晃', 'surname': '坂本'},\n",
       " {'name': 'Nicholas', 'surname': 'White'},\n",
       " {'name': '直人', 'surname': '杉山'},\n",
       " {'name': '直人', 'surname': '山本'},\n",
       " {'name': 'Donald', 'surname': 'Dickson'},\n",
       " {'name': 'Michelangelo', 'surname': 'Giammusso'},\n",
       " {'name': 'Enzio', 'surname': 'Battelli'},\n",
       " {'name': 'Jessica', 'surname': 'Wade'},\n",
       " {'name': 'Fernanda', 'surname': 'Paruta'},\n",
       " {'name': 'Dante', 'surname': 'Comboni'},\n",
       " {'name': 'Arnulfo', 'surname': 'Terragni'},\n",
       " {'name': '陽子', 'surname': '加納'}]"
      ]
     },
     "execution_count": 3,
     "metadata": {},
     "output_type": "execute_result"
    }
   ],
   "source": [
    "\"\"\"\n",
    "Convert the list of tuples into a list of dictionaries.\n",
    "\"\"\"\n",
    "person_list = []\n",
    "for person in persons:\n",
    "    person_dic = {'name': person[0], 'surname': person[1] }\n",
    "    person_list.append(person_dic)\n",
    "\n",
    "person_list"
   ]
  },
  {
   "cell_type": "markdown",
   "metadata": {},
   "source": [
    "Your code should print `[{'name': 'Alexander', 'surname': 'Thomas'},\n",
    " {'name': 'Monica', 'surname': 'Grant'},\n",
    " {'name': '美加子', 'surname': '山本'},\n",
    " {'name': '晃', 'surname': '坂本'},\n",
    " {'name': 'Nicholas', 'surname': 'White'},\n",
    " {'name': '直人', 'surname': '杉山'},\n",
    " {'name': '直人', 'surname': '山本'},\n",
    " {'name': 'Donald', 'surname': 'Dickson'},\n",
    " {'name': 'Michelangelo', 'surname': 'Giammusso'},\n",
    " {'name': 'Enzio', 'surname': 'Battelli'},\n",
    " {'name': 'Jessica', 'surname': 'Wade'},\n",
    " {'name': 'Fernanda', 'surname': 'Paruta'},\n",
    " {'name': 'Dante', 'surname': 'Comboni'},\n",
    " {'name': 'Arnulfo', 'surname': 'Terragni'},\n",
    " {'name': '陽子', 'surname': '加納'}]` check that it does."
   ]
  },
  {
   "cell_type": "code",
   "execution_count": 4,
   "metadata": {
    "deletable": false,
    "editable": false,
    "nbgrader": {
     "cell_type": "code",
     "checksum": "8278076d6a1aa46cce603d2e8810f7a3",
     "grade": true,
     "grade_id": "correct_list",
     "locked": false,
     "points": 1,
     "schema_version": 3,
     "solution": false
    }
   },
   "outputs": [],
   "source": [
    "\"\"\"\n",
    "  Check that squares returns the correct output for several inputs.\n",
    "  The assert operator will check if a condition holds otherwise it fails\n",
    "  Optionally a message can be provided after the condition so to inform about\n",
    "  the error.\n",
    "\"\"\"\n",
    "assert person_list == [{'name': 'Alexander', 'surname': 'Thomas'},\n",
    " {'name': 'Monica', 'surname': 'Grant'},\n",
    " {'name': '美加子', 'surname': '山本'},\n",
    " {'name': '晃', 'surname': '坂本'},\n",
    " {'name': 'Nicholas', 'surname': 'White'},\n",
    " {'name': '直人', 'surname': '杉山'},\n",
    " {'name': '直人', 'surname': '山本'},\n",
    " {'name': 'Donald', 'surname': 'Dickson'},\n",
    " {'name': 'Michelangelo', 'surname': 'Giammusso'},\n",
    " {'name': 'Enzio', 'surname': 'Battelli'},\n",
    " {'name': 'Jessica', 'surname': 'Wade'},\n",
    " {'name': 'Fernanda', 'surname': 'Paruta'},\n",
    " {'name': 'Dante', 'surname': 'Comboni'},\n",
    " {'name': 'Arnulfo', 'surname': 'Terragni'},\n",
    " {'name': '陽子', 'surname': '加納'}], \"The list is incorrect\""
   ]
  },
  {
   "cell_type": "markdown",
   "metadata": {
    "deletable": false,
    "editable": false,
    "nbgrader": {
     "cell_type": "markdown",
     "checksum": "bf31d4f927b684f5b49119a5abf9f508",
     "grade": false,
     "grade_id": "cell-31313cc92ccbcf40",
     "locked": true,
     "schema_version": 3,
     "solution": false,
     "task": false
    }
   },
   "source": [
    "## Exercise 2\n",
    "\n",
    "Write the Python code to count the number of characters (character frequency) in a string `s`. The code should build a dictionary, whose keys are the single characters in the string and the values are the number of occurences. The name of the variable that accumulates the result should be `count`."
   ]
  },
  {
   "cell_type": "code",
   "execution_count": 5,
   "metadata": {
    "deletable": false,
    "nbgrader": {
     "cell_type": "code",
     "checksum": "e9773fdb3ba3bf2d6dca021a19b32cf1",
     "grade": false,
     "grade_id": "counting",
     "locked": false,
     "schema_version": 3,
     "solution": true
    }
   },
   "outputs": [
    {
     "data": {
      "text/plain": [
       "{'g': 2, 'o': 3, 'l': 1, 'e': 1, '.': 1, 'c': 1, 'm': 1}"
      ]
     },
     "execution_count": 5,
     "metadata": {},
     "output_type": "execute_result"
    }
   ],
   "source": [
    "\"\"\"\n",
    "Count the occurences of each single character in a string `s`\n",
    "\"\"\"\n",
    "s = \"google.com\"\n",
    "count = {}\n",
    "for char in s:\n",
    "    char_count = count.get(char, 0)\n",
    "    count[char] = char_count+1\n",
    "\n",
    "count"
   ]
  },
  {
   "cell_type": "markdown",
   "metadata": {},
   "source": [
    "The expected result for the string `\"google.com\"` is something like: `{'g': 2, 'o': 3, 'l': 1, 'e': 1, '.': 1, 'c': 1, 'm': 1}`."
   ]
  },
  {
   "cell_type": "code",
   "execution_count": 6,
   "metadata": {
    "deletable": false,
    "editable": false,
    "nbgrader": {
     "cell_type": "code",
     "checksum": "18ab3cf4df1ff11b2e1bedb3e29ca19d",
     "grade": true,
     "grade_id": "correct_count",
     "locked": false,
     "points": 1,
     "schema_version": 3,
     "solution": false
    }
   },
   "outputs": [],
   "source": [
    "\"\"\"Check that count is correct.\"\"\"\n",
    "assert count == {'g': 2, 'o': 3, 'l': 1, 'e': 1, '.': 1, 'c': 1, 'm': 1}"
   ]
  },
  {
   "cell_type": "markdown",
   "metadata": {
    "deletable": false,
    "editable": false,
    "nbgrader": {
     "cell_type": "markdown",
     "checksum": "cc1cc2f8a4c7ceb423e1c679d658cf94",
     "grade": false,
     "grade_id": "cell-232c44db0bbf9779",
     "locked": true,
     "schema_version": 3,
     "solution": false,
     "task": false
    }
   },
   "source": [
    "## Exercise 3\n",
    "\n",
    "Write the Python code that removes all duplicates from a list `l`. For example if the list is `[1, 5, 1, 2, 4, 2]` the result might be `[1, 2, 4, 5]'`.\n",
    "\n",
    "**Note**: there are several ways to solve this exercise."
   ]
  },
  {
   "cell_type": "code",
   "execution_count": 7,
   "metadata": {
    "deletable": false,
    "nbgrader": {
     "cell_type": "code",
     "checksum": "28d601adc3c4b9b717a5ab65679352fb",
     "grade": false,
     "grade_id": "duplicates",
     "locked": false,
     "schema_version": 3,
     "solution": true,
     "task": false
    }
   },
   "outputs": [
    {
     "data": {
      "text/plain": [
       "[1, 2, 4, 5]"
      ]
     },
     "execution_count": 7,
     "metadata": {},
     "output_type": "execute_result"
    }
   ],
   "source": [
    "\"\"\"\n",
    "Remove the duplicates from list `l`\n",
    "\"\"\"\n",
    "l = [1, 5, 1, 1, 2, 1, 2, 4, 2, 4, 2]\n",
    "s = set(l)\n",
    "l = list(s)\n",
    "\n",
    "l"
   ]
  },
  {
   "cell_type": "code",
   "execution_count": 8,
   "metadata": {
    "deletable": false,
    "editable": false,
    "nbgrader": {
     "cell_type": "code",
     "checksum": "c5d19f35eabe9c612fce44196622411c",
     "grade": true,
     "grade_id": "correct_duplicates",
     "locked": true,
     "points": 1,
     "schema_version": 3,
     "solution": false,
     "task": false
    }
   },
   "outputs": [],
   "source": [
    "\"\"\"\n",
    "Check that there is no duplicate element (i.e., all elements' count is 1)\n",
    "\"\"\"\n",
    "assert type(l) == list, \"l is not a list anymore\"\n",
    "for e in l:\n",
    "    assert l.count(e) == 1\n",
    "\n"
   ]
  },
  {
   "cell_type": "markdown",
   "metadata": {
    "deletable": false,
    "editable": false,
    "nbgrader": {
     "cell_type": "markdown",
     "checksum": "8844a008c532e7e86cfc13f5f8ef5689",
     "grade": false,
     "grade_id": "cell-3385f8c621d5ff30",
     "locked": true,
     "schema_version": 3,
     "solution": false,
     "task": false
    }
   },
   "source": [
    "## Exercise 4\n",
    "\n",
    "Given a string `s`, write the Python code that creates a new list `c` containing all the consonants of `s`. For example, if the string is `\"google.com\"` the expected result is `['g', 'g', 'l', 'c', 'm']`. The result must be stored in a list named `consonants`.\n",
    "\n",
    "**Note**: to check if a character (or a whole string) is a letter you can use the method `.isalpha()`."
   ]
  },
  {
   "cell_type": "code",
   "execution_count": 9,
   "metadata": {
    "deletable": false,
    "nbgrader": {
     "cell_type": "code",
     "checksum": "d4a534a7337ecadca00eaca916718dcb",
     "grade": false,
     "grade_id": "consonants",
     "locked": false,
     "schema_version": 3,
     "solution": true,
     "task": false
    }
   },
   "outputs": [
    {
     "data": {
      "text/plain": [
       "['g', 'g', 'l', 'c', 'm']"
      ]
     },
     "execution_count": 9,
     "metadata": {},
     "output_type": "execute_result"
    }
   ],
   "source": [
    "\"\"\"\n",
    "Extract the consonants from s\n",
    "\"\"\"\n",
    "s = \"google.com\"\n",
    "consonants = []\n",
    "for char in s:\n",
    "    if char.isalpha() and char not in 'aeiou':\n",
    "        consonants.append(char)\n",
    "\n",
    "consonants"
   ]
  },
  {
   "cell_type": "code",
   "execution_count": 10,
   "metadata": {
    "deletable": false,
    "editable": false,
    "nbgrader": {
     "cell_type": "code",
     "checksum": "6bfaa34c10505364a67408632a4f7956",
     "grade": true,
     "grade_id": "cell-6d1c1c8d818ae9de",
     "locked": true,
     "points": 0,
     "schema_version": 3,
     "solution": false,
     "task": false
    }
   },
   "outputs": [],
   "source": [
    "\"\"\"\n",
    "Checks that the variab le consonants exists, it's a list, and contains the expected result\n",
    "\"\"\"\n",
    "try:\n",
    "    consonants\n",
    "except NameError:\n",
    "    assert False, \"The variable consonants does not exists\"\n",
    "assert type(consonants) == list\n",
    "assert consonants == ['g', 'g', 'l', 'c', 'm']"
   ]
  },
  {
   "cell_type": "markdown",
   "metadata": {
    "deletable": false,
    "editable": false,
    "nbgrader": {
     "cell_type": "markdown",
     "checksum": "801b99ebf1364fd16690d8cdabe0969a",
     "grade": false,
     "grade_id": "cell-fad7f7185a609136",
     "locked": true,
     "schema_version": 3,
     "solution": false,
     "task": false
    }
   },
   "source": [
    "---\n",
    "\n",
    "# $n$-grams transformation\n",
    "\n",
    "Given a string, an $n$-gram is a subsequence of `n` consecutive characters, all in lowercase, including spaces but excluding punctuation. For example, the string `\"Ceramics collectables collectibles.\"` has the following bi-grams (i.e., $n = 2$). \n",
    "\n",
    "```\n",
    "['ce', 'er', 'ra', 'am', 'mi', 'ic', 'cs', 's ', ' c', 'co', 'ol', 'll', 'le', 'ec', 'ct', 'ta', 'ab', 'bl', 'le', 'es', 's ', ' c', 'co', 'ol', 'll', 'le', 'ec', 'ct', 'ti', 'ib', 'bl', 'le', 'es']\n",
    "\n",
    "```\n",
    "\n",
    "What is relevant, from a data analysis point of view, is the frequency of the $n$-grams, that is how often they occur.\n",
    "\n",
    "We aim at defining a set of functions that will lead to the transformation of the string into their $n$-grams frequency."
   ]
  },
  {
   "cell_type": "markdown",
   "metadata": {
    "deletable": false,
    "editable": false,
    "nbgrader": {
     "cell_type": "markdown",
     "checksum": "d0baf60d283b87e00537d7bab10ac0f3",
     "grade": false,
     "grade_id": "cell-75b69383558aa9c4",
     "locked": true,
     "schema_version": 3,
     "solution": false,
     "task": false
    }
   },
   "source": [
    "## Exercise 5\n",
    "\n",
    "Write a function `remove_punctuation(s)` that given the string `s` returns a string that corresponds to `s` with removed punctuation. For help, refer to the documentation of the `string` library which can be imported through the `import string` statement (see [https://docs.python.org/3/library/string.html](https://docs.python.org/3/library/string.html) for details)."
   ]
  },
  {
   "cell_type": "code",
   "execution_count": 11,
   "metadata": {
    "deletable": false,
    "nbgrader": {
     "cell_type": "code",
     "checksum": "a5bd5e560850f22f121313caa11685bd",
     "grade": false,
     "grade_id": "punctuation",
     "locked": false,
     "schema_version": 3,
     "solution": true,
     "task": false
    }
   },
   "outputs": [],
   "source": [
    "import string\n",
    "\n",
    "def remove_punctuation(s: str):\n",
    "    \"\"\"Removes the punctuation from the string s and returns the result\"\"\"\n",
    "    for p in string.punctuation:\n",
    "        s = s.replace(p, '')\n",
    "    return s"
   ]
  },
  {
   "cell_type": "markdown",
   "metadata": {
    "deletable": false,
    "editable": false,
    "nbgrader": {
     "cell_type": "markdown",
     "checksum": "ed1733b844e4533b2548a58cb812d60c",
     "grade": false,
     "grade_id": "cell-4c42a7927e7da491",
     "locked": true,
     "schema_version": 3,
     "solution": false,
     "task": false
    }
   },
   "source": [
    "For example, the following statement should print out `googlecom`."
   ]
  },
  {
   "cell_type": "code",
   "execution_count": 12,
   "metadata": {},
   "outputs": [
    {
     "data": {
      "text/plain": [
       "'googlecom'"
      ]
     },
     "execution_count": 12,
     "metadata": {},
     "output_type": "execute_result"
    }
   ],
   "source": [
    "remove_punctuation(\"google.com\")"
   ]
  },
  {
   "cell_type": "code",
   "execution_count": 13,
   "metadata": {
    "deletable": false,
    "editable": false,
    "nbgrader": {
     "cell_type": "code",
     "checksum": "36ae27d7496f452f12b73ce43fc8e7d6",
     "grade": true,
     "grade_id": "correct_punctuation",
     "locked": true,
     "points": 1,
     "schema_version": 3,
     "solution": false,
     "task": false
    }
   },
   "outputs": [],
   "source": [
    "assert remove_punctuation(\"google.com\") == \"googlecom\"\n",
    "assert remove_punctuation(\".,;-:\") == \"\"\n",
    "assert remove_punctuation(\"no punctuation\") == \"no punctuation\"\n",
    "assert remove_punctuation(\"no 3punct\") == \"no 3punct\""
   ]
  },
  {
   "cell_type": "markdown",
   "metadata": {
    "deletable": false,
    "editable": false,
    "nbgrader": {
     "cell_type": "markdown",
     "checksum": "0e78358f8037533cde421d606202e252",
     "grade": false,
     "grade_id": "cell-978146b456f063db",
     "locked": true,
     "schema_version": 3,
     "solution": false,
     "task": false
    }
   },
   "source": [
    "## Exercise 6\n",
    "\n",
    "Write a function `divide(s, n)` that, given the string `s` and an integer `n`, whose default value should be $2$, splits the string into the list of $n$-grams of `s`. This means that the function should remove any punctuation and should normalize the $n$-grams so they will be in lowercase. The function *must* use the `remove_punctuation()` function defined before."
   ]
  },
  {
   "cell_type": "code",
   "execution_count": 14,
   "metadata": {
    "deletable": false,
    "nbgrader": {
     "cell_type": "code",
     "checksum": "770093d887a0b9131c4288b016536268",
     "grade": false,
     "grade_id": "divide",
     "locked": false,
     "schema_version": 3,
     "solution": true,
     "task": false
    }
   },
   "outputs": [],
   "source": [
    "def divide(s: str, n=2):\n",
    "    s = s.lower()\n",
    "    s = remove_punctuation(s)\n",
    "    result = []\n",
    "    for i in range(0, len(s)-(n-1)):\n",
    "        result.append(s[i:i+n])       \n",
    "    return result"
   ]
  },
  {
   "cell_type": "code",
   "execution_count": 15,
   "metadata": {
    "deletable": false,
    "editable": false,
    "nbgrader": {
     "cell_type": "code",
     "checksum": "95ff59bc06fa1e31b7249ffd1386f2d9",
     "grade": true,
     "grade_id": "correct_divide",
     "locked": true,
     "points": 1,
     "schema_version": 3,
     "solution": false,
     "task": false
    }
   },
   "outputs": [],
   "source": [
    "assert divide(\"Ceramics collectables collectibles.\", 2) == ['ce', 'er', 'ra', 'am', 'mi', 'ic', 'cs', 's ', ' c', 'co', 'ol', 'll', 'le', 'ec', 'ct', 'ta', 'ab', 'bl', 'le', 'es', 's ', ' c', 'co', 'ol', 'll', 'le', 'ec', 'ct', 'ti', 'ib', 'bl', 'le', 'es']\n",
    "assert divide(\"Alpha Beta\") == ['al', 'lp', 'ph', 'ha', 'a ', ' b', 'be', 'et', 'ta']"
   ]
  },
  {
   "cell_type": "code",
   "execution_count": 16,
   "metadata": {
    "deletable": false,
    "editable": false,
    "nbgrader": {
     "cell_type": "code",
     "checksum": "ff5e4973d0fb32be49f9d6241c971f90",
     "grade": true,
     "grade_id": "correct_divide_2",
     "locked": true,
     "points": 1,
     "schema_version": 3,
     "solution": false,
     "task": false
    }
   },
   "outputs": [],
   "source": [
    "\"\"\"\n",
    "Checks that the function divide uses the function remove_punctuation\n",
    "It removes the name from the environment (notice that is saved in orig_remove_punctuation)\n",
    "and tries to invoke the `divide()` function expecting a failure. The `try-except-else` will be explained later.\n",
    "\"\"\"\n",
    "orig_remove_punctuation = remove_punctuation\n",
    "del remove_punctuation\n",
    "try:\n",
    "    divide(\"Something\", 2)\n",
    "except NameError:\n",
    "    pass\n",
    "else:\n",
    "    assert False, \"The divide function do not use the remove_punctuation one\"\n",
    "finally:\n",
    "    remove_punctuation = orig_remove_punctuation"
   ]
  },
  {
   "cell_type": "markdown",
   "metadata": {
    "deletable": false,
    "editable": false,
    "nbgrader": {
     "cell_type": "markdown",
     "checksum": "cb4cc12006c3f95a6b91ca66ea8f6512",
     "grade": false,
     "grade_id": "cell-5134aa39e9eae432",
     "locked": true,
     "schema_version": 3,
     "solution": false,
     "task": false
    }
   },
   "source": [
    "## Exercise 7\n",
    "\n",
    "Write a function `count_ngrams(s, n)` that, given the string `s` and the size `n` of the $n$-grams, returns a dictionary that counts the number of occurences of each $n$-gram of `s`. The function *must* use the previously defined one."
   ]
  },
  {
   "cell_type": "code",
   "execution_count": 17,
   "metadata": {
    "deletable": false,
    "nbgrader": {
     "cell_type": "code",
     "checksum": "cc2b940365b5365cae82e31c2cece26e",
     "grade": false,
     "grade_id": "ngrams",
     "locked": false,
     "schema_version": 3,
     "solution": true,
     "task": false
    }
   },
   "outputs": [],
   "source": [
    "def count_ngrams(s, n=2):\n",
    "    ngram_dict = {}\n",
    "    for ngram in divide(s, n):\n",
    "        count = ngram_dict.get(ngram, 0)\n",
    "        ngram_dict[ngram] = count+1\n",
    "    return ngram_dict"
   ]
  },
  {
   "cell_type": "code",
   "execution_count": 18,
   "metadata": {
    "deletable": false,
    "editable": false,
    "nbgrader": {
     "cell_type": "code",
     "checksum": "97666620bb4450710cadbd9343ce25d8",
     "grade": true,
     "grade_id": "correct_ngrams",
     "locked": true,
     "points": 1,
     "schema_version": 3,
     "solution": false,
     "task": false
    }
   },
   "outputs": [],
   "source": [
    "assert count_ngrams(\"Ceramics collectables collectibles.\", 2) == {'ce': 1, 'er': 1, 'ra': 1, 'am': 1, 'mi': 1, 'ic': 1, \\\n",
    "                                                                  'cs': 1, 's ': 2, ' c': 2, 'co': 2, 'ol': 2, 'll': 2, \\\n",
    "                                                                  'le': 4, 'ec': 2,  'ct': 2, 'ta': 1, 'ab': 1, 'bl': 2, \\\n",
    "                                                                  'es': 2, 'ti': 1, 'ib': 1}\n",
    "assert count_ngrams(\"Ceramics collectables collectibles.\") == {'ce': 1, 'er': 1, 'ra': 1, 'am': 1, 'mi': 1, 'ic': 1, \\\n",
    "                                                               'cs': 1, 's ': 2, ' c': 2, 'co': 2, 'ol': 2, 'll': 2, \\\n",
    "                                                               'le': 4, 'ec': 2,  'ct': 2, 'ta': 1, 'ab': 1, 'bl': 2, \\\n",
    "                                                               'es': 2, 'ti': 1, 'ib': 1}\n",
    "assert count_ngrams(\"Ceramics collectables collectibles.\", 3) == {'cer': 1, 'era': 1, 'ram': 1, 'ami': 1, 'mic': 1, \\\n",
    "                                                                  'ics': 1, 'cs ': 1, 's c': 2, ' co': 2, 'col': 2, \\\n",
    "                                                                  'oll': 2, 'lle': 2, 'lec': 2, 'ect': 2, 'cta': 1, \\\n",
    "                                                                  'tab': 1, 'abl': 1, 'ble': 2, 'les': 2, 'es ': 1, \\\n",
    "                                                                  'cti': 1, 'tib': 1, 'ibl': 1}"
   ]
  },
  {
   "cell_type": "code",
   "execution_count": 19,
   "metadata": {
    "deletable": false,
    "editable": false,
    "nbgrader": {
     "cell_type": "code",
     "checksum": "e3bcccc073ba5426656edf40b0009308",
     "grade": true,
     "grade_id": "correct_ngrams_use",
     "locked": true,
     "points": 1,
     "schema_version": 3,
     "solution": false,
     "task": false
    }
   },
   "outputs": [],
   "source": [
    "\"\"\"\n",
    "Checks that the function count_ngrams uses the function divide\n",
    "\"\"\"\n",
    "orig_divide = divide\n",
    "del divide\n",
    "try:\n",
    "    count_ngrams(\"Something\", 2)\n",
    "except NameError:\n",
    "    pass\n",
    "else:\n",
    "    assert False, \"The count_ngrams function do not use the divide one\"\n",
    "finally:\n",
    "    divide = orig_divide"
   ]
  },
  {
   "cell_type": "markdown",
   "metadata": {
    "deletable": false,
    "editable": false,
    "nbgrader": {
     "cell_type": "markdown",
     "checksum": "9a37f0a51aa5b0749d00e17ca25430c8",
     "grade": false,
     "grade_id": "ngrams_test",
     "locked": true,
     "points": 1,
     "schema_version": 3,
     "solution": false,
     "task": true
    }
   },
   "source": [
    "## Exercise 8\n",
    "\n",
    "Write a test that checks whether the dictionary keys returned by the `count_ngrams()` function have\n",
    "the right size (e.g., if the size parameter `n` is set to 3 all of them are of length 3."
   ]
  },
  {
   "cell_type": "code",
   "execution_count": 20,
   "metadata": {
    "deletable": false,
    "nbgrader": {
     "cell_type": "code",
     "checksum": "5fa6997f42c5bc5f6d36fb71de959264",
     "grade": false,
     "grade_id": "ngrams_test_answer",
     "locked": false,
     "schema_version": 3,
     "solution": true,
     "task": false
    }
   },
   "outputs": [],
   "source": [
    "s = \"djaosidj asodijas saojdia\"\n",
    "for length in range(1, 10):\n",
    "    for element in count_ngrams(s, length):\n",
    "        assert len(element) == length, \"An ngram doesn't respect the correct length\""
   ]
  }
 ],
 "metadata": {
  "kernelspec": {
   "display_name": "Python 3 (ipykernel)",
   "language": "python",
   "name": "python3"
  },
  "language_info": {
   "codemirror_mode": {
    "name": "ipython",
    "version": 3
   },
   "file_extension": ".py",
   "mimetype": "text/x-python",
   "name": "python",
   "nbconvert_exporter": "python",
   "pygments_lexer": "ipython3",
   "version": "3.10.13"
  }
 },
 "nbformat": 4,
 "nbformat_minor": 4
}
