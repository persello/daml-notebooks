{
 "cells": [
  {
   "cell_type": "code",
   "execution_count": 34,
   "metadata": {},
   "outputs": [
    {
     "name": "stdout",
     "output_type": "stream",
     "text": [
      "Dataset has been downloaded.\n"
     ]
    }
   ],
   "source": [
    "# Download the dataset to __dataset__ folder.\n",
    "# http://fsoco.cs.uni-freiburg.de/datasets/fsoco_segmentation_train.zip\n",
    "\n",
    "\n",
    "def download_dataset(url: str, destination_folder: str):\n",
    "    import os\n",
    "    import requests\n",
    "    import zipfile\n",
    "\n",
    "    if not os.path.exists(destination_folder):\n",
    "        os.makedirs(destination_folder)\n",
    "\n",
    "    # If meta.json exists, then the dataset has been downloaded.\n",
    "    if os.path.exists(os.path.join(destination_folder, \"meta.json\")):\n",
    "        print(\"Dataset has been downloaded.\")\n",
    "        return\n",
    "\n",
    "    filename = url.split(\"/\")[-1]\n",
    "    filepath = os.path.join(destination_folder, filename)\n",
    "\n",
    "    if not os.path.exists(filepath):\n",
    "        print(\"Downloading dataset...\")\n",
    "        r = requests.get(url, stream=True)\n",
    "        with open(filepath, \"wb\") as f:\n",
    "            for chunk in r.iter_content(chunk_size=1024):\n",
    "                if chunk:\n",
    "                    f.write(chunk)\n",
    "\n",
    "    print(\"Extracting dataset...\")\n",
    "    with zipfile.ZipFile(filepath) as zf:\n",
    "        zf.extractall(destination_folder)\n",
    "\n",
    "    print(\"Done.\")\n",
    "\n",
    "    # Remove the zip file.\n",
    "    os.remove(filepath)\n",
    "\n",
    "\n",
    "download_dataset(\n",
    "    \"http://fsoco.cs.uni-freiburg.de/datasets/fsoco_bounding_boxes_train.zip\",\n",
    "    \"__dataset__/boxes/supervisely\",\n",
    ")"
   ]
  },
  {
   "cell_type": "code",
   "execution_count": 35,
   "metadata": {},
   "outputs": [
    {
     "name": "stdout",
     "output_type": "stream",
     "text": [
      "YOLO structure already exists.\n"
     ]
    }
   ],
   "source": [
    "from supervisely_yolo_multiple import S2Y\n",
    "import os\n",
    "import glob\n",
    "\n",
    "\n",
    "# Convert the dataset to YOLO format.\n",
    "def convert_to_yolo(source_folder: str, destination_folder: str):\n",
    "\n",
    "\n",
    "    # Create data.yaml file.\n",
    "    if os.path.exists(destination_folder):\n",
    "        print(\"YOLO structure already exists.\")\n",
    "        return\n",
    "\n",
    "    converter = S2Y(source_folder, destination_folder, skip_copy=True)\n",
    "    class_names_array = converter.get_class_names_from_supervisely()\n",
    "    converter.create_yolo_file_structure()\n",
    "    converter.create_class_file(class_names_array)\n",
    "\n",
    "    dataset_folders = [\n",
    "        folder for folder in os.listdir(converter.supervisely_path)\n",
    "    ]\n",
    "\n",
    "    for folder in dataset_folders:\n",
    "        labels_path = converter.supervisely_path + '/' + folder + \"//ann\"\n",
    "        print(\"labels_path\", labels_path)\n",
    "        for file_path in glob.glob(os.path.join(labels_path, \"*.json\")):\n",
    "            with open(file_path) as file:\n",
    "                file_name = os.path.basename(file.name)[:-5]\n",
    "                converter.create_text_file(folder, file_name, class_names_array)\n",
    "        print(\"Yolo structure created at => {}\".format(converter.yolo_path))\n",
    "\n",
    "\n",
    "convert_to_yolo(\"__dataset__/boxes/supervisely\", \"__dataset__/boxes/yolo\")"
   ]
  },
  {
   "cell_type": "code",
   "execution_count": 36,
   "metadata": {},
   "outputs": [
    {
     "name": "stdout",
     "output_type": "stream",
     "text": [
      "data.yaml already exists.\n"
     ]
    }
   ],
   "source": [
    "import random\n",
    "import shutil\n",
    "import yaml\n",
    "import os\n",
    "\n",
    "# Create the data.yaml file and split into train, test and validate.\n",
    "def set_up_dataset(yolo_folder: str):\n",
    "    if os.path.exists(yolo_folder + \"/data.yaml\"):\n",
    "        print(\"data.yaml already exists.\")\n",
    "        return\n",
    "\n",
    "    # Create the train, test and validate folders.\n",
    "    folders = [\"train\", \"test\", \"validate\"]\n",
    "    for folder in folders:\n",
    "        if not os.path.exists(yolo_folder + '/' + folder):\n",
    "            os.makedirs(yolo_folder + \"/\" + folder)\n",
    "            os.makedirs(yolo_folder + \"/\" + folder + \"/images\")\n",
    "            os.makedirs(yolo_folder + \"/\" + folder + \"/labels\")\n",
    "\n",
    "    # Copy the images and labels to the train, test and validate folders.\n",
    "    if os.path.exists(yolo_folder + \"/images\"):\n",
    "        for file in os.listdir(yolo_folder + \"/images\"):\n",
    "\n",
    "            # Take a random number between 0 and 2.\n",
    "            random_number = random.randint(0, 2)\n",
    "            destination_folder = yolo_folder + '/' + folders[random_number]\n",
    "\n",
    "            # Copy the image and the label to the destination folder.\n",
    "            shutil.move(yolo_folder + \"/images/\" + file, destination_folder + \"/images/\" + file)\n",
    "            file_name_without_extension = os.path.splitext(file)[0]\n",
    "            shutil.move(yolo_folder + \"/labels/\" + file_name_without_extension + \".txt\", destination_folder + \"/labels/\" + file_name_without_extension + \".txt\")\n",
    "\n",
    "    # Move classes.txt to the base folder.\n",
    "    if not os.path.exists(yolo_folder + \"/classes.txt\"):\n",
    "        shutil.move(yolo_folder + \"/labels/classes.txt\", yolo_folder + \"/classes.txt\")\n",
    "\n",
    "    # Remove the images and labels folder.\n",
    "    if os.path.exists(yolo_folder + \"/images\"):\n",
    "        shutil.rmtree(yolo_folder + \"/images\")\n",
    "\n",
    "    if os.path.exists(yolo_folder + \"/labels\"):\n",
    "        shutil.rmtree(yolo_folder + \"/labels\")\n",
    "\n",
    "    # Read the classes from the classes.txt file.\n",
    "    with open(yolo_folder + \"/classes.txt\", \"r\") as file:\n",
    "        classes = file.read().splitlines()\n",
    "\n",
    "    # Create the data.yaml file.\n",
    "    data = dict(\n",
    "        names = classes,\n",
    "        nc = len(classes),\n",
    "        test = yolo_folder + \"/test/images\",\n",
    "        train = yolo_folder + \"/train/images\",\n",
    "        val = yolo_folder + \"/validate/images\"\n",
    "    )\n",
    "\n",
    "    with open(yolo_folder + \"/data.yaml\", 'w') as outfile:\n",
    "        yaml.dump(data, outfile)\n",
    "\n",
    "\n",
    "set_up_dataset(\"__dataset__/boxes/yolo\")"
   ]
  },
  {
   "cell_type": "code",
   "execution_count": 12,
   "metadata": {},
   "outputs": [
    {
     "name": "stdout",
     "output_type": "stream",
     "text": [
      "Best weights already exist.\n",
      "Ultralytics YOLOv8.1.5 🚀 Python-3.12.1 torch-2.3.0.dev20240123 CPU (Apple M1)\n",
      "\u001b[34m\u001b[1mengine/trainer: \u001b[0mtask=detect, mode=train, model=/Users/riccardopersello/Developer/daml-notebooks/exam/__models__/cones/weights/best.pt, data=/Users/riccardopersello/Developer/daml-notebooks/exam/__dataset__/boxes/yolo/data.yaml, epochs=100, time=None, patience=50, batch=16, imgsz=128, save=True, save_period=-1, cache=False, device=None, workers=0, project=/Users/riccardopersello/Developer/daml-notebooks/exam/__models__/, name=cones, exist_ok=False, pretrained=True, optimizer=auto, verbose=True, seed=0, deterministic=True, single_cls=False, rect=False, cos_lr=False, close_mosaic=10, resume=None, amp=True, fraction=1.0, profile=False, freeze=None, multi_scale=False, overlap_mask=True, mask_ratio=4, dropout=0.0, val=True, split=val, save_json=False, save_hybrid=False, conf=None, iou=0.7, max_det=300, half=False, dnn=False, plots=True, source=None, vid_stride=1, stream_buffer=False, visualize=False, augment=False, agnostic_nms=False, classes=None, retina_masks=False, embed=None, show=False, save_frames=False, save_txt=False, save_conf=False, save_crop=False, show_labels=True, show_conf=True, show_boxes=True, line_width=None, format=torchscript, keras=False, optimize=False, int8=False, dynamic=False, simplify=False, opset=None, workspace=4, nms=False, lr0=0.01, lrf=0.01, momentum=0.937, weight_decay=0.0005, warmup_epochs=3.0, warmup_momentum=0.8, warmup_bias_lr=0.0, box=7.5, cls=0.5, dfl=1.5, pose=12.0, kobj=1.0, label_smoothing=0.0, nbs=64, hsv_h=0.015, hsv_s=0.7, hsv_v=0.4, degrees=0.0, translate=0.1, scale=0.5, shear=0.0, perspective=0.0, flipud=0.0, fliplr=0.5, mosaic=1.0, mixup=0.0, copy_paste=0.0, auto_augment=randaugment, erasing=0.4, crop_fraction=1.0, cfg=None, tracker=botsort.yaml, save_dir=/Users/riccardopersello/Developer/daml-notebooks/exam/__models__/cones\n",
      "\n",
      "                   from  n    params  module                                       arguments                     \n",
      "  0                  -1  1       464  ultralytics.nn.modules.conv.Conv             [3, 16, 3, 2]                 \n",
      "  1                  -1  1      4672  ultralytics.nn.modules.conv.Conv             [16, 32, 3, 2]                \n",
      "  2                  -1  1      7360  ultralytics.nn.modules.block.C2f             [32, 32, 1, True]             \n",
      "  3                  -1  1     18560  ultralytics.nn.modules.conv.Conv             [32, 64, 3, 2]                \n",
      "  4                  -1  2     49664  ultralytics.nn.modules.block.C2f             [64, 64, 2, True]             \n",
      "  5                  -1  1     73984  ultralytics.nn.modules.conv.Conv             [64, 128, 3, 2]               \n",
      "  6                  -1  2    197632  ultralytics.nn.modules.block.C2f             [128, 128, 2, True]           \n",
      "  7                  -1  1    295424  ultralytics.nn.modules.conv.Conv             [128, 256, 3, 2]              \n",
      "  8                  -1  1    460288  ultralytics.nn.modules.block.C2f             [256, 256, 1, True]           \n",
      "  9                  -1  1    164608  ultralytics.nn.modules.block.SPPF            [256, 256, 5]                 \n",
      " 10                  -1  1         0  torch.nn.modules.upsampling.Upsample         [None, 2, 'nearest']          \n",
      " 11             [-1, 6]  1         0  ultralytics.nn.modules.conv.Concat           [1]                           \n",
      " 12                  -1  1    148224  ultralytics.nn.modules.block.C2f             [384, 128, 1]                 \n",
      " 13                  -1  1         0  torch.nn.modules.upsampling.Upsample         [None, 2, 'nearest']          \n",
      " 14             [-1, 4]  1         0  ultralytics.nn.modules.conv.Concat           [1]                           \n",
      " 15                  -1  1     37248  ultralytics.nn.modules.block.C2f             [192, 64, 1]                  \n",
      " 16                  -1  1     36992  ultralytics.nn.modules.conv.Conv             [64, 64, 3, 2]                \n",
      " 17            [-1, 12]  1         0  ultralytics.nn.modules.conv.Concat           [1]                           \n",
      " 18                  -1  1    123648  ultralytics.nn.modules.block.C2f             [192, 128, 1]                 \n",
      " 19                  -1  1    147712  ultralytics.nn.modules.conv.Conv             [128, 128, 3, 2]              \n",
      " 20             [-1, 9]  1         0  ultralytics.nn.modules.conv.Concat           [1]                           \n",
      " 21                  -1  1    493056  ultralytics.nn.modules.block.C2f             [384, 256, 1]                 \n",
      " 22        [15, 18, 21]  1    753262  ultralytics.nn.modules.head.Detect           [10, [64, 128, 256]]          \n",
      "YOLOv8n summary: 225 layers, 3012798 parameters, 3012782 gradients\n",
      "\n",
      "Transferred 355/355 items from pretrained weights\n",
      "Freezing layer 'model.22.dfl.conv.weight'\n"
     ]
    },
    {
     "name": "stderr",
     "output_type": "stream",
     "text": [
      "\u001b[34m\u001b[1mtrain: \u001b[0mScanning /Users/riccardopersello/Developer/daml-notebooks/exam/__dataset__/boxes/yolo/train/labels.cache... 3865 images, 0 backgrounds, 0 corrupt: 100%|██████████| 3865/3865 [00:00<?, ?it/s]\n",
      "\u001b[34m\u001b[1mval: \u001b[0mScanning /Users/riccardopersello/Developer/daml-notebooks/exam/__dataset__/boxes/yolo/validate/labels.cache... 3944 images, 0 backgrounds, 0 corrupt: 100%|██████████| 3944/3944 [00:00<?, ?it/s]"
     ]
    },
    {
     "name": "stdout",
     "output_type": "stream",
     "text": [
      "Plotting labels to /Users/riccardopersello/Developer/daml-notebooks/exam/__models__/cones/labels.jpg... \n"
     ]
    },
    {
     "name": "stderr",
     "output_type": "stream",
     "text": [
      "\n"
     ]
    },
    {
     "name": "stdout",
     "output_type": "stream",
     "text": [
      "\u001b[34m\u001b[1moptimizer:\u001b[0m 'optimizer=auto' found, ignoring 'lr0=0.01' and 'momentum=0.937' and determining best 'optimizer', 'lr0' and 'momentum' automatically... \n",
      "\u001b[34m\u001b[1moptimizer:\u001b[0m AdamW(lr=0.000714, momentum=0.9) with parameter groups 57 weight(decay=0.0), 64 weight(decay=0.0005), 63 bias(decay=0.0)\n",
      "Resuming training from /Users/riccardopersello/Developer/daml-notebooks/exam/__models__/cones/weights/best.pt from epoch 2 to 100 total epochs\n",
      "Image sizes 128 train, 128 val\n",
      "Using 0 dataloader workers\n",
      "Logging results to \u001b[1m/Users/riccardopersello/Developer/daml-notebooks/exam/__models__/cones\u001b[0m\n",
      "Starting training for 100 epochs...\n",
      "\n",
      "      Epoch    GPU_mem   box_loss   cls_loss   dfl_loss  Instances       Size\n"
     ]
    },
    {
     "name": "stderr",
     "output_type": "stream",
     "text": [
      "      2/100         0G      2.628      4.938      1.074        103        128:  38%|███▊      | 93/242 [01:36<02:24,  1.03it/s]"
     ]
    }
   ],
   "source": [
    "import os\n",
    "from ultralytics import YOLO\n",
    "\n",
    "# Training.\n",
    "# Check if best weights exist.\n",
    "notebook_path = os.getcwd()\n",
    "best_path = notebook_path + '/__models__/cones/weights/best.pt'\n",
    "if os.path.exists(best_path):\n",
    "    print(\"Best weights already exist.\")\n",
    "    model = YOLO(best_path)\n",
    "else:\n",
    "    model = YOLO(\"yolov8n.yaml\")\n",
    "\n",
    "results = model.train(data=notebook_path + '/__dataset__/boxes/yolo/data.yaml', epochs=100, imgsz=128, resume=True, project=notebook_path + '/__models__/', name='cones')\n"
   ]
  }
 ],
 "metadata": {
  "kernelspec": {
   "display_name": "daml",
   "language": "python",
   "name": "python3"
  },
  "language_info": {
   "codemirror_mode": {
    "name": "ipython",
    "version": 3
   },
   "file_extension": ".py",
   "mimetype": "text/x-python",
   "name": "python",
   "nbconvert_exporter": "python",
   "pygments_lexer": "ipython3",
   "version": "3.12.1"
  }
 },
 "nbformat": 4,
 "nbformat_minor": 2
}
