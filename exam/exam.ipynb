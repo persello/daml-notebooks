{
 "cells": [
  {
   "cell_type": "code",
   "execution_count": 5,
   "metadata": {},
   "outputs": [
    {
     "name": "stdout",
     "output_type": "stream",
     "text": [
      "Dataset has been downloaded.\n"
     ]
    }
   ],
   "source": [
    "# Download the dataset to __dataset__ folder.\n",
    "# http://fsoco.cs.uni-freiburg.de/datasets/fsoco_segmentation_train.zip\n",
    "\n",
    "\n",
    "def download_dataset(url: str, destination_folder: str):\n",
    "    import os\n",
    "    import requests\n",
    "    import zipfile\n",
    "\n",
    "    if not os.path.exists(destination_folder):\n",
    "        os.makedirs(destination_folder)\n",
    "\n",
    "    # If meta.json exists, then the dataset has been downloaded.\n",
    "    if os.path.exists(os.path.join(destination_folder, \"meta.json\")):\n",
    "        print(\"Dataset has been downloaded.\")\n",
    "        return\n",
    "\n",
    "    filename = url.split(\"/\")[-1]\n",
    "    filepath = os.path.join(destination_folder, filename)\n",
    "\n",
    "    if not os.path.exists(filepath):\n",
    "        print(\"Downloading dataset...\")\n",
    "        r = requests.get(url, stream=True)\n",
    "        with open(filepath, \"wb\") as f:\n",
    "            for chunk in r.iter_content(chunk_size=1024):\n",
    "                if chunk:\n",
    "                    f.write(chunk)\n",
    "\n",
    "    print(\"Extracting dataset...\")\n",
    "    with zipfile.ZipFile(filepath) as zf:\n",
    "        zf.extractall(destination_folder)\n",
    "\n",
    "    print(\"Done.\")\n",
    "\n",
    "    # Remove the zip file.\n",
    "    os.remove(filepath)\n",
    "\n",
    "\n",
    "download_dataset(\n",
    "    \"http://fsoco.cs.uni-freiburg.de/datasets/fsoco_boxes_train.zip\",\n",
    "    \"__dataset__/boxes/supervisely\",\n",
    ")"
   ]
  },
  {
   "cell_type": "code",
   "execution_count": 6,
   "metadata": {},
   "outputs": [
    {
     "name": "stdout",
     "output_type": "stream",
     "text": [
      "YOLO structure already exists.\n"
     ]
    }
   ],
   "source": [
    "from supervisely_yolo_multiple import S2Y\n",
    "import os\n",
    "import glob\n",
    "\n",
    "\n",
    "# Convert the dataset to YOLO format.\n",
    "def convert_to_yolo(source_folder: str, destination_folder: str):\n",
    "\n",
    "\n",
    "    # Create data.yaml file.\n",
    "    if os.path.exists(destination_folder):\n",
    "        print(\"YOLO structure already exists.\")\n",
    "        return\n",
    "\n",
    "    converter = S2Y(source_folder, destination_folder, skip_copy=True)\n",
    "    class_names_array = converter.get_class_names_from_supervisely()\n",
    "    converter.create_yolo_file_structure()\n",
    "    converter.create_class_file(class_names_array)\n",
    "\n",
    "    dataset_folders = [\n",
    "        folder for folder in os.listdir(converter.supervisely_path)\n",
    "    ]\n",
    "\n",
    "    for folder in dataset_folders:\n",
    "        labels_path = converter.supervisely_path + '/' + folder + \"//ann\"\n",
    "        print(\"labels_path\", labels_path)\n",
    "        for file_path in glob.glob(os.path.join(labels_path, \"*.json\")):\n",
    "            with open(file_path) as file:\n",
    "                file_name = os.path.basename(file.name)[:-5]\n",
    "                converter.create_text_file(folder, file_name, class_names_array)\n",
    "        print(\"Yolo structure created at => {}\".format(converter.yolo_path))\n",
    "\n",
    "\n",
    "convert_to_yolo(\"__dataset__/boxes/supervisely\", \"__dataset__/boxes/yolo\")"
   ]
  },
  {
   "cell_type": "code",
   "execution_count": 8,
   "metadata": {},
   "outputs": [
    {
     "ename": "FileNotFoundError",
     "evalue": "[Errno 2] No such file or directory: '__dataset__/boxes/yolo/labels/amz_02155.txt'",
     "output_type": "error",
     "traceback": [
      "\u001b[0;31m---------------------------------------------------------------------------\u001b[0m",
      "\u001b[0;31mFileNotFoundError\u001b[0m                         Traceback (most recent call last)",
      "File \u001b[0;32m/opt/homebrew/Caskroom/miniconda/base/envs/daml/lib/python3.10/shutil.py:816\u001b[0m, in \u001b[0;36mmove\u001b[0;34m(src, dst, copy_function)\u001b[0m\n\u001b[1;32m    815\u001b[0m \u001b[38;5;28;01mtry\u001b[39;00m:\n\u001b[0;32m--> 816\u001b[0m     \u001b[43mos\u001b[49m\u001b[38;5;241;43m.\u001b[39;49m\u001b[43mrename\u001b[49m\u001b[43m(\u001b[49m\u001b[43msrc\u001b[49m\u001b[43m,\u001b[49m\u001b[43m \u001b[49m\u001b[43mreal_dst\u001b[49m\u001b[43m)\u001b[49m\n\u001b[1;32m    817\u001b[0m \u001b[38;5;28;01mexcept\u001b[39;00m \u001b[38;5;167;01mOSError\u001b[39;00m:\n",
      "\u001b[0;31mFileNotFoundError\u001b[0m: [Errno 2] No such file or directory: '__dataset__/boxes/yolo/labels/amz_02155.txt' -> '__dataset__/boxes/yolo/train/labels/amz_02155.txt'",
      "\nDuring handling of the above exception, another exception occurred:\n",
      "\u001b[0;31mFileNotFoundError\u001b[0m                         Traceback (most recent call last)",
      "Cell \u001b[0;32mIn[8], line 34\u001b[0m\n\u001b[1;32m     32\u001b[0m     shutil\u001b[38;5;241m.\u001b[39mmove(\u001b[38;5;124m\"\u001b[39m\u001b[38;5;124m__dataset__/boxes/yolo/images/\u001b[39m\u001b[38;5;124m\"\u001b[39m \u001b[38;5;241m+\u001b[39m file, destination_folder \u001b[38;5;241m+\u001b[39m \u001b[38;5;124m\"\u001b[39m\u001b[38;5;124m/images/\u001b[39m\u001b[38;5;124m\"\u001b[39m \u001b[38;5;241m+\u001b[39m file)\n\u001b[1;32m     33\u001b[0m     file_name_without_extension \u001b[38;5;241m=\u001b[39m os\u001b[38;5;241m.\u001b[39mpath\u001b[38;5;241m.\u001b[39msplitext(file)[\u001b[38;5;241m0\u001b[39m]\n\u001b[0;32m---> 34\u001b[0m     \u001b[43mshutil\u001b[49m\u001b[38;5;241;43m.\u001b[39;49m\u001b[43mmove\u001b[49m\u001b[43m(\u001b[49m\u001b[38;5;124;43m\"\u001b[39;49m\u001b[38;5;124;43m__dataset__/boxes/yolo/labels/\u001b[39;49m\u001b[38;5;124;43m\"\u001b[39;49m\u001b[43m \u001b[49m\u001b[38;5;241;43m+\u001b[39;49m\u001b[43m \u001b[49m\u001b[43mfile_name_without_extension\u001b[49m\u001b[43m \u001b[49m\u001b[38;5;241;43m+\u001b[39;49m\u001b[43m \u001b[49m\u001b[38;5;124;43m\"\u001b[39;49m\u001b[38;5;124;43m.txt\u001b[39;49m\u001b[38;5;124;43m\"\u001b[39;49m\u001b[43m,\u001b[49m\u001b[43m \u001b[49m\u001b[43mdestination_folder\u001b[49m\u001b[43m \u001b[49m\u001b[38;5;241;43m+\u001b[39;49m\u001b[43m \u001b[49m\u001b[38;5;124;43m\"\u001b[39;49m\u001b[38;5;124;43m/labels/\u001b[39;49m\u001b[38;5;124;43m\"\u001b[39;49m\u001b[43m \u001b[49m\u001b[38;5;241;43m+\u001b[39;49m\u001b[43m \u001b[49m\u001b[43mfile_name_without_extension\u001b[49m\u001b[43m \u001b[49m\u001b[38;5;241;43m+\u001b[39;49m\u001b[43m \u001b[49m\u001b[38;5;124;43m\"\u001b[39;49m\u001b[38;5;124;43m.txt\u001b[39;49m\u001b[38;5;124;43m\"\u001b[39;49m\u001b[43m)\u001b[49m\n\u001b[1;32m     36\u001b[0m \u001b[38;5;66;03m# Create the data.yaml file.\u001b[39;00m\n\u001b[1;32m     37\u001b[0m data \u001b[38;5;241m=\u001b[39m {\n\u001b[1;32m     38\u001b[0m     \u001b[38;5;124m'\u001b[39m\u001b[38;5;124mnames\u001b[39m\u001b[38;5;124m'\u001b[39m: classes\u001b[38;5;241m.\u001b[39mtolist(),\n\u001b[1;32m     39\u001b[0m     \u001b[38;5;124m'\u001b[39m\u001b[38;5;124mnc\u001b[39m\u001b[38;5;124m'\u001b[39m: \u001b[38;5;28mlen\u001b[39m(classes),\n\u001b[0;32m   (...)\u001b[0m\n\u001b[1;32m     42\u001b[0m     \u001b[38;5;124m'\u001b[39m\u001b[38;5;124mval\u001b[39m\u001b[38;5;124m'\u001b[39m: \u001b[38;5;124m'\u001b[39m\u001b[38;5;124m__dataset__/boxes/yolo/validate/images\u001b[39m\u001b[38;5;124m'\u001b[39m\n\u001b[1;32m     43\u001b[0m }\n",
      "File \u001b[0;32m/opt/homebrew/Caskroom/miniconda/base/envs/daml/lib/python3.10/shutil.py:836\u001b[0m, in \u001b[0;36mmove\u001b[0;34m(src, dst, copy_function)\u001b[0m\n\u001b[1;32m    834\u001b[0m         rmtree(src)\n\u001b[1;32m    835\u001b[0m     \u001b[38;5;28;01melse\u001b[39;00m:\n\u001b[0;32m--> 836\u001b[0m         \u001b[43mcopy_function\u001b[49m\u001b[43m(\u001b[49m\u001b[43msrc\u001b[49m\u001b[43m,\u001b[49m\u001b[43m \u001b[49m\u001b[43mreal_dst\u001b[49m\u001b[43m)\u001b[49m\n\u001b[1;32m    837\u001b[0m         os\u001b[38;5;241m.\u001b[39munlink(src)\n\u001b[1;32m    838\u001b[0m \u001b[38;5;28;01mreturn\u001b[39;00m real_dst\n",
      "File \u001b[0;32m/opt/homebrew/Caskroom/miniconda/base/envs/daml/lib/python3.10/shutil.py:434\u001b[0m, in \u001b[0;36mcopy2\u001b[0;34m(src, dst, follow_symlinks)\u001b[0m\n\u001b[1;32m    432\u001b[0m \u001b[38;5;28;01mif\u001b[39;00m os\u001b[38;5;241m.\u001b[39mpath\u001b[38;5;241m.\u001b[39misdir(dst):\n\u001b[1;32m    433\u001b[0m     dst \u001b[38;5;241m=\u001b[39m os\u001b[38;5;241m.\u001b[39mpath\u001b[38;5;241m.\u001b[39mjoin(dst, os\u001b[38;5;241m.\u001b[39mpath\u001b[38;5;241m.\u001b[39mbasename(src))\n\u001b[0;32m--> 434\u001b[0m \u001b[43mcopyfile\u001b[49m\u001b[43m(\u001b[49m\u001b[43msrc\u001b[49m\u001b[43m,\u001b[49m\u001b[43m \u001b[49m\u001b[43mdst\u001b[49m\u001b[43m,\u001b[49m\u001b[43m \u001b[49m\u001b[43mfollow_symlinks\u001b[49m\u001b[38;5;241;43m=\u001b[39;49m\u001b[43mfollow_symlinks\u001b[49m\u001b[43m)\u001b[49m\n\u001b[1;32m    435\u001b[0m copystat(src, dst, follow_symlinks\u001b[38;5;241m=\u001b[39mfollow_symlinks)\n\u001b[1;32m    436\u001b[0m \u001b[38;5;28;01mreturn\u001b[39;00m dst\n",
      "File \u001b[0;32m/opt/homebrew/Caskroom/miniconda/base/envs/daml/lib/python3.10/shutil.py:254\u001b[0m, in \u001b[0;36mcopyfile\u001b[0;34m(src, dst, follow_symlinks)\u001b[0m\n\u001b[1;32m    252\u001b[0m     os\u001b[38;5;241m.\u001b[39msymlink(os\u001b[38;5;241m.\u001b[39mreadlink(src), dst)\n\u001b[1;32m    253\u001b[0m \u001b[38;5;28;01melse\u001b[39;00m:\n\u001b[0;32m--> 254\u001b[0m     \u001b[38;5;28;01mwith\u001b[39;00m \u001b[38;5;28;43mopen\u001b[39;49m\u001b[43m(\u001b[49m\u001b[43msrc\u001b[49m\u001b[43m,\u001b[49m\u001b[43m \u001b[49m\u001b[38;5;124;43m'\u001b[39;49m\u001b[38;5;124;43mrb\u001b[39;49m\u001b[38;5;124;43m'\u001b[39;49m\u001b[43m)\u001b[49m \u001b[38;5;28;01mas\u001b[39;00m fsrc:\n\u001b[1;32m    255\u001b[0m         \u001b[38;5;28;01mtry\u001b[39;00m:\n\u001b[1;32m    256\u001b[0m             \u001b[38;5;28;01mwith\u001b[39;00m \u001b[38;5;28mopen\u001b[39m(dst, \u001b[38;5;124m'\u001b[39m\u001b[38;5;124mwb\u001b[39m\u001b[38;5;124m'\u001b[39m) \u001b[38;5;28;01mas\u001b[39;00m fdst:\n\u001b[1;32m    257\u001b[0m                 \u001b[38;5;66;03m# macOS\u001b[39;00m\n",
      "\u001b[0;31mFileNotFoundError\u001b[0m: [Errno 2] No such file or directory: '__dataset__/boxes/yolo/labels/amz_02155.txt'"
     ]
    }
   ],
   "source": [
    "# Create the data.yaml file and split into train, test and validate.\n",
    "\n",
    "if os.path.exists(\"__dataset__/boxes/yolo/data.yaml\"):\n",
    "    print(\"data.yaml already exists.\")\n",
    "    exit()\n",
    "\n",
    "# Read the classes from the supervisely folder.\n",
    "import json\n",
    "supervisely_meta = json.load(open(\"__dataset__/boxes/supervisely/meta.json\"))\n",
    "classes = map(lambda x: x[\"title\"], supervisely_meta[\"classes\"])\n",
    "\n",
    "# Split the dataset into train, test and validate.\n",
    "import random\n",
    "import shutil\n",
    "\n",
    "# Create the train, test and validate folders.\n",
    "folders = [\"train\", \"test\", \"validate\"]\n",
    "for folder in folders:\n",
    "    if not os.path.exists(\"__dataset__/boxes/yolo/\" + folder):\n",
    "        os.makedirs(\"__dataset__/boxes/yolo/\" + folder)\n",
    "        os.makedirs(\"__dataset__/boxes/yolo/\" + folder + \"/images\")\n",
    "        os.makedirs(\"__dataset__/boxes/yolo/\" + folder + \"/labels\")\n",
    "\n",
    "# Copy the images and labels to the train, test and validate folders.\n",
    "for file in os.listdir(\"__dataset__/boxes/yolo/images\"):\n",
    "\n",
    "    # Take a random number between 0 and 2.\n",
    "    random_number = random.randint(0, 2)\n",
    "    destination_folder = \"__dataset__/boxes/yolo/\" + folders[random_number]\n",
    "\n",
    "    # Copy the image and the label to the destination folder.\n",
    "    shutil.move(\"__dataset__/boxes/yolo/images/\" + file, destination_folder + \"/images/\" + file)\n",
    "    file_name_without_extension = os.path.splitext(file)[0]\n",
    "    shutil.move(\"__dataset__/boxes/yolo/labels/\" + file_name_without_extension + \".txt\", destination_folder + \"/labels/\" + file_name_without_extension + \".txt\")\n",
    "\n",
    "# Create the data.yaml file.\n",
    "data = {\n",
    "    'names': classes.tolist(),\n",
    "    'nc': len(classes),\n",
    "    'test': '__dataset__/boxes/yolo/test/images',\n",
    "    'train': '__dataset__/boxes/yolo/train/images',\n",
    "    'val': '__dataset__/boxes/yolo/validate/images'\n",
    "}"
   ]
  }
 ],
 "metadata": {
  "kernelspec": {
   "display_name": "daml",
   "language": "python",
   "name": "python3"
  },
  "language_info": {
   "codemirror_mode": {
    "name": "ipython",
    "version": 3
   },
   "file_extension": ".py",
   "mimetype": "text/x-python",
   "name": "python",
   "nbconvert_exporter": "python",
   "pygments_lexer": "ipython3",
   "version": "3.10.13"
  }
 },
 "nbformat": 4,
 "nbformat_minor": 2
}
