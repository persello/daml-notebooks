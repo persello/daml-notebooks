{
 "cells": [
  {
   "cell_type": "markdown",
   "metadata": {},
   "source": [
    "## General instructions\n",
    "\n",
    "Before you turn this problem in, make sure everything runs as expected. First, **restart the kernel/runtime** (Colab: in the menubar, select *Runtime*$\\rightarrow$*Factory Reset Runtime*; Jupyter: in the menubar, select *Kernel*$\\rightarrow$*Restart*) and then **run all cells** (Colab: in the menubar, select *Runtime*$\\rightarrow$*Run all*; Jupyter: in the menubar, select *Cell*$\\rightarrow$*Run All*).\n",
    "\n",
    "Make sure you fill in any place that says `YOUR CODE HERE` or `\"YOUR ANSWER HERE\"`, as well as the list of the group members in the following cell."
   ]
  },
  {
   "cell_type": "markdown",
   "metadata": {},
   "source": [
    "Enter here the *Group Name* and the list of *Group Members*.\n",
    "\n",
    "`Doi eletronics`\n",
    "\n",
    "`Burco Lorenzo, Persello Riccardo`"
   ]
  },
  {
   "cell_type": "markdown",
   "metadata": {},
   "source": [
    "In order to be able to have an evaluation DO NOT delete/cut the cells with code and answers. Once you have finished you can downolad the notebook (Colab: in the menubar, select *File*$\\rightarrow$*Download .ipynb*; Jupyter: in the menubar, select *File*$\\rightarrow$*Download as*$\\rightarrow$*Notebook (.ipynb)*) and upload as an assignment on the e-learning platform.\n",
    "\n",
    "The following cell will load the Google Drive extension for the current notebook, when the variable `MOUNT` is `True`. This allow you to mount the Google Drive filesystem for file persistence. The mountpoint will be `/content/gdrive`.\n",
    "Furthermore, it will set the `PATH` variable, from now on, so that if you have to refer to external files you could do that by writing:\n",
    "\n",
    "```python\n",
    "os.path.join(PATH, filename)\n",
    "```\n",
    "\n",
    "This will append the filename after the specific PATH."
   ]
  },
  {
   "cell_type": "code",
   "execution_count": 301,
   "metadata": {},
   "outputs": [],
   "source": [
    "import os\n",
    "MOUNT = False\n",
    "if 'google.colab' in str(get_ipython()) and MOUNT:\n",
    "    from google.colab import drive\n",
    "    drive.mount('/content/gdrive')\n",
    "    PATH = '/content/gdrive/MyDrive'\n",
    "else:\n",
    "    PATH = '.'"
   ]
  },
  {
   "cell_type": "markdown",
   "metadata": {},
   "source": [
    "# Important warning\n",
    "\n",
    "**⚠️ avoid copying, removing or modifying test cells, if you do that your assignment might be graded wrongly ⚠️**"
   ]
  },
  {
   "cell_type": "markdown",
   "metadata": {},
   "source": [
    "---"
   ]
  },
  {
   "cell_type": "markdown",
   "metadata": {
    "deletable": false,
    "editable": false,
    "nbgrader": {
     "cell_type": "markdown",
     "checksum": "ad5c8f41fdda92f4e762efa39be873ee",
     "grade": false,
     "grade_id": "cell-31313cc92ccbcf40",
     "locked": true,
     "schema_version": 3,
     "solution": false,
     "task": false
    }
   },
   "source": [
    "## Exercise 1\n",
    "\n",
    "For memory efficiency, we do not want to store those values into a container but we aim at creating them in sequence when needed. For this purpose we want to define a generator function `prime_generator(n)` that will generate, one after another, the first $n$ prime numbers. That is, when the function is called for the next element it will `yield`s the next prime number."
   ]
  },
  {
   "cell_type": "code",
   "execution_count": 302,
   "metadata": {},
   "outputs": [],
   "source": [
    "\"\"\"\n",
    "Function prime\n",
    "\"\"\"\n",
    "def is_prime(n):\n",
    "    if n == 0 or n == 1:\n",
    "        return False\n",
    "    for i in range(2, n // 2 + 1):\n",
    "        if n % i == 0:\n",
    "            return False\n",
    "    return True "
   ]
  },
  {
   "cell_type": "code",
   "execution_count": 303,
   "metadata": {
    "deletable": false,
    "nbgrader": {
     "cell_type": "code",
     "checksum": "5001f0b4040ba98b8a40ca06f342faad",
     "grade": false,
     "grade_id": "generator",
     "locked": false,
     "schema_version": 3,
     "solution": true
    }
   },
   "outputs": [
    {
     "data": {
      "text/plain": [
       "[2, 3, 5, 7, 11, 13, 17, 19, 23, 29]"
      ]
     },
     "execution_count": 303,
     "metadata": {},
     "output_type": "execute_result"
    }
   ],
   "source": [
    "\"\"\"\n",
    "Fill the generator that yields the first n prime numbers.\n",
    "The first two primes (2 and 3) are yielded directly so to possibly skip even numbers later in the code\n",
    "\"\"\"\n",
    "def prime_generator(n):\n",
    "    if n <= 0:\n",
    "        return None\n",
    "    current = 2\n",
    "    yield current\n",
    "    if n > 1:\n",
    "        current = 3\n",
    "        yield current\n",
    "        # the first two primes are 2 and 3, they are yielded directly so after we can skip even numbers\n",
    "        for i in range(2, n):\n",
    "            current += 1\n",
    "            \n",
    "            while not is_prime(current):\n",
    "                current += 1\n",
    "            \n",
    "            yield current\n",
    "list(prime_generator(10))"
   ]
  },
  {
   "cell_type": "code",
   "execution_count": 304,
   "metadata": {
    "deletable": false,
    "editable": false,
    "nbgrader": {
     "cell_type": "code",
     "checksum": "36908fb6dcd95cc1992ac3a6f8b532e7",
     "grade": true,
     "grade_id": "correct_generator",
     "locked": false,
     "points": 1,
     "schema_version": 3,
     "solution": false
    }
   },
   "outputs": [],
   "source": [
    "\"\"\"Check that the generator is correct.\"\"\"\n",
    "import types\n",
    "assert type(prime_generator(1)) == types.GeneratorType, \"You haven't defined a generator\"\n",
    "assert list(prime_generator(10)) == [2, 3, 5, 7, 11, 13, 17, 19, 23, 29]\n",
    "for v in prime_generator(10):\n",
    "    assert is_prime(v), f\"{v} generated as a prime number but it is not\""
   ]
  },
  {
   "cell_type": "markdown",
   "metadata": {
    "deletable": false,
    "nbgrader": {
     "cell_type": "markdown",
     "checksum": "e4a6c3f3f0ec5c6e48d39d32377d40f6",
     "grade": true,
     "grade_id": "cell-8dd881f054bcafb7",
     "locked": false,
     "points": 1,
     "schema_version": 3,
     "solution": true,
     "task": false
    }
   },
   "source": [
    "YOUR ANSWER HERE"
   ]
  },
  {
   "cell_type": "markdown",
   "metadata": {
    "deletable": false,
    "editable": false,
    "nbgrader": {
     "cell_type": "markdown",
     "checksum": "635f55e585f4bbde7f7a79f64a98c66c",
     "grade": false,
     "grade_id": "cell-232c44db0bbf9779",
     "locked": true,
     "schema_version": 3,
     "solution": false,
     "task": false
    }
   },
   "source": [
    "## Exercise 2\n",
    "\n",
    "Try to define a *fibonacci* generator, i.e. a generator that will generate a sequence of Fibonacci numbers (i.e., $0, 1, 1, 2, 3, 5, 8, 11, \\ldots$). This will be a possibly *infinite* generator, meaning that it does not stop after a limit on the number of values generated and, therefore, it is not advisable to use it in a `list()` conversion expression. It is meant to be used, for example, for the search of a fibonacci number that is above a threshold value as in the following code:\n",
    "\n",
    "```python\n",
    "for f in fibonacci_generator():\n",
    "    if f > threshold:\n",
    "        break\n",
    "```"
   ]
  },
  {
   "cell_type": "code",
   "execution_count": 305,
   "metadata": {
    "deletable": false,
    "nbgrader": {
     "cell_type": "code",
     "checksum": "b3c318e73d1414f10690ca17e5ff8183",
     "grade": false,
     "grade_id": "fibonacci_generator",
     "locked": false,
     "schema_version": 3,
     "solution": true,
     "task": false
    }
   },
   "outputs": [
    {
     "name": "stdout",
     "output_type": "stream",
     "text": [
      "610 is the first fibonacci number greater than 400\n"
     ]
    }
   ],
   "source": [
    "\"\"\"\n",
    "Fibonacci generator\n",
    "Suggestions: \n",
    "- yield directly the first two fibonacci numbers and then keep the last number and the last-but-one \n",
    "number in variables to proceed on the sequence\n",
    "- in order to create an infinite sequence you must use a `while True:` statement, notice that this does not mean\n",
    "that enters an infinite loop, because the yield operator will stop the loop by yielding the values\n",
    "\"\"\"\n",
    "def fibonacci_generator():\n",
    "    (lo, l) = (0, 1)\n",
    "    yield lo\n",
    "    yield l\n",
    "\n",
    "    while True:\n",
    "        yield l + lo\n",
    "        (lo, l) = (l, l + lo)\n",
    "\n",
    "    \n",
    "for f in fibonacci_generator():\n",
    "    if f > 400:\n",
    "        break\n",
    "print(f, \"is the first fibonacci number greater than 400\")"
   ]
  },
  {
   "cell_type": "code",
   "execution_count": 306,
   "metadata": {
    "deletable": false,
    "editable": false,
    "nbgrader": {
     "cell_type": "code",
     "checksum": "f7d25856e346374f8d46c85a887fd1bb",
     "grade": true,
     "grade_id": "check_fibonacci_generator",
     "locked": true,
     "points": 1,
     "schema_version": 3,
     "solution": false,
     "task": false
    }
   },
   "outputs": [],
   "source": [
    "\"\"\"Check that the generator is correct.\"\"\"\n",
    "import types\n",
    "g = fibonacci_generator()\n",
    "assert type(g) == types.GeneratorType, \"You haven't defined a generator\"\n",
    "p, l = next(g), next(g)\n",
    "assert p == 0 and l == 1, \"One of those are not correct fibonacci numbers\"\n",
    "for i in range(1000): # check the generator for 1000 numbers\n",
    "    f = next(g)\n",
    "    assert f == p + l, f\"{f} is not a correct fibonacci number\"\n",
    "    p, l = l, f"
   ]
  },
  {
   "cell_type": "markdown",
   "metadata": {
    "deletable": false,
    "editable": false,
    "nbgrader": {
     "cell_type": "markdown",
     "checksum": "ec2816d3c28bec29714adbb3b00ad31d",
     "grade": false,
     "grade_id": "cell-1c42161c294fac11",
     "locked": true,
     "schema_version": 3,
     "solution": false,
     "task": false
    }
   },
   "source": [
    "We want to make a textual analysis of the book **War and Peace** by *Leo Tolstoy*. To this aim you will find the book text in the file `book-war-and-peace.txt` which is distributed along with this notebook.\n",
    "\n",
    "If you give a look at the file, you might notice that the format is the following one:\n",
    "\n",
    "```\n",
    "CHAPTER I\n",
    "\n",
    "\"Well, Prince, so Genoa and Lucca are now just family estates of the\n",
    "Buonapartes. But I warn you, if you don't tell me that this means war,\n",
    "if you still try to defend the infamies and horrors perpetrated by that\n",
    "Antichrist--I really believe he is Antichrist--I will have nothing more\n",
    "to do with you and you are no longer my friend, no longer my 'faithful\n",
    "slave,' as you call yourself! But how do you do? I see I have frightened\n",
    "you--sit down and tell me all the news.\"\n",
    "\n",
    "It was in July, 1805, and the speaker was the well-known Anna Pavlovna\n",
    "Scherer, maid of honor and favorite of the Empress Marya Fedorovna. With\n",
    "these words she greeted Prince Vasili Kuragin, a man of high rank and\n",
    "importance, who was the first to arrive at her reception. Anna Pavlovna\n",
    "had had a cough for some days. She was, as she said, suffering from la\n",
    "grippe; grippe being then a new word in St. Petersburg, used only by the\n",
    "elite.\n",
    "```\n",
    "\n",
    "The paragraphs are split in multiple lines and there is one (or more) empty newline(s) among them but sentences can spread to multiple lines. Since we would like to specifically deal with sentences we want to recombine them so that they will represented as a whole."
   ]
  },
  {
   "cell_type": "markdown",
   "metadata": {
    "deletable": false,
    "editable": false,
    "nbgrader": {
     "cell_type": "markdown",
     "checksum": "33b71ae8aae0f4c3f118050be2106025",
     "grade": false,
     "grade_id": "cell-fa737168d6136c1d",
     "locked": true,
     "schema_version": 3,
     "solution": false,
     "task": false
    }
   },
   "source": [
    "# Exercise 3\n",
    "\n",
    "Write a function `read_and_join(filename)` that, given a text file specified by its name with the brewvious format, will read the file and return it as a list of paragraphs (i.e., joining all the lines belonging to the same paragraph in a single list item). You can assume that the file always start with some non empty line, however you could not assume that there is just a single empty newline between paragraphs.\n",
    "\n",
    "Suggestion: to detect whether a line is empty and consists only of a newline I suggest to use the string `.strip()` method and check whether the content is empty rather than comparing with `\"\\n\"` (that's because there are different end of line customs for different operating systems).\n",
    "\n",
    "Recall, also, to add a newline `\\n` at the end of each paragraph."
   ]
  },
  {
   "cell_type": "code",
   "execution_count": 307,
   "metadata": {
    "deletable": false,
    "nbgrader": {
     "cell_type": "code",
     "checksum": "7837428b0b62ac738c87404799968b64",
     "grade": false,
     "grade_id": "cell-14e8371f9f18871a",
     "locked": false,
     "schema_version": 3,
     "solution": true,
     "task": false
    }
   },
   "outputs": [],
   "source": [
    "def read_and_join(filename):\n",
    "    with open(filename, \"r\") as contents:\n",
    "        lines = []\n",
    "        current_line = \"\"\n",
    "\n",
    "        for line in contents:\n",
    "            if len(line.strip()) == 0 and len(current_line.strip()) != 0:\n",
    "                current_line += \"\\n\"\n",
    "                lines.append(current_line)\n",
    "                current_line = \"\"\n",
    "            else:\n",
    "                current_line += line.strip() + \" \"\n",
    "\n",
    "        lines.append(current_line)\n",
    "\n",
    "    return lines"
   ]
  },
  {
   "cell_type": "code",
   "execution_count": 308,
   "metadata": {
    "deletable": false,
    "editable": false,
    "nbgrader": {
     "cell_type": "code",
     "checksum": "b4618ca8e04cf2f9c24f92d349b1c410",
     "grade": true,
     "grade_id": "cell-28e6f4f08fe62e9c",
     "locked": true,
     "points": 1,
     "schema_version": 3,
     "solution": false,
     "task": false
    }
   },
   "outputs": [],
   "source": [
    "book = read_and_join('./files/book-war-and-peace.txt')\n",
    "assert len(book) == 132, 'the file contains 132 pars'"
   ]
  },
  {
   "cell_type": "markdown",
   "metadata": {
    "deletable": false,
    "editable": false,
    "nbgrader": {
     "cell_type": "markdown",
     "checksum": "152a99866925f4b0ddb3a92357509437",
     "grade": false,
     "grade_id": "cell-601f92202da0c5d2",
     "locked": true,
     "schema_version": 3,
     "solution": false,
     "task": false
    }
   },
   "source": [
    "We want to measure the textual *similarity* of the different paragraphs of the book. We will speak more in detail about that in a future lecture, however up to now you will be guided through some steps to estimate this concept in different ways. \n",
    "\n",
    "First of all we need some way to represent those paragraphs in a compact and useful way. One possibility is to use the **Bag of words** *embedding* (BoW for short), in which a text (in general a whole *document*, however we will focus on paragraphs here) is represented as a *dictionary* whose keys are the words making up the text (normalized in lowercase and with punctuation removed) and the values are the frequencies of those words in the text.\n",
    "\n",
    "For example, for the text `\"John likes to watch movies. Mary likes movies too.\"` the BoW representation is `{\"John\": 1, \"likes\": 2, \"to\": 1, \"watch\": 1, \"movies\": 2, \"Mary\": 1, \"too\": 1}`. We have already seen something similar in the first practice when you were asked to count the $n$-grams instead. The idea is similar.\n",
    "\n",
    "In order to create it, we will split into two phases."
   ]
  },
  {
   "cell_type": "markdown",
   "metadata": {
    "deletable": false,
    "editable": false,
    "nbgrader": {
     "cell_type": "markdown",
     "checksum": "0b268a31ae151bc08daf58d3feda8660",
     "grade": false,
     "grade_id": "cell-b60a2f21c6869149",
     "locked": true,
     "schema_version": 3,
     "solution": false,
     "task": false
    }
   },
   "source": [
    "## Exercise 4\n",
    "\n",
    "Define a *generator* function `words(text)` that given a text will yield, one after the other, all the words that build up the text, removing all spaces and punctuation and converting them to lowercase.\n",
    "\n",
    "For example, for the text `\"John likes to watch movies. Mary likes movies too.\"` the generator should yield the sequence of words `john`, `likes`, `to`, `watch`, `movies`, `mary`, `likes`, `movies`, `too`. You can reuse (copy&paste) the functions that you're already define (such as remove_punctuation."
   ]
  },
  {
   "cell_type": "code",
   "execution_count": 309,
   "metadata": {
    "deletable": false,
    "nbgrader": {
     "cell_type": "code",
     "checksum": "a7e496d85c41069fd69d68bffd757299",
     "grade": false,
     "grade_id": "cell-ccc277f80738ac49",
     "locked": false,
     "schema_version": 3,
     "solution": true,
     "task": false
    }
   },
   "outputs": [
    {
     "data": {
      "text/plain": [
       "['john', 'likes', 'to', 'watch', 'movies', 'mary', 'likes', 'movies', 'too']"
      ]
     },
     "execution_count": 309,
     "metadata": {},
     "output_type": "execute_result"
    }
   ],
   "source": [
    "import string\n",
    "\n",
    "def remove_punctuation(s: str):\n",
    "    \"\"\"Removes the punctuation from the string s and returns the result\"\"\"\n",
    "    for p in string.punctuation:\n",
    "        s = s.replace(p, '')\n",
    "    return s\n",
    "\n",
    "def words(text):\n",
    "    for word in remove_punctuation(text.lower()).strip().split(\" \"):\n",
    "        yield word\n",
    "    \n",
    "list(words(\"John likes to watch movies. Mary likes movies too.\"))"
   ]
  },
  {
   "cell_type": "code",
   "execution_count": 310,
   "metadata": {
    "deletable": false,
    "editable": false,
    "nbgrader": {
     "cell_type": "code",
     "checksum": "f93b699ae8d42e0e280e4aa0c5415199",
     "grade": true,
     "grade_id": "cell-9bf151f2cc84cc90",
     "locked": true,
     "points": 0,
     "schema_version": 3,
     "solution": false,
     "task": false
    }
   },
   "outputs": [],
   "source": [
    "import string\n",
    "\n",
    "for word in words(\"John likes to watch movies. Mary likes movies too.\"):\n",
    "    for punct in string.punctuation:\n",
    "        assert punct not in word, \"there is some punctuation remained\"\n",
    "    assert word.strip() == word, \"there is some whitespace in the word\"\n",
    "    assert word.lower() == word, \"the word is not corresponding to the lowercase transformation\"\n",
    "assert list(words(\"John likes to watch movies. Mary likes movies too.\")) == ['john', 'likes', 'to', 'watch', 'movies', 'mary', 'likes', 'movies', 'too']\n",
    "assert list(words(book[42])) == ['attendez', 'said', 'anna', 'pavlovna', 'reflecting', 'ill', 'speak', 'to', 'lise', 'young', 'bolkonskis', 'wife', 'this', 'very', 'evening', 'and', 'perhaps', 'the', 'thing', 'can', 'be', 'arranged', 'it', 'shall', 'be', 'on', 'your', 'familys', 'behalf', 'that', 'ill', 'start', 'my', 'apprenticeship', 'as', 'old', 'maid']"
   ]
  },
  {
   "cell_type": "markdown",
   "metadata": {
    "deletable": false,
    "editable": false,
    "nbgrader": {
     "cell_type": "markdown",
     "checksum": "49a17ec646c5038332db5d01a2ed50cb",
     "grade": false,
     "grade_id": "cell-12d77778c01dae58",
     "locked": true,
     "schema_version": 3,
     "solution": false,
     "task": false
    }
   },
   "source": [
    "Now that you defined the generator, we can use a `Counter`, which is a standard class available in the `collections` library. You can refer to [https://docs.python.org/3.8/library/collections.html#collections.Counter](https://docs.python.org/3.8/library/collections.html#collections.Counter) for some examples, however essentially it gets a list of immutable elements (as strings are), which can be a single string, and automatically gathers all the frequency of the single items, giving us automatically the BoW.\n",
    "\n",
    "**Note:** you do not have to do nothing with this, just look at the example of combining the solution. If you want to engineer it you can wrap the creation of the BoW representation into a `bow(text)` function, but it's up to you."
   ]
  },
  {
   "cell_type": "code",
   "execution_count": 311,
   "metadata": {},
   "outputs": [
    {
     "name": "stdout",
     "output_type": "stream",
     "text": [
      "Counter({'likes': 2, 'movies': 2, 'john': 1, 'to': 1, 'watch': 1, 'mary': 1, 'too': 1})\n"
     ]
    }
   ],
   "source": [
    "from collections import Counter\n",
    "\n",
    "counts = Counter(words(\"John likes to watch movies. Mary likes movies too.\"))\n",
    "print(counts)"
   ]
  },
  {
   "cell_type": "markdown",
   "metadata": {
    "deletable": false,
    "editable": false,
    "nbgrader": {
     "cell_type": "markdown",
     "checksum": "62b3b76a5a3d67b94ae5f430c018303e",
     "grade": false,
     "grade_id": "cell-579c4aedd016f60c",
     "locked": true,
     "schema_version": 3,
     "solution": false,
     "task": false
    }
   },
   "source": [
    "# Exercise 5\n",
    "\n",
    "Try to create the BoW of the second and the fourth paragraph of the *Word and Peace* book."
   ]
  },
  {
   "cell_type": "code",
   "execution_count": 312,
   "metadata": {
    "deletable": false,
    "nbgrader": {
     "cell_type": "code",
     "checksum": "e02d69ff8d7460f480571e14a3aedcbe",
     "grade": false,
     "grade_id": "cell-ed491d321169dfd1",
     "locked": false,
     "schema_version": 3,
     "solution": true,
     "task": false
    }
   },
   "outputs": [],
   "source": [
    "second = Counter(words(book[1]))\n",
    "fourth = Counter(words(book[3]))"
   ]
  },
  {
   "cell_type": "code",
   "execution_count": 313,
   "metadata": {
    "deletable": false,
    "editable": false,
    "nbgrader": {
     "cell_type": "code",
     "checksum": "7539c00a1091e0edc195f17ac83eb219",
     "grade": true,
     "grade_id": "cell-620a0a2bd5e64fc6",
     "locked": true,
     "points": 1,
     "schema_version": 3,
     "solution": false,
     "task": false
    }
   },
   "outputs": [],
   "source": [
    "assert dict(second) == {'well': 1, 'prince': 1, 'so': 1, 'genoa': 1, 'and': 4, 'lucca': 1, 'are': 2, 'now': 1, 'just': 1, 'family': 1, 'estates': 1, 'of': 1, 'the': 3, 'buonapartes': 1, 'but': 2, 'i': 3, 'warn': 1, 'you': 7, 'if': 2, 'dont': 1, 'tell': 2, 'me': 2, 'that': 2, 'this': 1, 'means': 1, 'war': 1, 'still': 1, 'try': 1, 'to': 2, 'defend': 1, 'infamies': 1, 'horrors': 1, 'perpetrated': 1, 'by': 1, 'antichristi': 2, 'really': 1, 'believe': 1, 'he': 1, 'is': 1, 'will': 1, 'have': 2, 'nothing': 1, 'more': 1, 'do': 3, 'with': 1, 'no': 2, 'longer': 2, 'my': 2, 'friend': 1, 'faithful': 1, 'slave': 1, 'as': 1, 'call': 1, 'yourself': 1, 'how': 1, 'see': 1, 'frightened': 1, 'yousit': 1, 'down': 1, 'all': 1, 'news': 1}\n",
    "assert dict(fourth) == {'all': 1, 'her': 1, 'invitations': 1, 'without': 1, 'exception': 1, 'written': 1, 'in': 1, 'french': 1, 'and': 1, 'delivered': 1, 'by': 1, 'a': 1, 'scarletliveried': 1, 'footman': 1, 'that': 1, 'morning': 1, 'ran': 1, 'as': 1, 'follows': 1}"
   ]
  },
  {
   "cell_type": "markdown",
   "metadata": {
    "deletable": false,
    "editable": false,
    "nbgrader": {
     "cell_type": "markdown",
     "checksum": "93ef62227e0ae45c9679a1aaa12ca0af",
     "grade": false,
     "grade_id": "cell-c3984d6e95e17d5e",
     "locked": true,
     "schema_version": 3,
     "solution": false,
     "task": false
    }
   },
   "source": [
    "## Exercise 6\n",
    "\n",
    "One first possible similarity between two BoW is the degree of similarity between the two BoW seen as *sets* (i.e., disregarding the counts). This concept is called *Jaccard* similarity between sets $A$, and $B$ and is defined as follows:\n",
    "\n",
    "$$J(A,B) = {{|A \\cap B|}\\over{|A \\cup B|}}$$\n",
    "\n",
    "Practically, the set representation of a text is just the set of *keys* of the BoW Counter (which is in fact a dictionary).\n",
    "\n",
    "Define a function `jaccard(text_a, text_b)`, that given two texts transforms them into their set representation (passing through the BoW intermediate representation) and computes the Jaccard similarity between them.\n",
    "\n",
    "Recall that the size of any container (including sets) can be accessed through the `len()` function."
   ]
  },
  {
   "cell_type": "code",
   "execution_count": 314,
   "metadata": {
    "deletable": false,
    "nbgrader": {
     "cell_type": "code",
     "checksum": "d4579f229c6a81f0c90bdfd4545bb217",
     "grade": false,
     "grade_id": "cell-0c768dfc18a844aa",
     "locked": false,
     "schema_version": 3,
     "solution": true,
     "task": false
    }
   },
   "outputs": [
    {
     "data": {
      "text/plain": [
       "0.058823529411764705"
      ]
     },
     "execution_count": 314,
     "metadata": {},
     "output_type": "execute_result"
    }
   ],
   "source": [
    "def jaccard(text_a, text_b):\n",
    "    a = set(words(text_a))\n",
    "    b = set(words(text_b))\n",
    "\n",
    "    return len(a & b)/len(a | b)\n",
    "\n",
    "jaccard(book[42], book[3])"
   ]
  },
  {
   "cell_type": "code",
   "execution_count": 315,
   "metadata": {
    "deletable": false,
    "editable": false,
    "nbgrader": {
     "cell_type": "code",
     "checksum": "871488d04716195081b650d16a52d631",
     "grade": true,
     "grade_id": "cell-a35f670422dbeb83",
     "locked": true,
     "points": 0,
     "schema_version": 3,
     "solution": false,
     "task": false
    }
   },
   "outputs": [],
   "source": [
    "assert jaccard(\"AI is our friend and it has been friendly\", \"AI and humans have always been friendly\") == 1/3"
   ]
  },
  {
   "cell_type": "markdown",
   "metadata": {
    "deletable": false,
    "editable": false,
    "nbgrader": {
     "cell_type": "markdown",
     "checksum": "42f3c414b709cd59f5ecca18d0c7175a",
     "grade": false,
     "grade_id": "cell-3f9778a4de26ed1e",
     "locked": true,
     "schema_version": 3,
     "solution": false,
     "task": false
    }
   },
   "source": [
    "## Exercise 7\n",
    "\n",
    "Another possibility for measuring the similarity is to vectorize the BoW of the two texts, so that the words are represented in a vector whose indexes corresponds to the words themseleves and the values to the counts of those word. \n",
    "\n",
    "However, for doing so, the indexes should univoquely refer to a specific word. To this aim the two sets of words in the two texts should be arbitrarily ordered. \n",
    "\n",
    "For example, when the two texts are \n",
    "\n",
    "```\n",
    "John likes to watch movies. Mary likes movies too.\n",
    "```\n",
    "and\n",
    "```\n",
    "Mary also likes to watch football games.\n",
    "```\n",
    "\n",
    "The two BoWs are:\n",
    "\n",
    "```\n",
    "Counter({'likes': 2, 'movies': 2, 'john': 1, 'to': 1, 'watch': 1, 'mary': 1, 'too': 1})\n",
    "```\n",
    "and\n",
    "```\n",
    "Counter({'mary': 1, 'also': 1, 'likes': 1, 'to': 1, 'watch': 1, 'football': 1, 'games': 1})\n",
    "```\n",
    "\n",
    "For vectorizing the BoWs you must take the union of the two sets of words:\n",
    "\n",
    "```\n",
    "{'games', 'football', 'likes', 'to', 'mary', 'movies', 'also', 'too', 'john', 'watch'}\n",
    "```\n",
    "\n",
    "and transform them into a list (i.e., order it, although it can be either an arbitrary order or the words can be sorted), for example:\n",
    "\n",
    "```\n",
    "['also', 'football', 'games', 'john', 'likes', 'mary', 'movies', 'to', 'too', 'watch']\n",
    "```\n",
    "\n",
    "This means that `'also'` corresponds to index 0, `'football'` to index 1, etc.\n",
    "\n",
    "This way, the two BoWs can be transformed in the following vectors (ordered):\n",
    "\n",
    "```\n",
    "[0, 0, 0, 1, 2, 1, 2, 1, 1, 1], \n",
    "[1, 1, 1, 0, 1, 1, 0, 1, 0, 1]\n",
    "```\n",
    "\n",
    "Notice, for example, that there are two zeros in the first vector stating that there is no occurence of words `'also'` and `'football'` in the first text, while the fifth value is `2` that corresponds to the occurences of `'likes'`.\n",
    "\n",
    "Try define a function `vectorize_bow(text_a, text_b)` that, given the two texts performs all the needed operations to transform those texts into the vectorized Bag of Word which must be both returned by the function."
   ]
  },
  {
   "cell_type": "code",
   "execution_count": 316,
   "metadata": {
    "deletable": false,
    "nbgrader": {
     "cell_type": "code",
     "checksum": "4720d5095d710dcc33bf7b136e404fd2",
     "grade": false,
     "grade_id": "cell-c71ef8b5b2334c0e",
     "locked": false,
     "schema_version": 3,
     "solution": true,
     "task": false
    }
   },
   "outputs": [
    {
     "name": "stdout",
     "output_type": "stream",
     "text": [
      "([0, 0, 0, 1, 2, 1, 2, 1, 1, 1], [1, 1, 1, 0, 1, 1, 0, 1, 0, 1])\n"
     ]
    }
   ],
   "source": [
    "def vectorize_bow(text_a, text_b):\n",
    "    wa = list(words(text_a))\n",
    "    wb = list(words(text_b))\n",
    "\n",
    "    all_words = wa + wb\n",
    "    all_words.sort()\n",
    "\n",
    "    empty_bow = { word : 0 for word in all_words }\n",
    "\n",
    "    bow_a = empty_bow.copy()\n",
    "    bow_a.update(Counter(wa))\n",
    "\n",
    "    bow_b = empty_bow\n",
    "    bow_b.update(Counter(wb))\n",
    "\n",
    "    return (list(bow_a.values()), list(bow_b.values()))"
   ]
  },
  {
   "cell_type": "code",
   "execution_count": 317,
   "metadata": {
    "deletable": false,
    "editable": false,
    "nbgrader": {
     "cell_type": "code",
     "checksum": "4415e713e5354ef1ae0c24188d434b48",
     "grade": true,
     "grade_id": "cell-cd88ee8477a05915",
     "locked": true,
     "points": 0,
     "schema_version": 3,
     "solution": false,
     "task": false
    }
   },
   "outputs": [],
   "source": [
    "assert vectorize_bow(\"John likes to watch movies. Mary likes movies too.\", \"Mary also likes to watch football games.\") == ([0, 0, 0, 1, 2, 1, 2, 1, 1, 1], [1, 1, 1, 0, 1, 1, 0, 1, 0, 1])"
   ]
  },
  {
   "cell_type": "markdown",
   "metadata": {
    "deletable": false,
    "editable": false,
    "nbgrader": {
     "cell_type": "markdown",
     "checksum": "93a6a9a8f7cb7a61ef08f58e63c2eae1",
     "grade": false,
     "grade_id": "cell-be38dad7fe9ac0a6",
     "locked": true,
     "schema_version": 3,
     "solution": false,
     "task": false
    }
   },
   "source": [
    "## Exercise 8\n",
    "\n",
    "Once you have the vectorized BoWs, you can use the so-called *cosine* similarity between the two vectors, which can be computed as follows:\n",
    "\n",
    "$${\\mathbf{a} \\cdot \\mathbf{b} \\over \\|\\mathbf{a}\\| \\|\\mathbf{b}\\|}$$\n",
    "\n",
    "where the $\\cdot$ is the scalar product between the two vectors.\n",
    "\n",
    "Define a function that given two texts computes their cosine similarity."
   ]
  },
  {
   "cell_type": "code",
   "execution_count": 318,
   "metadata": {
    "deletable": false,
    "nbgrader": {
     "cell_type": "code",
     "checksum": "22c5cf2b37a143d88f57783dbc6a4ff6",
     "grade": false,
     "grade_id": "cell-9ee4f5287c470ee6",
     "locked": false,
     "schema_version": 3,
     "solution": true,
     "task": false
    }
   },
   "outputs": [
    {
     "name": "stdout",
     "output_type": "stream",
     "text": [
      "0.5241424183609592\n"
     ]
    }
   ],
   "source": [
    "from numpy import dot\n",
    "from numpy.linalg import norm\n",
    "\n",
    "sentence1 = \"John likes to watch movies. Mary likes movies too.\"\n",
    "sentence2 = \"Mary also likes to watch football games.\"\n",
    "\n",
    "def cosine(a, b):\n",
    "    return dot(a, b) / (norm(a) * norm(b))\n",
    "\n",
    "vect = vectorize_bow(sentence1, sentence2)\n",
    "print(cosine(vect[0],vect[1]))"
   ]
  },
  {
   "cell_type": "code",
   "execution_count": 319,
   "metadata": {
    "deletable": false,
    "editable": false,
    "nbgrader": {
     "cell_type": "code",
     "checksum": "8792449fbe8015ce27b768d9ee366792",
     "grade": true,
     "grade_id": "cell-bde21b0707b2c069",
     "locked": true,
     "points": 1,
     "schema_version": 3,
     "solution": false,
     "task": false
    }
   },
   "outputs": [],
   "source": [
    "vect = vectorize_bow(sentence1, sentence2)\n",
    "assert cosine(vect[0],vect[1]) == 0.5241424183609592"
   ]
  },
  {
   "cell_type": "code",
   "execution_count": null,
   "metadata": {},
   "outputs": [],
   "source": []
  }
 ],
 "metadata": {
  "kernelspec": {
   "display_name": "Python 3 (ipykernel)",
   "language": "python",
   "name": "python3"
  },
  "language_info": {
   "codemirror_mode": {
    "name": "ipython",
    "version": 3
   },
   "file_extension": ".py",
   "mimetype": "text/x-python",
   "name": "python",
   "nbconvert_exporter": "python",
   "pygments_lexer": "ipython3",
   "version": "3.10.13"
  }
 },
 "nbformat": 4,
 "nbformat_minor": 4
}
