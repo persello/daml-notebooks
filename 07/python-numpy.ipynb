{
 "cells": [
  {
   "cell_type": "markdown",
   "metadata": {},
   "source": [
    "## General instructions\n",
    "\n",
    "Before you turn this problem in, make sure everything runs as expected. First, **restart the kernel/runtime** (Colab: in the menubar, select *Runtime*$\\rightarrow$*Factory Reset Runtime*; Jupyter: in the menubar, select *Kernel*$\\rightarrow$*Restart*) and then **run all cells** (Colab: in the menubar, select *Runtime*$\\rightarrow$*Run all*; Jupyter: in the menubar, select *Cell*$\\rightarrow$*Run All*).\n",
    "\n",
    "Make sure you fill in any place that says `YOUR CODE HERE` or `\"YOUR ANSWER HERE\"`, as well as the list of the group members in the following cell."
   ]
  },
  {
   "cell_type": "markdown",
   "metadata": {},
   "source": [
    "Enter here the *Group Name* and the list of *Group Members*.\n",
    "\n",
    "`GROUP NAME`\n",
    "\n",
    "`GROUP MEMBERS`"
   ]
  },
  {
   "cell_type": "markdown",
   "metadata": {},
   "source": [
    "In order to be able to have an evaluation DO NOT delete/cut the cells with code and answers. Once you have finished you can downolad the notebook (Colab: in the menubar, select *File*$\\rightarrow$*Download .ipynb*; Jupyter: in the menubar, select *File*$\\rightarrow$*Download as*$\\rightarrow$*Notebook (.ipynb)*) and upload as an assignment on the e-learning platform.\n",
    "\n",
    "The following cell will load the Google Drive extension for the current notebook, when the variable `MOUNT` is `True`. This allow you to mount the Google Drive filesystem for file persistence. The mountpoint will be `/content/gdrive`.\n",
    "Furthermore, it will set the `PATH` variable, from now on, so that if you have to refer to external files you could do that by writing:\n",
    "\n",
    "```python\n",
    "os.path.join(PATH, filename)\n",
    "```\n",
    "\n",
    "This will append the filename after the specific PATH."
   ]
  },
  {
   "cell_type": "code",
   "execution_count": null,
   "metadata": {},
   "outputs": [],
   "source": [
    "import os\n",
    "MOUNT = False\n",
    "if 'google.colab' in str(get_ipython()) and MOUNT:\n",
    "    from google.colab import drive\n",
    "    drive.mount('/content/gdrive')\n",
    "    PATH = '/content/gdrive/MyDrive'\n",
    "else:\n",
    "    PATH = '.'"
   ]
  },
  {
   "cell_type": "markdown",
   "metadata": {},
   "source": [
    "# Important warning\n",
    "\n",
    "**⚠️ avoid copying, removing or modifying test cells, if you do that your assignment might be graded wrongly ⚠️**"
   ]
  },
  {
   "cell_type": "markdown",
   "metadata": {},
   "source": [
    "---"
   ]
  },
  {
   "cell_type": "markdown",
   "metadata": {
    "deletable": false,
    "editable": false,
    "nbgrader": {
     "cell_type": "markdown",
     "checksum": "124a594e3cd3e4e8d8892d08c68b4731",
     "grade": false,
     "grade_id": "cell-b1f307d7222a880f",
     "locked": true,
     "schema_version": 3,
     "solution": false,
     "task": false
    }
   },
   "source": [
    "# Exercise 1\n",
    "\n",
    "Instantiate the following arrays:\n",
    "\n",
    "$B = \\begin{bmatrix} 1 & 2 & -3 \\\\ 3 & 4 & -1 \\end{bmatrix}$, $A = \\begin{bmatrix} 2 & -5 & 1 \\\\ 1 & 4 & 5 \\\\ 2 & - 1 & 6 \\end{bmatrix}$, $y = \\begin{bmatrix} 2 & -4 & 1 \\end{bmatrix}$, $z = \\begin{bmatrix} -15 \\\\ -8 \\\\ -22 \\end{bmatrix}$. \n",
    "\n",
    "Try doing it using the different methods illustrated in the video lecture (i.e., lists / list of lists, reshaping, stacking, etc.)."
   ]
  },
  {
   "cell_type": "code",
   "execution_count": null,
   "metadata": {
    "deletable": false,
    "nbgrader": {
     "cell_type": "code",
     "checksum": "b6c44597fcf6c120f1625b627736921a",
     "grade": true,
     "grade_id": "cell-a413da662a4e857a",
     "locked": false,
     "points": 1,
     "schema_version": 3,
     "solution": true,
     "task": false
    }
   },
   "outputs": [],
   "source": [
    "import numpy as np\n",
    "# YOUR CODE HERE\n",
    "raise NotImplementedError()"
   ]
  },
  {
   "cell_type": "code",
   "execution_count": null,
   "metadata": {
    "deletable": false,
    "editable": false,
    "nbgrader": {
     "cell_type": "code",
     "checksum": "8f16aabb995f0c49e713417d595f610e",
     "grade": true,
     "grade_id": "cell-a36fdb28f001a4f5",
     "locked": true,
     "points": 1,
     "schema_version": 3,
     "solution": false,
     "task": false
    }
   },
   "outputs": [],
   "source": [
    "assert B.ndim == 2\n",
    "assert B.shape == (2, 3)\n",
    "assert all(B.flatten() == np.array([1, 2, -3, 3, 4, -1]))\n",
    "assert B.dtype == np.int64"
   ]
  },
  {
   "cell_type": "code",
   "execution_count": null,
   "metadata": {
    "deletable": false,
    "editable": false,
    "nbgrader": {
     "cell_type": "code",
     "checksum": "a221394ae390f3910d1991532a5a5f49",
     "grade": true,
     "grade_id": "cell-049eb8e1127ab1aa",
     "locked": true,
     "points": 1,
     "schema_version": 3,
     "solution": false,
     "task": false
    }
   },
   "outputs": [],
   "source": [
    "assert A.ndim == 2\n",
    "assert A.shape == (3, 3)\n",
    "assert all(A.flatten() == np.array([ 2, -5,  1,  1,  4,  5,  2, -1,  6]))\n",
    "assert B.dtype == np.int64"
   ]
  },
  {
   "cell_type": "code",
   "execution_count": null,
   "metadata": {
    "deletable": false,
    "editable": false,
    "nbgrader": {
     "cell_type": "code",
     "checksum": "3c26bf2f0fcf946e498d05fcb85b98d3",
     "grade": true,
     "grade_id": "cell-942fdb839ce21497",
     "locked": true,
     "points": 1,
     "schema_version": 3,
     "solution": false,
     "task": false
    }
   },
   "outputs": [],
   "source": [
    "assert y.ndim == 1\n",
    "assert y.shape == (3,)\n",
    "assert all(y[i] == [2, -4, 1][i] for i in range(y.shape[0]))\n",
    "assert y.dtype == np.int64"
   ]
  },
  {
   "cell_type": "code",
   "execution_count": null,
   "metadata": {
    "deletable": false,
    "editable": false,
    "nbgrader": {
     "cell_type": "code",
     "checksum": "6e727d27061e529c75a9defc03b5436e",
     "grade": true,
     "grade_id": "cell-7d6d39bc427996a9",
     "locked": true,
     "points": 1,
     "schema_version": 3,
     "solution": false,
     "task": false
    }
   },
   "outputs": [],
   "source": [
    "assert z.ndim == 2\n",
    "assert z.shape == (3, 1)\n",
    "assert all(z[i] == [-15, -8, -22][i] for i in range(z.shape[0]))\n",
    "assert z.dtype == np.int64"
   ]
  },
  {
   "cell_type": "markdown",
   "metadata": {},
   "source": [
    "# Exercise 2\n",
    "\n",
    "Write the `numpy` code  that calculates and stores the values of the following expressions:\n",
    "\n",
    "* $v_0 = B \\cdot A$\n",
    "* $v_1 = A \\cdot B^T$\n",
    "* $v_2 = A \\cdot y$\n",
    "* $v_3 = y^T \\cdot z$\n",
    "* $v_4 = y \\cdot z^T$\n",
    "* $v_5 = A + 3 \\begin{bmatrix} 1 & 0 & 1 \\\\ 0 & 1 & 1 \\\\ 0 & 0 & 2 \\end{bmatrix} \\cdot \\begin{bmatrix} y \\\\ y \\\\ y \\end{bmatrix}$\n",
    "\n",
    "Where the multiplication has to be interpreted as the *matrix* multiplication (or *scalar product* in case of vectors) and is implemented through the `np.dot()` function. As for the matrix transpose it is not a function but an attribute of arrays whose name is `.T`. \n",
    "\n",
    "Notice that the matrix $\\begin{bmatrix} 1 & 0 & 1 \\\\ 0 & 1 & 1 \\\\ 0 & 0 & 2 \\end{bmatrix}$ is nothing but the order 3 identity matrix with an additional 1 added in the last column.\n",
    "\n",
    "Notice, also, that the $y \\cdot z^T$ is an *outer* product, refer to the `numpy` documentation for finding how to compute it"
   ]
  },
  {
   "cell_type": "code",
   "execution_count": null,
   "metadata": {
    "deletable": false,
    "nbgrader": {
     "cell_type": "code",
     "checksum": "4e28b4d2d0e33146b2bbc77d0dda364a",
     "grade": true,
     "grade_id": "cell-d8b9c06f5a8f278a",
     "locked": false,
     "points": 1,
     "schema_version": 3,
     "solution": true,
     "task": false
    }
   },
   "outputs": [],
   "source": [
    "v = [None] * 6 # v should store the results of each expression in v[i]\n",
    "\n",
    "# YOUR CODE HERE\n",
    "raise NotImplementedError()"
   ]
  },
  {
   "cell_type": "code",
   "execution_count": null,
   "metadata": {
    "deletable": false,
    "editable": false,
    "nbgrader": {
     "cell_type": "code",
     "checksum": "8a503cc8b7c44350bb613b1fd365fae1",
     "grade": true,
     "grade_id": "cell-05de5149d9811a5c",
     "locked": true,
     "points": 1,
     "schema_version": 3,
     "solution": false,
     "task": false
    }
   },
   "outputs": [],
   "source": [
    "for res in v:\n",
    "    assert res.dtype == np.int64"
   ]
  },
  {
   "cell_type": "code",
   "execution_count": null,
   "metadata": {
    "deletable": false,
    "editable": false,
    "nbgrader": {
     "cell_type": "code",
     "checksum": "6dc5ed633705179e03288315664f70c4",
     "grade": true,
     "grade_id": "cell-90b33d99e43e0895",
     "locked": true,
     "points": 1,
     "schema_version": 3,
     "solution": false,
     "task": false
    }
   },
   "outputs": [],
   "source": [
    "assert np.all(v[0] == np.array([[-2,  6, -7], [ 8,  2, 17]]))"
   ]
  },
  {
   "cell_type": "code",
   "execution_count": null,
   "metadata": {
    "deletable": false,
    "editable": false,
    "nbgrader": {
     "cell_type": "code",
     "checksum": "f3d569ef94826818246e5567e17e68b1",
     "grade": true,
     "grade_id": "cell-9243e7d379b6697f",
     "locked": true,
     "points": 1,
     "schema_version": 3,
     "solution": false,
     "task": false
    }
   },
   "outputs": [],
   "source": [
    "assert np.all(v[1] == np.array([[-11, -15], [ -6,  14], [-18,  -4]]))"
   ]
  },
  {
   "cell_type": "code",
   "execution_count": null,
   "metadata": {
    "deletable": false,
    "editable": false,
    "nbgrader": {
     "cell_type": "code",
     "checksum": "7907994b38bf041381499a591463d87f",
     "grade": true,
     "grade_id": "cell-728a6af2457e1d8c",
     "locked": true,
     "points": 1,
     "schema_version": 3,
     "solution": false,
     "task": false
    }
   },
   "outputs": [],
   "source": [
    "assert np.all(v[2] == np.array([25, -9, 14])) "
   ]
  },
  {
   "cell_type": "code",
   "execution_count": null,
   "metadata": {
    "deletable": false,
    "editable": false,
    "nbgrader": {
     "cell_type": "code",
     "checksum": "00b10eda062e5a87c1cb5e591e1e86c0",
     "grade": true,
     "grade_id": "cell-2a78cc0e416a67ae",
     "locked": true,
     "points": 1,
     "schema_version": 3,
     "solution": false,
     "task": false
    }
   },
   "outputs": [],
   "source": [
    "assert np.all(v[3] == np.array([-20]))"
   ]
  },
  {
   "cell_type": "code",
   "execution_count": null,
   "metadata": {
    "deletable": false,
    "editable": false,
    "nbgrader": {
     "cell_type": "code",
     "checksum": "a8c426242c6ab519fd4bd7100d60d014",
     "grade": true,
     "grade_id": "cell-18e6319f07d34005",
     "locked": true,
     "points": 1,
     "schema_version": 3,
     "solution": false,
     "task": false
    }
   },
   "outputs": [],
   "source": [
    "assert np.all(v[4] == np.array([[-30, -16, -44], [ 60,  32,  88], [-15,  -8, -22]]),)"
   ]
  },
  {
   "cell_type": "code",
   "execution_count": null,
   "metadata": {
    "deletable": false,
    "editable": false,
    "nbgrader": {
     "cell_type": "code",
     "checksum": "855e324b51f00a387694b18b11d52cb2",
     "grade": true,
     "grade_id": "cell-b40046e536a491bd",
     "locked": true,
     "points": 1,
     "schema_version": 3,
     "solution": false,
     "task": false
    }
   },
   "outputs": [],
   "source": [
    "assert np.all(v[5] == np.array([[ 14, -29,   7], [ 13,  -20,  11],[ 14, -25,  12]]))"
   ]
  },
  {
   "cell_type": "markdown",
   "metadata": {
    "deletable": false,
    "editable": false,
    "nbgrader": {
     "cell_type": "markdown",
     "checksum": "2a5695f8f45ba171a4680030995ac3fd",
     "grade": false,
     "grade_id": "cell-db6b6a142f81b557",
     "locked": true,
     "schema_version": 3,
     "solution": false,
     "task": false
    }
   },
   "source": [
    "# Exercise 3\n",
    "\n",
    "Using the `np.linalg` submodule of `numpy`, solve the equation $A x = y$, determining the array $x$."
   ]
  },
  {
   "cell_type": "code",
   "execution_count": null,
   "metadata": {
    "deletable": false,
    "nbgrader": {
     "cell_type": "code",
     "checksum": "b7b095f809950d5dcc633a9f3f625a4b",
     "grade": true,
     "grade_id": "cell-ccb662af174f8ce5",
     "locked": false,
     "points": 1,
     "schema_version": 3,
     "solution": true,
     "task": false
    }
   },
   "outputs": [],
   "source": [
    "# YOUR CODE HERE\n",
    "raise NotImplementedError()"
   ]
  },
  {
   "cell_type": "code",
   "execution_count": null,
   "metadata": {
    "deletable": false,
    "editable": false,
    "nbgrader": {
     "cell_type": "code",
     "checksum": "1407406d6de4bd14d863276441437983",
     "grade": true,
     "grade_id": "cell-f4c1c0a30b609aa9",
     "locked": true,
     "points": 1,
     "schema_version": 3,
     "solution": false,
     "task": false
    }
   },
   "outputs": [],
   "source": [
    "np.testing.assert_almost_equal(x, np.array([-3.0 , -1.4137931, 0.93103448]))"
   ]
  },
  {
   "cell_type": "markdown",
   "metadata": {
    "deletable": false,
    "editable": false,
    "nbgrader": {
     "cell_type": "markdown",
     "checksum": "9fbe2d95c8a9408b98361ab32fe677ed",
     "grade": false,
     "grade_id": "cell-5de0be1256d3ac94",
     "locked": true,
     "schema_version": 3,
     "solution": false,
     "task": false
    }
   },
   "source": [
    "## Exercise 4\n",
    "\n",
    "The *power iteration* algorithm is a simple iterative scheme for computing the dominant (i.e., largest) *real-valued* eigenvector $b$ and eigenvalue $\\mu$ of a diagonizable matrix. Given a square matrix $A$ the method is described by the following *recurrence relation*:\n",
    "\n",
    "$$\\bar{b}_{k+1} = \\frac{A \\; \\bar{b}_k}{\\|A \\; \\bar{b}_k\\|}$$\n",
    "\n",
    "With $\\bar{b}_{0} = \\mathbf{1}$\n",
    "\n",
    "The recurrence relation for the eigenvalue is:\n",
    "\n",
    "$$\\mu_k = \\frac{\\bar{b}_k^{T} \\; A \\; \\bar{b}_k}{\\bar{b}_k^{T} \\; \\bar{b}_k}$$\n",
    "\n",
    "Observe, that given that $\\mu_k$ does not enter in the computation of $\\bar{b}_{k+1}$, it can be computed directly at the end of the algorithm.\n",
    "\n",
    "Write a Python function `power_iteration(A, iterations=100, precision=1E-15)`, using the `numpy` library that implements the *power iteration* algorithm. In particular the function should stop when the number of `iterations` has passed and should return a tuple (a pair) with the dominant eigenvalue and the corresponding unit eigenvector of $A$.\n",
    "The argument `precision` is the approximation you allow for stopping the iterations earlier than when the overall number is expired."
   ]
  },
  {
   "cell_type": "code",
   "execution_count": null,
   "metadata": {
    "deletable": false,
    "nbgrader": {
     "cell_type": "code",
     "checksum": "640b1030b81d7ad0dd6e9538272f17d9",
     "grade": true,
     "grade_id": "cell-5d9a054f12d317a4",
     "locked": false,
     "points": 1,
     "schema_version": 3,
     "solution": true,
     "task": false
    }
   },
   "outputs": [],
   "source": [
    "def power_iteration(A, iterations=100, precision=1E-15):\n",
    "    # YOUR CODE HERE\n",
    "    raise NotImplementedError()\n",
    "    return mu, b"
   ]
  },
  {
   "cell_type": "code",
   "execution_count": null,
   "metadata": {
    "deletable": false,
    "editable": false,
    "nbgrader": {
     "cell_type": "code",
     "checksum": "c71a44f4dac59b3d79b8fa8cb169584d",
     "grade": true,
     "grade_id": "cell-dc463e0739bd6cca",
     "locked": true,
     "points": 1,
     "schema_version": 3,
     "solution": false,
     "task": false
    }
   },
   "outputs": [],
   "source": [
    "import random\n",
    "\n",
    "for _ in range(100):\n",
    "    # creating a random matrix of size between 2 and 20\n",
    "    n = random.randint(2, 20)\n",
    "    A = np.random.random((n, n))\n",
    "    A[0, 0] = 10 # this is needed to ensure that there is a large dominant eigenvalue\n",
    "    reference_mu, reference_b = np.linalg.eig(A)\n",
    "    i = np.argmax(reference_mu)\n",
    "    reference_b, reference_mu = reference_b[i], reference_mu[i]\n",
    "    mu, b = power_iteration(A)    \n",
    "    np.testing.assert_almost_equal(mu, reference_mu, decimal=5)\n",
    "    np.testing.assert_almost_equal(np.dot(A, b), mu * b, decimal=5)"
   ]
  },
  {
   "cell_type": "markdown",
   "metadata": {
    "deletable": false,
    "editable": false,
    "nbgrader": {
     "cell_type": "markdown",
     "checksum": "5fa0bb4bc76f58ca61e1f6fb0f4cd107",
     "grade": false,
     "grade_id": "cell-67a106fcba67f2e1",
     "locked": true,
     "schema_version": 3,
     "solution": false,
     "task": false
    }
   },
   "source": [
    "# Particle Swarm Optimization\n",
    "\n",
    "The Particle Swarm Optimization (PSO) is a nature inspired *population-based metaheuristic* optimization method for continuous multi-dimensional functions that is inspired by the behavior of bird flocks. It was initially proposed by Eberhart and Kennedy in 1995.\n",
    "\n",
    "Given a function $F: \\mathcal{S} \\rightarrow \\mathbb{R}, \\mathcal{S} \\subseteq \\mathbb{R}^d$ to be (w.l.o.g.) minimized, the PSO generates a number of particles. Each individual particle $i$ represent a complete solution to the problem, that is a $d$-dimensional vector of real numbers, by means of its *position* $\\bar{x}_{i}$. Moreover each particle has another $d$-dimensional velocity vector $\\bar{v}_{i}$. Finally, each particle $i$ stores its best *personal* position $\\bar{p}_i$ (with respect to the function to be optimized) and the *global* best position $\\bar{g}^*$ among the best position of the individual particles (i.e., $\\bar{g}^* = \\arg\\min_{\\bar{p}_i} F(\\bar{p}_i)$) is known.\n",
    "\n",
    "The algorithm is an iterative one, namely, at each time iteration, a particle moves to a new position, by adjusting its velocity and its position (in this order), trying to bias the velocity vector toward a combination of *personal* and *global* best (see the picture).\n",
    "\n",
    "![](pso.png)\n",
    "\n",
    "The precise equations regulating the dynamics of each particles are as follows:\n",
    "\n",
    "* $\\bar{v}'_i = \\phi \\bar{v}_i + c_0 \\cdot r_0 \\cdot (\\bar{p}_i - \\bar{x}_i) + c_1 \\cdot r_1 \\cdot (\\bar{g}^{*} - \\bar{x}_i)$\n",
    "* $\\bar{x}'_i = \\bar{x}_i + \\bar{v}'_i$\n",
    "\n",
    "Parameters $c_0$ and $c_1$ indicate the relative importance of personal and global best (meaningful values are 1.5 to 2, and 2 to 2.5, respectively), $r_0$ and $r_1$ are two uniform random numbers in the range $[0, 1]$. $\\phi$ is instead an inertia, i.e., a multiplicative factor on previous velocity. Furthermore, usually an upper bound $v_{max}$ on maximum velocity is added (so that any velocity component above $v_{max}$ or below $-v_{max}$ will be trimmed to that value. Also if the particle goes out of the search space $\\mathcal{S}$ it might be randomly reassigned or only the components out of bounds could be forced to be at the extremes of the space.\n",
    "\n",
    "Once the new positions and velocities are computed for all the particles, the new *personal* best for each particle and, consequently, the *global* best for the whole swarm are updated if needed (i.e., if a new improving function value is determined). \n",
    "\n",
    "\n",
    "A termination criterion is expressed in terms of maximum time the global solution has not changed (`max_idle` iterations have expired).\n",
    "\n",
    "The algorithm can be expressed in the following abstract scheme, where `n` is the size of the particle population:\n",
    "\n",
    "```python\n",
    "def pso(S, F, n, c, phi, v_max, precision=1E-7, max_idle=100):\n",
    "    # set random positions and velocities, within S\n",
    "    x, v = initialize_particles(n, S, v_max)\n",
    "    # initialize best personal and global\n",
    "    p = x\n",
    "    g = best(p, F)\n",
    "    old_g = g\n",
    "    idle = 0\n",
    "    \n",
    "    while idle < max_idle:\n",
    "        v = update_velocity(v, x, p, g, c, phi, v_max)\n",
    "        x = update_position(v, x, S)        \n",
    "        for i in range(x.shape[0]):\n",
    "            if F(x[i]) < F(p[i]):\n",
    "                # update the best personal position\n",
    "                p[i] = x[i]\n",
    "        # update the best global position\n",
    "        g = best(p, F)\n",
    "        if np.linalg.norm(g - old_g) < precision:\n",
    "            idle += 1\n",
    "        else:\n",
    "            idle = 0\n",
    "        old_g = g\n",
    "    return g\n",
    "```\n",
    "\n",
    "It relies a number of functions that provide a strategy for the different aspects of the PSO scheme."
   ]
  },
  {
   "cell_type": "markdown",
   "metadata": {
    "deletable": false,
    "editable": false,
    "nbgrader": {
     "cell_type": "markdown",
     "checksum": "9313d66b9c2bf32848598ab8b269624a",
     "grade": false,
     "grade_id": "cell-12535c88d1c56368",
     "locked": true,
     "schema_version": 3,
     "solution": false,
     "task": false
    }
   },
   "source": [
    "# Exercise 5\n",
    "\n",
    "Define the function `initialize_particles(n, S, v_max)` that given a representation of the search space $\\mathcal{S}$ in the form of a pair of $d$-dimensional arrays with the lower and upper bound for each dimension, returns a `n` uniform random positions and velocities represented as a pair of `numpy` $n \\times d$ matrices (each row represents a particle).\n",
    "\n",
    "An example of specification of the search space $\\mathcal{S} = [-1, 1]^3$ is `(np.array([-1.0, -1.0, -1.0]), np.array([1.0, 1.0, 1.0]))`.\n",
    "\n",
    "The `np.random.uniform()` function can be very helpful.\n",
    "\n",
    "The outcome can be something like this:\n",
    "\n",
    "```python\n",
    "(array([[-0.37261481,  0.18677675, -0.00195651],\n",
    "        [-0.41253898,  0.18312799,  0.76484598],\n",
    "        [ 0.95310461, -0.44592388,  0.08003894]]),\n",
    " array([[-7.23464707,  5.22991506,  2.84575537],\n",
    "        [ 8.81941877, -5.76708698,  6.5165774 ],\n",
    "        [-9.8289967 ,  1.57905635,  2.21461532]]))\n",
    "```"
   ]
  },
  {
   "cell_type": "code",
   "execution_count": null,
   "metadata": {
    "deletable": false,
    "nbgrader": {
     "cell_type": "code",
     "checksum": "2e402cb2344684ae03bce24a1f637c51",
     "grade": true,
     "grade_id": "cell-e0a65d057769ace9",
     "locked": false,
     "points": 1,
     "schema_version": 3,
     "solution": true,
     "task": false
    },
    "tags": []
   },
   "outputs": [],
   "source": [
    "def initialize_particles(n, S, v_max):\n",
    "    # YOUR CODE HERE\n",
    "    raise NotImplementedError()"
   ]
  },
  {
   "cell_type": "code",
   "execution_count": null,
   "metadata": {
    "deletable": false,
    "editable": false,
    "nbgrader": {
     "cell_type": "code",
     "checksum": "2b68f4e550959425c528275fe933fa11",
     "grade": true,
     "grade_id": "cell-fdda4959c03983d7",
     "locked": true,
     "points": 1,
     "schema_version": 3,
     "solution": false,
     "task": false
    }
   },
   "outputs": [],
   "source": [
    "for _ in range(100):\n",
    "    n, v_max = random.randint(2, 10), random.uniform(0.1, 0.2)\n",
    "    S = (-np.ones(n), np.ones(n))\n",
    "    x, v = initialize_particles(n, S, v_max)\n",
    "    assert np.all(-1.0 <= x) and np.all(x <= 1.0)\n",
    "    assert np.all(-v_max <= v) and np.all(v <= v_max)"
   ]
  },
  {
   "cell_type": "markdown",
   "metadata": {
    "deletable": false,
    "nbgrader": {
     "cell_type": "markdown",
     "checksum": "2b46e8c44e66ff7ad4ad5097e64fa2ca",
     "grade": true,
     "grade_id": "cell-129a215c5e763be3",
     "locked": false,
     "points": 1,
     "schema_version": 3,
     "solution": true,
     "task": false
    }
   },
   "source": [
    "YOUR ANSWER HERE"
   ]
  },
  {
   "cell_type": "code",
   "execution_count": null,
   "metadata": {
    "deletable": false,
    "nbgrader": {
     "cell_type": "code",
     "checksum": "14b7c14fa0d248b7b568df34afc6abe9",
     "grade": true,
     "grade_id": "cell-5f764e36f5e42be9",
     "locked": false,
     "points": 1,
     "schema_version": 3,
     "solution": true,
     "task": false
    },
    "tags": []
   },
   "outputs": [],
   "source": [
    "def best(p, F):    \n",
    "    # YOUR CODE HERE\n",
    "    raise NotImplementedError()"
   ]
  },
  {
   "cell_type": "code",
   "execution_count": null,
   "metadata": {
    "deletable": false,
    "editable": false,
    "nbgrader": {
     "cell_type": "code",
     "checksum": "a5c9fe9ab8a0b1387a8d5c6f4c2af8ec",
     "grade": true,
     "grade_id": "cell-52cd41991dff5a11",
     "locked": true,
     "points": 1,
     "schema_version": 3,
     "solution": false,
     "task": false
    }
   },
   "outputs": [],
   "source": [
    "for _ in range(100):\n",
    "    n, d = random.randint(10, 20), random.randint(3, 10)\n",
    "    p = np.random.uniform(size=(n, d))\n",
    "    r = best(p, lambda x: np.min(x))\n",
    "    assert np.min(r) == np.min(p)"
   ]
  },
  {
   "cell_type": "markdown",
   "metadata": {},
   "source": [
    "# Exercise 7\n",
    "\n",
    "Define the functions `update_velocity()` and  `update_position()` according to the PSO dynamics."
   ]
  },
  {
   "cell_type": "code",
   "execution_count": null,
   "metadata": {
    "deletable": false,
    "nbgrader": {
     "cell_type": "code",
     "checksum": "880dfadc4d0585d6f8b93349b9e7479a",
     "grade": true,
     "grade_id": "cell-68fc0232d44f4416",
     "locked": false,
     "points": 1,
     "schema_version": 3,
     "solution": true,
     "task": false
    }
   },
   "outputs": [],
   "source": [
    "def update_velocity(v, x, p, g, c, phi, v_max):\n",
    "    # YOUR CODE HERE\n",
    "    raise NotImplementedError()"
   ]
  },
  {
   "cell_type": "code",
   "execution_count": null,
   "metadata": {
    "deletable": false,
    "nbgrader": {
     "cell_type": "code",
     "checksum": "d9bc94f6855a36e529ec58e6e78d4185",
     "grade": true,
     "grade_id": "cell-bd4608bbab6ac177",
     "locked": false,
     "points": 1,
     "schema_version": 3,
     "solution": true,
     "task": false
    }
   },
   "outputs": [],
   "source": [
    "def update_position(v, x, S):\n",
    "    # YOUR CODE HERE\n",
    "    raise NotImplementedError()"
   ]
  },
  {
   "cell_type": "markdown",
   "metadata": {},
   "source": [
    "# Exercise 8\n",
    "\n",
    "Providing all the values to the following `pso` scheme, define and find the minimum of the *Rosenbrock Function* $F(\\bar{x}) = \\sum_{i=1}^{d-1} 100(x_{i + 1} - x_{i}^2)^2 + (x_i - 1)^2$ in $\\mathcal{S} = [-30.0, 30.0]^d$ and search for the minimum You can see the shape of the function in the case of $d = 2$ in the following graph.\n",
    "\n",
    "The minimum is the $d$-dimensional $\\mathbf{1}$ vector."
   ]
  },
  {
   "cell_type": "code",
   "execution_count": null,
   "metadata": {
    "deletable": false,
    "editable": false,
    "nbgrader": {
     "cell_type": "code",
     "checksum": "d8488d5543b0d0060677991beeb3682f",
     "grade": false,
     "grade_id": "cell-ae2516cbef5527c6",
     "locked": true,
     "schema_version": 3,
     "solution": false,
     "task": false
    }
   },
   "outputs": [],
   "source": [
    "from matplotlib import cm  \n",
    "from mpl_toolkits.mplot3d import Axes3D\n",
    "import math\n",
    "import matplotlib.pyplot as plt\n",
    "import numpy as np\n",
    "\n",
    "X = np.linspace(-30, 30, 200)    \n",
    "Y = np.linspace(-30, 30, 200)    \n",
    "X, Y = np.meshgrid(X, Y)\n",
    "\n",
    "Z = (1.-X)**2 + 100.*(Y-X*X)**2\n",
    "\n",
    "fig = plt.figure(figsize=(16, 9))\n",
    "ax = plt.axes(projection='3d')\n",
    "surf = ax.plot_surface(X, Y, Z, rstride=1, \\\n",
    "  cstride=1, cmap=cm.jet)\n",
    "    \n",
    "plt.show()"
   ]
  },
  {
   "cell_type": "code",
   "execution_count": null,
   "metadata": {
    "deletable": false,
    "editable": false,
    "nbgrader": {
     "cell_type": "code",
     "checksum": "a7dd5adaf71b93ea5d65012561b68cd4",
     "grade": false,
     "grade_id": "cell-ca17d3bcfd5b9715",
     "locked": true,
     "schema_version": 3,
     "solution": false,
     "task": false
    }
   },
   "outputs": [],
   "source": [
    "def pso(S, F, n, c, phi, v_max, precision=1E-7, max_idle=100):\n",
    "    # set random positions and velocities, within S\n",
    "    x, v = initialize_particles(n, S, v_max)\n",
    "    # initialize best personal and global\n",
    "    p = x\n",
    "    g = best(p, F)\n",
    "    old_g = g\n",
    "    idle = 0\n",
    "    \n",
    "    while idle < max_idle:\n",
    "        v = update_velocity(v, x, p, g, c, phi, v_max)\n",
    "        x = update_position(v, x, S)        \n",
    "        for i in range(x.shape[0]):\n",
    "            if F(x[i]) < F(p[i]):\n",
    "                # update the best personal position\n",
    "                p[i] = x[i]\n",
    "        # update the best global position\n",
    "        g = best(p, F)\n",
    "        if np.linalg.norm(g - old_g) < precision:\n",
    "            idle += 1\n",
    "        else:\n",
    "            idle = 0\n",
    "        old_g = g\n",
    "    return g"
   ]
  },
  {
   "cell_type": "markdown",
   "metadata": {},
   "source": [
    "Define the Rosenbrock evaluation function `rosenbrock(x)`: it will take an array $x$ to be evaluated and returns a scalar with the function value according to the previous formula."
   ]
  },
  {
   "cell_type": "code",
   "execution_count": null,
   "metadata": {
    "deletable": false,
    "nbgrader": {
     "cell_type": "code",
     "checksum": "3c4e362b12e88abf1544c9c679e1c0e2",
     "grade": true,
     "grade_id": "cell-78d8a15e434222c6",
     "locked": false,
     "points": 1,
     "schema_version": 3,
     "solution": true,
     "task": false
    }
   },
   "outputs": [],
   "source": [
    "# Enter the definition of the rosenbrock function\n",
    "# YOUR CODE HERE\n",
    "raise NotImplementedError()"
   ]
  },
  {
   "cell_type": "code",
   "execution_count": null,
   "metadata": {
    "deletable": false,
    "editable": false,
    "nbgrader": {
     "cell_type": "code",
     "checksum": "6d2bcb5dff582a249ab027d6695e4442",
     "grade": true,
     "grade_id": "cell-f872c6627e84646d",
     "locked": true,
     "points": 1,
     "schema_version": 3,
     "solution": false,
     "task": false
    }
   },
   "outputs": [],
   "source": [
    "np.random.seed(0)\n",
    "for d in range(2, 5):\n",
    "    S = (-30.0 * np.ones(d), 30.0 * np.ones(d))\n",
    "    res = pso(S, rosenbrock, 100, (2.0, 2.5), 0.7, 0.2)\n",
    "    np.testing.assert_array_almost_equal(res, np.ones(d), decimal=5)\n",
    "    print(f\"Testing {d} dimensions OK\")"
   ]
  },
  {
   "cell_type": "markdown",
   "metadata": {
    "deletable": false,
    "editable": false,
    "nbgrader": {
     "cell_type": "markdown",
     "checksum": "82acfd02b78f254ceeb62168e28e95b1",
     "grade": false,
     "grade_id": "cell-86a87aece81dab1b",
     "locked": true,
     "schema_version": 3,
     "solution": false,
     "task": false
    }
   },
   "source": [
    "Equip the PSO to find the minimum of the following function, with $d = 6$ on $[0, 1]^6$.\n",
    "\n",
    "$$f(x) = \\frac{1}{899} \\big( \\sum_{i=1}^{6} x_i^2 2^i - 1745 \\big)$$"
   ]
  },
  {
   "cell_type": "code",
   "execution_count": null,
   "metadata": {
    "deletable": false,
    "nbgrader": {
     "cell_type": "code",
     "checksum": "cc0947985170d1f031a0cef2ad52f028",
     "grade": true,
     "grade_id": "cell-c7d538a568dfa2fd",
     "locked": false,
     "points": 1,
     "schema_version": 3,
     "solution": true,
     "task": false
    }
   },
   "outputs": [],
   "source": [
    "# Enter the definition and the test of the pso\n",
    "# with the function defined above\n",
    "# YOUR CODE HERE\n",
    "raise NotImplementedError()"
   ]
  },
  {
   "cell_type": "code",
   "execution_count": null,
   "metadata": {},
   "outputs": [],
   "source": []
  }
 ],
 "metadata": {
  "kernelspec": {
   "display_name": "Python 3 (ipykernel)",
   "language": "python",
   "name": "python3"
  },
  "language_info": {
   "codemirror_mode": {
    "name": "ipython",
    "version": 3
   },
   "file_extension": ".py",
   "mimetype": "text/x-python",
   "name": "python",
   "nbconvert_exporter": "python",
   "pygments_lexer": "ipython3",
   "version": "3.9.12"
  }
 },
 "nbformat": 4,
 "nbformat_minor": 4
}
