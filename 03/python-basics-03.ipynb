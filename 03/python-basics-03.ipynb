{
 "cells": [
  {
   "cell_type": "markdown",
   "metadata": {},
   "source": [
    "## General instructions\n",
    "\n",
    "Before you turn this problem in, make sure everything runs as expected. First, **restart the kernel/runtime** (Colab: in the menubar, select *Runtime*$\\rightarrow$*Factory Reset Runtime*; Jupyter: in the menubar, select *Kernel*$\\rightarrow$*Restart*) and then **run all cells** (Colab: in the menubar, select *Runtime*$\\rightarrow$*Run all*; Jupyter: in the menubar, select *Cell*$\\rightarrow$*Run All*).\n",
    "\n",
    "Make sure you fill in any place that says `YOUR CODE HERE` or `\"YOUR ANSWER HERE\"`, as well as the list of the group members in the following cell."
   ]
  },
  {
   "cell_type": "markdown",
   "metadata": {},
   "source": [
    "Enter here the *Group Name* and the list of *Group Members*.\n",
    "\n",
    "`Doi eletronics`\n",
    "\n",
    "`Burco Lorenzo, Persello Riccardo`"
   ]
  },
  {
   "cell_type": "markdown",
   "metadata": {},
   "source": [
    "In order to be able to have an evaluation DO NOT delete/cut the cells with code and answers. Once you have finished you can downolad the notebook (Colab: in the menubar, select *File*$\\rightarrow$*Download .ipynb*; Jupyter: in the menubar, select *File*$\\rightarrow$*Download as*$\\rightarrow$*Notebook (.ipynb)*) and upload as an assignment on the e-learning platform.\n",
    "\n",
    "The following cell will load the Google Drive extension for the current notebook, when the variable `MOUNT` is `True`. This allow you to mount the Google Drive filesystem for file persistence. The mountpoint will be `/content/gdrive`.\n",
    "Furthermore, it will set the `PATH` variable, from now on, so that if you have to refer to external files you could do that by writing:\n",
    "\n",
    "```python\n",
    "os.path.join(PATH, filename)\n",
    "```\n",
    "\n",
    "This will append the filename after the specific PATH."
   ]
  },
  {
   "cell_type": "code",
   "execution_count": 168,
   "metadata": {},
   "outputs": [],
   "source": [
    "import os\n",
    "MOUNT = False\n",
    "if 'google.colab' in str(get_ipython()) and MOUNT:\n",
    "    from google.colab import drive\n",
    "    PATH = '/content/gdrive'\n",
    "    drive.mount(PATH)\n",
    "else:\n",
    "    PATH = '.'"
   ]
  },
  {
   "cell_type": "markdown",
   "metadata": {},
   "source": [
    "# Important warning\n",
    "\n",
    "**⚠️ avoid copying, removing or modifying test cells, if you do that your assignment might be graded wrongly ⚠️**"
   ]
  },
  {
   "cell_type": "markdown",
   "metadata": {},
   "source": [
    "---"
   ]
  },
  {
   "cell_type": "markdown",
   "metadata": {
    "deletable": false,
    "editable": false,
    "nbgrader": {
     "cell_type": "markdown",
     "checksum": "7ac5187e96ba1de2ddc23e7d0df6e7b7",
     "grade": false,
     "grade_id": "ex1text1",
     "locked": true,
     "schema_version": 3,
     "solution": false
    }
   },
   "source": [
    "---\n",
    "\n",
    "## Exercise 1\n",
    "\n",
    " Write one line of Python (i.e., use comprehensions) that takes a list a and makes a new list that has only the even elements of this list in it."
   ]
  },
  {
   "cell_type": "code",
   "execution_count": 169,
   "metadata": {
    "deletable": false,
    "nbgrader": {
     "cell_type": "code",
     "checksum": "b85e003f4f65063a076535a868f1e8cb",
     "grade": false,
     "grade_id": "cell-97108d46c8a8ee9d",
     "locked": false,
     "schema_version": 3,
     "solution": true,
     "task": false
    }
   },
   "outputs": [
    {
     "data": {
      "text/plain": [
       "[]"
      ]
     },
     "execution_count": 169,
     "metadata": {},
     "output_type": "execute_result"
    }
   ],
   "source": [
    "def only_even(input_list):\n",
    "    return [ x for x in input_list if x % 2 == 0 ]\n",
    "    \n",
    "only_even([1])"
   ]
  },
  {
   "cell_type": "code",
   "execution_count": 170,
   "metadata": {
    "deletable": false,
    "editable": false,
    "nbgrader": {
     "cell_type": "code",
     "checksum": "853bbbd46ebe9a6af1c629c694c4fac2",
     "grade": true,
     "grade_id": "cell-c52f0c982f03893d",
     "locked": true,
     "points": 1,
     "schema_version": 3,
     "solution": false,
     "task": false
    }
   },
   "outputs": [],
   "source": [
    "assert only_even([1,2,3,4,5,6,7,8,9]) == [2,4,6,8]\n",
    "assert only_even([4,2,6,7]) == [4,2,6]\n",
    "assert only_even([]) == []\n",
    "assert only_even([1]) == []"
   ]
  },
  {
   "cell_type": "markdown",
   "metadata": {
    "deletable": false,
    "editable": false,
    "nbgrader": {
     "cell_type": "markdown",
     "checksum": "40196189cb1d8cda62ceacb842dda20f",
     "grade": false,
     "grade_id": "cell-f05071aca2458dc2",
     "locked": true,
     "schema_version": 3,
     "solution": false,
     "task": false
    }
   },
   "source": [
    "---\n",
    "\n",
    "## Exercise 2\n",
    "\n",
    " Write one line of Python (i.e., use comprehensions) that takes a list a returns the same list with all the even elements multiplied by a factor"
   ]
  },
  {
   "cell_type": "code",
   "execution_count": 171,
   "metadata": {
    "deletable": false,
    "nbgrader": {
     "cell_type": "code",
     "checksum": "7defb05398542cf27280df47fcb78e04",
     "grade": false,
     "grade_id": "cell-35937f4621cbea30",
     "locked": false,
     "schema_version": 3,
     "solution": true,
     "task": false
    }
   },
   "outputs": [
    {
     "data": {
      "text/plain": [
       "[1]"
      ]
     },
     "execution_count": 171,
     "metadata": {},
     "output_type": "execute_result"
    }
   ],
   "source": [
    "def multiply_even(input_list, factor):\n",
    "    return [ x * factor if x % 2 == 0 else x for x in input_list ]\n",
    "    \n",
    "multiply_even([1], 10)"
   ]
  },
  {
   "cell_type": "code",
   "execution_count": 172,
   "metadata": {},
   "outputs": [],
   "source": [
    "assert multiply_even([1,2,3,4,5,6,7,8,9],10) == [1, 20, 3, 40, 5, 60, 7, 80, 9]\n",
    "assert multiply_even([4,2,6,7],10) == [40, 20, 60, 7]\n",
    "assert multiply_even([],10) == []\n",
    "assert multiply_even([1],10) == [1]"
   ]
  },
  {
   "cell_type": "markdown",
   "metadata": {
    "deletable": false,
    "editable": false,
    "nbgrader": {
     "cell_type": "markdown",
     "checksum": "dac97d88bcc512adc55b664ed72253c1",
     "grade": false,
     "grade_id": "cell-567c8365a202cc76",
     "locked": true,
     "schema_version": 3,
     "solution": false,
     "task": false
    }
   },
   "source": [
    "---\n",
    "\n",
    "## Exercise 3\n",
    "\n",
    " use comprehensions to flatten a list of lists "
   ]
  },
  {
   "cell_type": "code",
   "execution_count": 173,
   "metadata": {
    "deletable": false,
    "nbgrader": {
     "cell_type": "code",
     "checksum": "3832283e9df2cdac2a226a213bd1f884",
     "grade": false,
     "grade_id": "cell-505e5b66c99b963b",
     "locked": false,
     "schema_version": 3,
     "solution": true,
     "task": false
    }
   },
   "outputs": [],
   "source": [
    "l = [[1, 2, 3], [4, 5, 6], [7], [8, 9],[10, 11, 12, 13, 14]]\n",
    "\n",
    "def flatten_list(l):\n",
    "    return [ x for subl in l for x in subl ]"
   ]
  },
  {
   "cell_type": "code",
   "execution_count": 174,
   "metadata": {
    "deletable": false,
    "editable": false,
    "nbgrader": {
     "cell_type": "code",
     "checksum": "4de060376653830e05fe7d2ea074f90b",
     "grade": true,
     "grade_id": "cell-62297b3504f278ec",
     "locked": true,
     "points": 1,
     "schema_version": 3,
     "solution": false,
     "task": false
    }
   },
   "outputs": [],
   "source": [
    "assert flatten_list([[1, 2, 3], [4, 5, 6], [7], [8, 9],[10, 11, 12, 13, 14]]) == [1, 2, 3, 4, 5, 6, 7, 8, 9, 10, 11, 12, 13, 14]\n",
    "assert flatten_list([[1, 2, 3], [4, 5, 6], [7], [8, 9,10, 11, 12, 13, 14]]) == [1, 2, 3, 4, 5, 6, 7, 8, 9, 10, 11, 12, 13, 14]\n",
    "assert flatten_list([[1, 2, 3], [4, 5, 6], [7], [8, 9],[10], [11], [12], [13, 14]]) == [1, 2, 3, 4, 5, 6, 7, 8, 9, 10, 11, 12, 13, 14]"
   ]
  },
  {
   "cell_type": "markdown",
   "metadata": {
    "deletable": false,
    "editable": false,
    "nbgrader": {
     "cell_type": "markdown",
     "checksum": "1370605dfb91816083faa264f1cd0bf4",
     "grade": false,
     "grade_id": "cell-93f6b304160d0d62",
     "locked": true,
     "schema_version": 3,
     "solution": false,
     "task": false
    }
   },
   "source": [
    "---\n",
    "\n",
    "## Exercise 4\n",
    "\n",
    " use comprehensions to filter a list of words keeping only those starting starting with M or containing F"
   ]
  },
  {
   "cell_type": "code",
   "execution_count": 175,
   "metadata": {
    "deletable": false,
    "nbgrader": {
     "cell_type": "code",
     "checksum": "dc7cdebf403adbdecd20b74e77346994",
     "grade": false,
     "grade_id": "cell-096771dff34a4e5b",
     "locked": false,
     "schema_version": 3,
     "solution": true,
     "task": false
    }
   },
   "outputs": [],
   "source": [
    "def filter_list(l: list[str]):\n",
    "    return [ word for word in l if word.lower().startswith('m') or 'f' in word.lower() ]\n"
   ]
  },
  {
   "cell_type": "code",
   "execution_count": 176,
   "metadata": {
    "deletable": false,
    "editable": false,
    "nbgrader": {
     "cell_type": "code",
     "checksum": "500c387b0a18dbce8cfaaf3e044fb423",
     "grade": true,
     "grade_id": "cell-276004e0334339d7",
     "locked": true,
     "points": 1,
     "schema_version": 3,
     "solution": false,
     "task": false
    }
   },
   "outputs": [],
   "source": [
    "assert filter_list([ 'Monica', 'John', 'Anne', 'Mike', 'Nancy', 'Peter', 'Frank', 'Mary', 'Marc-Frank', 'August-Fracisc'] ) == ['Monica', 'Mike', 'Frank', 'Mary', 'Marc-Frank', 'August-Fracisc']\n",
    "assert filter_list([ 'a', 'b', 'Fa', 'FM', 'm', 'hmf', 'mMmMfF'] ) == ['Fa', 'FM', 'm', 'hmf', 'mMmMfF']\n"
   ]
  },
  {
   "cell_type": "markdown",
   "metadata": {
    "deletable": false,
    "editable": false,
    "nbgrader": {
     "cell_type": "markdown",
     "checksum": "56903404c84e4dc4949f6643116e776d",
     "grade": false,
     "grade_id": "cell-e0f92df64dfbe092",
     "locked": true,
     "schema_version": 3,
     "solution": false,
     "task": false
    }
   },
   "source": [
    "---\n",
    "\n",
    "## Exercise 5\n",
    "\n",
    " use comprehensions to add the first two items of a triple in a list"
   ]
  },
  {
   "cell_type": "code",
   "execution_count": 177,
   "metadata": {
    "deletable": false,
    "nbgrader": {
     "cell_type": "code",
     "checksum": "2ad4706b7e1ad5e51886e41e564ce178",
     "grade": false,
     "grade_id": "cell-c3fc3c414ff1fbf1",
     "locked": false,
     "schema_version": 3,
     "solution": true,
     "task": false
    }
   },
   "outputs": [],
   "source": [
    "def sum_triples(l):\n",
    "    return [ a + b for (a, b, _) in l ]\n"
   ]
  },
  {
   "cell_type": "code",
   "execution_count": 178,
   "metadata": {
    "deletable": false,
    "editable": false,
    "nbgrader": {
     "cell_type": "code",
     "checksum": "977931cecaecde663ba2b100eeb0224d",
     "grade": true,
     "grade_id": "cell-5939f57e1805c994",
     "locked": true,
     "points": 1,
     "schema_version": 3,
     "solution": false,
     "task": false
    }
   },
   "outputs": [],
   "source": [
    "assert sum_triples([(1,2,12), (2,1,3), (3,3,1) ] ) == [3, 3, 6]\n",
    "assert sum_triples([(1,-1,12), (-2,-1,3), (3,3,1) ] ) == [0, -3, 6]\n",
    "assert sum_triples([(1,21,12), (2,1,3), (3,3,1) ] ) == [22, 3, 6]"
   ]
  },
  {
   "cell_type": "markdown",
   "metadata": {
    "deletable": false,
    "editable": false,
    "nbgrader": {
     "cell_type": "markdown",
     "checksum": "37d2cca8ad6330299d427d0769f51d86",
     "grade": false,
     "grade_id": "cell-b652d7c566d4af7e",
     "locked": true,
     "schema_version": 3,
     "solution": false,
     "task": false
    }
   },
   "source": [
    "---\n",
    "\n",
    "## Exercise 6\n",
    "\n",
    " use comprehensions to transpose a squared matrix (i.e., list of lists)"
   ]
  },
  {
   "cell_type": "code",
   "execution_count": 179,
   "metadata": {
    "deletable": false,
    "nbgrader": {
     "cell_type": "code",
     "checksum": "8b8df448a8934141b175f23d93de6337",
     "grade": false,
     "grade_id": "cell-8f9fe87f4d90e397",
     "locked": false,
     "schema_version": 3,
     "solution": true,
     "task": false
    }
   },
   "outputs": [
    {
     "name": "stdout",
     "output_type": "stream",
     "text": [
      "[[0, 3, 6, 9], [1, 4, 7, 17], [2, 5, 8, 8], [3, 1, 10, 110]]\n"
     ]
    }
   ],
   "source": [
    "def transpose(mat: list[list[int]]):\n",
    "    return [ [ mat[j][i] for j in range(len(mat)) ] for i in range(len(mat[0])) ]\n",
    "\n",
    "print(transpose([\n",
    "        [0,1,2,3],\n",
    "        [3,4,5,1],\n",
    "        [6,7,8,10],\n",
    "        [9,17,8,110]])\n",
    "    )"
   ]
  },
  {
   "cell_type": "code",
   "execution_count": 180,
   "metadata": {
    "deletable": false,
    "editable": false,
    "nbgrader": {
     "cell_type": "code",
     "checksum": "48e3cee2ec59fce4e83c955cd7407e24",
     "grade": true,
     "grade_id": "cell-dd573e16ddec2129",
     "locked": true,
     "points": 1,
     "schema_version": 3,
     "solution": false,
     "task": false
    }
   },
   "outputs": [],
   "source": [
    "assert transpose([\n",
    "        [0,1,2],\n",
    "        [3,4,5],\n",
    "        [6,7,8]]) == [[0, 3, 6], [1, 4, 7], [2, 5, 8]]\n",
    "\n",
    "assert transpose([\n",
    "        [0,1,2,3],\n",
    "        [3,4,5,1],\n",
    "        [6,7,8,10],\n",
    "        [9,17,8,110]]) == [[0, 3, 6, 9], [1, 4, 7, 17], [2, 5, 8, 8], [3, 1, 10, 110]]"
   ]
  },
  {
   "cell_type": "markdown",
   "metadata": {
    "deletable": false,
    "editable": false,
    "nbgrader": {
     "cell_type": "markdown",
     "checksum": "32b21b318e8b30c4252564e197e897e0",
     "grade": false,
     "grade_id": "ex1text",
     "locked": true,
     "schema_version": 3,
     "solution": false
    }
   },
   "source": [
    "---\n",
    "\n",
    "## Exercise 7\n",
    "\n",
    "Define a function `is_prime(n)` that checks whether the number `n` is prime or not (returning `True` or `False` accordingly) and use it to generate the set `p` of all the *reciprocals* (i.e., $1 / n$) of the *prime numbers* smaller than **108**. The set **should** be generated by **set comprehension**."
   ]
  },
  {
   "cell_type": "code",
   "execution_count": 181,
   "metadata": {
    "deletable": false,
    "nbgrader": {
     "cell_type": "code",
     "checksum": "1214f652113e3314d6e27d870926dd6d",
     "grade": false,
     "grade_id": "prime_and_comprehension",
     "locked": false,
     "schema_version": 3,
     "solution": true
    }
   },
   "outputs": [],
   "source": [
    "\"\"\"\n",
    "Function prime\n",
    "\"\"\"\n",
    "def is_prime(n):\n",
    "    if n <= 1:\n",
    "        return False\n",
    "\n",
    "    for i in range(2, n):\n",
    "        if n % i == 0:\n",
    "            return False\n",
    "        \n",
    "    return True"
   ]
  },
  {
   "cell_type": "code",
   "execution_count": 182,
   "metadata": {
    "deletable": false,
    "nbgrader": {
     "cell_type": "code",
     "checksum": "3384d124c68e012e702cdae0c690a922",
     "grade": true,
     "grade_id": "cell-875e60fc9a8535af",
     "locked": false,
     "points": 1,
     "schema_version": 3,
     "solution": true,
     "task": false
    }
   },
   "outputs": [
    {
     "data": {
      "text/plain": [
       "{0.009345794392523364,\n",
       " 0.009708737864077669,\n",
       " 0.009900990099009901,\n",
       " 0.010309278350515464,\n",
       " 0.011235955056179775,\n",
       " 0.012048192771084338,\n",
       " 0.012658227848101266,\n",
       " 0.0136986301369863,\n",
       " 0.014084507042253521,\n",
       " 0.014925373134328358,\n",
       " 0.01639344262295082,\n",
       " 0.01694915254237288,\n",
       " 0.018867924528301886,\n",
       " 0.02127659574468085,\n",
       " 0.023255813953488372,\n",
       " 0.024390243902439025,\n",
       " 0.02702702702702703,\n",
       " 0.03225806451612903,\n",
       " 0.034482758620689655,\n",
       " 0.043478260869565216,\n",
       " 0.05263157894736842,\n",
       " 0.058823529411764705,\n",
       " 0.07692307692307693,\n",
       " 0.09090909090909091,\n",
       " 0.14285714285714285,\n",
       " 0.2,\n",
       " 0.3333333333333333,\n",
       " 0.5}"
      ]
     },
     "execution_count": 182,
     "metadata": {},
     "output_type": "execute_result"
    }
   ],
   "source": [
    "\"\"\"\n",
    "Write down the set comprehension expression, storing the data in p\n",
    "\"\"\"\n",
    "p = { 1 / x for x in range(1, 109) if is_prime(x) }\n",
    "p"
   ]
  },
  {
   "cell_type": "code",
   "execution_count": 183,
   "metadata": {
    "deletable": false,
    "editable": false,
    "nbgrader": {
     "cell_type": "code",
     "checksum": "a0e3a1689181b4ab68688c096244f360",
     "grade": true,
     "grade_id": "correct_prime_and_comprehension",
     "locked": false,
     "points": 1,
     "schema_version": 3,
     "solution": false
    }
   },
   "outputs": [],
   "source": [
    "\"\"\"\n",
    "Roughly check the prime function\n",
    "\"\"\"\n",
    "not_primes = [0, 1, 4, 6, 8, 9, 10, 12, 144, 13*13]\n",
    "for v in not_primes:\n",
    "    assert not is_prime(v), f\"{v} uncorrectly stated as prime\"\n",
    "primes = [2, 3, 5, 7, 7877]\n",
    "for v in primes:\n",
    "    assert is_prime(v), f\"{v} uncorrectly stated as not prime\"\n",
    "\"\"\"\n",
    "Check that the comprehension set is correct\n",
    "\"\"\"\n",
    "assert p == {0.009345794392523364,\n",
    " 0.009708737864077669,\n",
    " 0.009900990099009901,\n",
    " 0.010309278350515464,\n",
    " 0.011235955056179775,\n",
    " 0.012048192771084338,\n",
    " 0.012658227848101266,\n",
    " 0.0136986301369863,\n",
    " 0.014084507042253521,\n",
    " 0.014925373134328358,\n",
    " 0.01639344262295082,\n",
    " 0.01694915254237288,\n",
    " 0.018867924528301886,\n",
    " 0.02127659574468085,\n",
    " 0.023255813953488372,\n",
    " 0.024390243902439025,\n",
    " 0.02702702702702703,\n",
    " 0.03225806451612903,\n",
    " 0.034482758620689655,\n",
    " 0.043478260869565216,\n",
    " 0.05263157894736842,\n",
    " 0.058823529411764705,\n",
    " 0.07692307692307693,\n",
    " 0.09090909090909091,\n",
    " 0.14285714285714285,\n",
    " 0.2,\n",
    " 0.3333333333333333,\n",
    " 0.5}"
   ]
  },
  {
   "cell_type": "code",
   "execution_count": null,
   "metadata": {},
   "outputs": [],
   "source": []
  }
 ],
 "metadata": {
  "kernelspec": {
   "display_name": "Python 3 (ipykernel)",
   "language": "python",
   "name": "python3"
  },
  "language_info": {
   "codemirror_mode": {
    "name": "ipython",
    "version": 3
   },
   "file_extension": ".py",
   "mimetype": "text/x-python",
   "name": "python",
   "nbconvert_exporter": "python",
   "pygments_lexer": "ipython3",
   "version": "3.8.12"
  }
 },
 "nbformat": 4,
 "nbformat_minor": 4
}
