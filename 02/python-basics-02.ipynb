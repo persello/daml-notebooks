{
 "cells": [
  {
   "cell_type": "markdown",
   "metadata": {},
   "source": [
    "## General instructions\n",
    "\n",
    "Before you turn this problem in, make sure everything runs as expected. First, **restart the kernel/runtime** (Colab: in the menubar, select *Runtime*$\\rightarrow$*Factory Reset Runtime*; Jupyter: in the menubar, select *Kernel*$\\rightarrow$*Restart*) and then **run all cells** (Colab: in the menubar, select *Runtime*$\\rightarrow$*Run all*; Jupyter: in the menubar, select *Cell*$\\rightarrow$*Run All*).\n",
    "\n",
    "Make sure you fill in any place that says `YOUR CODE HERE` or `\"YOUR ANSWER HERE\"`, as well as the list of the group members in the following cell."
   ]
  },
  {
   "cell_type": "markdown",
   "metadata": {},
   "source": [
    "Enter here the *Group Name* and the list of *Group Members*.\n",
    "\n",
    "`Doi eletronics`\n",
    "\n",
    "`Burco Lorenzo, Persello Riccardo`"
   ]
  },
  {
   "cell_type": "markdown",
   "metadata": {},
   "source": [
    "In order to be able to have an evaluation DO NOT delete/cut the cells with code and answers. Once you have finished you can downolad the notebook (Colab: in the menubar, select *File*$\\rightarrow$*Download .ipynb*; Jupyter: in the menubar, select *File*$\\rightarrow$*Download as*$\\rightarrow$*Notebook (.ipynb)*) and upload as an assignment on the e-learning platform.\n",
    "\n",
    "The following cell will load the Google Drive extension for the current notebook, when the variable `MOUNT` is `True`. This allow you to mount the Google Drive filesystem for file persistence. The mountpoint will be `/content/gdrive`.\n",
    "Furthermore, it will set the `PATH` variable, from now on, so that if you have to refer to external files you could do that by writing:\n",
    "\n",
    "```python\n",
    "os.path.join(PATH, filename)\n",
    "```\n",
    "\n",
    "This will append the filename after the specific PATH."
   ]
  },
  {
   "cell_type": "code",
   "execution_count": 30,
   "metadata": {},
   "outputs": [],
   "source": [
    "import os\n",
    "MOUNT = False\n",
    "if 'google.colab' in str(get_ipython()) and MOUNT:\n",
    "    from google.colab import drive\n",
    "    drive.mount('/content/gdrive')\n",
    "    PATH = '/content/gdrive/MyDrive'\n",
    "else:\n",
    "    PATH = '.'"
   ]
  },
  {
   "cell_type": "markdown",
   "metadata": {},
   "source": [
    "# Important warning\n",
    "\n",
    "**⚠️ avoid copying, removing or modifying test cells, if you do that your assignment might be graded wrongly ⚠️**"
   ]
  },
  {
   "cell_type": "markdown",
   "metadata": {},
   "source": [
    "---"
   ]
  },
  {
   "cell_type": "markdown",
   "metadata": {
    "deletable": false,
    "editable": false,
    "nbgrader": {
     "cell_type": "markdown",
     "checksum": "6c8ad9fa7e043837fc8e8278e9302a36",
     "grade": false,
     "grade_id": "ex1text",
     "locked": true,
     "schema_version": 3,
     "solution": false
    }
   },
   "source": [
    "---\n",
    "\n",
    "## Exercise 1\n",
    "\n",
    "Using the repetition operator (`*`), create a list `zeros` that consists of 20 zeros, a list `ones` that consists of 20 replicates of the `set` containing only value `1` (i.e., `{1}`), and a list `twos` that consists of 20 replicates of the `tuple` consisting of value `2` (how would you write it?)."
   ]
  },
  {
   "cell_type": "code",
   "execution_count": 31,
   "metadata": {
    "deletable": false,
    "nbgrader": {
     "cell_type": "code",
     "checksum": "fd157d502095f59af2c85f0a7f390a84",
     "grade": false,
     "grade_id": "lists_and_repetitions",
     "locked": false,
     "schema_version": 3,
     "solution": true
    }
   },
   "outputs": [
    {
     "name": "stdout",
     "output_type": "stream",
     "text": [
      "[0, 0, 0, 0, 0, 0, 0, 0, 0, 0, 0, 0, 0, 0, 0, 0, 0, 0, 0, 0] [{1}, {1}, {1}, {1}, {1}, {1}, {1}, {1}, {1}, {1}, {1}, {1}, {1}, {1}, {1}, {1}, {1}, {1}, {1}, {1}] [(2,), (2,), (2,), (2,), (2,), (2,), (2,), (2,), (2,), (2,), (2,), (2,), (2,), (2,), (2,), (2,), (2,), (2,), (2,), (2,)]\n"
     ]
    }
   ],
   "source": [
    "\"\"\"\n",
    "List creation\n",
    "\"\"\"\n",
    "zeros = [0] * 20\n",
    "ones = [{1}] * 20\n",
    "twos = [(2, )] * 20\n",
    "print(zeros, ones, twos)"
   ]
  },
  {
   "cell_type": "code",
   "execution_count": 32,
   "metadata": {
    "deletable": false,
    "editable": false,
    "nbgrader": {
     "cell_type": "code",
     "checksum": "558e8c7c225d943d5f9e91f9b2356f40",
     "grade": true,
     "grade_id": "correct_lists_and_repetitions",
     "locked": false,
     "points": 1,
     "schema_version": 3,
     "solution": false
    }
   },
   "outputs": [],
   "source": [
    "\"\"\"\n",
    "  Check that the lists are correct.\n",
    "\"\"\"\n",
    "assert type(zeros) == list and type(ones) == list and type(twos) == list\n",
    "for v in zeros:\n",
    "    assert type(v) == int and v == 0\n",
    "for v in ones:\n",
    "    assert type(v) == set and v == {1}\n",
    "for v in twos:\n",
    "    assert type(v) == tuple and v == tuple([2])"
   ]
  },
  {
   "cell_type": "markdown",
   "metadata": {
    "deletable": false,
    "editable": false,
    "nbgrader": {
     "cell_type": "markdown",
     "checksum": "0aec88d796388a741e0807f86e07e056",
     "grade": false,
     "grade_id": "cell-31313cc92ccbcf40",
     "locked": true,
     "schema_version": 3,
     "solution": false,
     "task": false
    }
   },
   "source": [
    "## Exercise 2\n",
    "\n",
    "Modify the fifth element of each list in the following way:\n",
    "\n",
    "* for the `zeros` list set it to `-1`\n",
    "* for the `ones` list add the value `3` to the set\n",
    "* for the `twos` list concatenate the value `3` in the tuple"
   ]
  },
  {
   "cell_type": "code",
   "execution_count": 33,
   "metadata": {
    "deletable": false,
    "nbgrader": {
     "cell_type": "code",
     "checksum": "1e84a8101829997718274f09a6380b97",
     "grade": false,
     "grade_id": "fourth_change",
     "locked": false,
     "schema_version": 3,
     "solution": true
    }
   },
   "outputs": [
    {
     "name": "stdout",
     "output_type": "stream",
     "text": [
      "[0, 0, 0, 0, -1, 0, 0, 0, 0, 0, 0, 0, 0, 0, 0, 0, 0, 0, 0, 0] [{1, 3}, {1, 3}, {1, 3}, {1, 3}, {1, 3}, {1, 3}, {1, 3}, {1, 3}, {1, 3}, {1, 3}, {1, 3}, {1, 3}, {1, 3}, {1, 3}, {1, 3}, {1, 3}, {1, 3}, {1, 3}, {1, 3}, {1, 3}] [(2,), (2,), (2,), (2,), (2, 3), (2,), (2,), (2,), (2,), (2,), (2,), (2,), (2,), (2,), (2,), (2,), (2,), (2,), (2,), (2,)]\n"
     ]
    }
   ],
   "source": [
    "\"\"\"\n",
    "Modify the fifth element of each list\n",
    "\"\"\"\n",
    "zeros[4] = -1\n",
    "ones[4].add(3)\n",
    "twos[4] = (twos[5][0], 3)\n",
    "print(zeros, ones, twos)"
   ]
  },
  {
   "cell_type": "code",
   "execution_count": 34,
   "metadata": {
    "deletable": false,
    "editable": false,
    "nbgrader": {
     "cell_type": "code",
     "checksum": "9b4f639b07e615fefd8308ae48d10dbe",
     "grade": true,
     "grade_id": "correct_fourth_change",
     "locked": false,
     "points": 1,
     "schema_version": 3,
     "solution": false
    }
   },
   "outputs": [],
   "source": [
    "\"\"\"Check that the modification is correct.\"\"\"\n",
    "assert zeros[4] == -1\n",
    "assert 3 in ones[4]\n",
    "assert 3 in twos[4]\n",
    "# furthermore: enumerate will create an enumeration of index, value from the iterable\n",
    "for i, v in enumerate(zeros):\n",
    "    if i != 4:\n",
    "        assert v == 0\n",
    "for i, v in enumerate(ones):\n",
    "    if i != 4:\n",
    "        assert v == {1, 3}\n",
    "for i, v in enumerate(twos):\n",
    "    if i != 4:\n",
    "        assert v == (2,)"
   ]
  },
  {
   "cell_type": "markdown",
   "metadata": {
    "deletable": false,
    "editable": false,
    "nbgrader": {
     "cell_type": "markdown",
     "checksum": "b3e4c8298cf4942c1513678a300a1ed3",
     "grade": false,
     "grade_id": "cell-50fed4929f3fd4a7",
     "locked": true,
     "schema_version": 3,
     "solution": false,
     "task": false
    }
   },
   "source": [
    "The expected output after the modification is \n",
    "```python\n",
    "[0, 0, 0, 0, -1, 0, 0, 0, 0, 0, 0, 0, 0, 0, 0, 0, 0, 0, 0, 0] [{1, 3}, {1, 3}, {1, 3}, {1, 3}, {1, 3}, {1, 3}, {1, 3}, {1, 3}, {1, 3}, {1, 3}, {1, 3}, {1, 3}, {1, 3}, {1, 3}, {1, 3}, {1, 3}, {1, 3}, {1, 3}, {1, 3}, {1, 3}] [(2,), (2,), (2,), (2,), (2, 3), (2,), (2,), (2,), (2,), (2,), (2,), (2,), (2,), (2,), (2,), (2,), (2,), (2,), (2,), (2,)]\n",
    "```\n",
    "How can you justify the different behavior in the three cases? Write down your answer in the following cell (try also using markdown syntax for enhancing the text)."
   ]
  },
  {
   "cell_type": "markdown",
   "metadata": {
    "deletable": false,
    "nbgrader": {
     "cell_type": "markdown",
     "checksum": "e4a6c3f3f0ec5c6e48d39d32377d40f6",
     "grade": true,
     "grade_id": "cell-8dd881f054bcafb7",
     "locked": false,
     "points": 1,
     "schema_version": 3,
     "solution": true,
     "task": false
    }
   },
   "source": [
    "Sets behave differently because they are mutable containers. Integers and tuples are immutable. The array of sets simply contains twenty references to the same set, so modifying a single reference actually modifies the object referenced by all the elements."
   ]
  },
  {
   "cell_type": "markdown",
   "metadata": {
    "deletable": false,
    "editable": false,
    "nbgrader": {
     "cell_type": "markdown",
     "checksum": "295b6d7f53dfd8b012fea1eb85c73a37",
     "grade": false,
     "grade_id": "cell-ca91d7b5e4a15f5f",
     "locked": true,
     "schema_version": 3,
     "solution": false,
     "task": false
    }
   },
   "source": [
    "Con you figure out an experiment with those containers to check you hypotheses for the previous question? Please write it down the code for verification."
   ]
  },
  {
   "cell_type": "code",
   "execution_count": 35,
   "metadata": {
    "deletable": false,
    "nbgrader": {
     "cell_type": "code",
     "checksum": "ac01500f46f0cfe4c3606c69a85b0f30",
     "grade": true,
     "grade_id": "cell-2e41374b2a3d463d",
     "locked": false,
     "points": 0,
     "schema_version": 3,
     "solution": true,
     "task": false
    }
   },
   "outputs": [],
   "source": [
    "x = {1, 2, 3}\n",
    "y = x\n",
    "\n",
    "# Modify y.\n",
    "y.add(4)\n",
    "\n",
    "# Check that x has been modified.\n",
    "assert 4 in x\n",
    "\n",
    "# Copy x.\n",
    "z = x.copy()\n",
    "\n",
    "# Modify z.\n",
    "z.add(5)\n",
    "\n",
    "# Check that x has not been modified.\n",
    "assert 5 not in x"
   ]
  },
  {
   "cell_type": "markdown",
   "metadata": {
    "deletable": false,
    "editable": false,
    "nbgrader": {
     "cell_type": "markdown",
     "checksum": "3a5f8278c7de6c4961876e12df2da2a2",
     "grade": false,
     "grade_id": "cell-232c44db0bbf9779",
     "locked": true,
     "schema_version": 3,
     "solution": false,
     "task": false
    }
   },
   "source": [
    "## Exercise 3\n",
    "\n",
    "Given the `zeros` list, try to change all the values from index 4 to index 13 (included) with the integer values increasing from `1` to `10`. Do it using the *slicing* of the `zeros` list and the `range()` function for generating the numbers from `1` to `10`."
   ]
  },
  {
   "cell_type": "code",
   "execution_count": 36,
   "metadata": {
    "deletable": false,
    "nbgrader": {
     "cell_type": "code",
     "checksum": "19a865ca346f7e9e378ef590f26cc5c0",
     "grade": false,
     "grade_id": "slice_replacement",
     "locked": false,
     "schema_version": 3,
     "solution": true,
     "task": false
    }
   },
   "outputs": [
    {
     "data": {
      "text/plain": [
       "[0, 0, 0, 0, 1, 2, 3, 4, 5, 6, 7, 8, 9, 10, 0, 0, 0, 0, 0, 0, 0]"
      ]
     },
     "execution_count": 36,
     "metadata": {},
     "output_type": "execute_result"
    }
   ],
   "source": [
    "\"\"\"\n",
    "Slice replacement\n",
    "\"\"\"\n",
    "zeros[4:13] = range(1, 11)\n",
    "zeros"
   ]
  },
  {
   "cell_type": "code",
   "execution_count": 37,
   "metadata": {
    "deletable": false,
    "editable": false,
    "nbgrader": {
     "cell_type": "code",
     "checksum": "df3fb61329211a634a480c28ed750774",
     "grade": true,
     "grade_id": "correct_slice_replacement",
     "locked": true,
     "points": 1,
     "schema_version": 3,
     "solution": false,
     "task": false
    }
   },
   "outputs": [],
   "source": [
    "\"\"\"\n",
    "Check the slice replacement\n",
    "\"\"\"\n",
    "for i, v in enumerate(zeros):\n",
    "    if i >= 4 and i <= 13:\n",
    "        assert v == i - 4 + 1"
   ]
  },
  {
   "cell_type": "markdown",
   "metadata": {
    "deletable": false,
    "editable": false,
    "nbgrader": {
     "cell_type": "markdown",
     "checksum": "a10de7ae8e58f8b6dc6501bc9c1b1560",
     "grade": false,
     "grade_id": "cell-fad7f7185a609136",
     "locked": true,
     "schema_version": 3,
     "solution": false,
     "task": false
    }
   },
   "source": [
    "---\n",
    "\n",
    "# Word $n$-grams \n",
    "\n",
    "Given a string, a word $n$-gram is a subsequence of `n` consecutive words, all in lowercase and excluding punctuation. For example, the string `\"He said bye as he walked through the door.\"` has the following (lowercased) word bi-grams (i.e., $n = 2$). \n",
    "\n",
    "```\n",
    "[('he', 'said'), ('said', 'bye'), ('bye', 'as'), ('as', 'he'), ('he', 'walked'), ('walked', 'through'), ('through', 'the'), ('the', 'door')]\n",
    "```\n",
    "\n",
    "Similarly to the exercise in the previous practice we'd like to transform a sentence in a set of tuples of cardinality $n$ with the word $n$-grams."
   ]
  },
  {
   "cell_type": "markdown",
   "metadata": {
    "deletable": false,
    "editable": false,
    "nbgrader": {
     "cell_type": "markdown",
     "checksum": "98943ad8d468b6c2207694994c9849ee",
     "grade": false,
     "grade_id": "cell-75b69383558aa9c4",
     "locked": true,
     "schema_version": 3,
     "solution": false,
     "task": false
    }
   },
   "source": [
    "## Exercise 4\n",
    "\n",
    "Write a function `word_ngrams(s, n)` (possibly based on those function already defined in the previous practice), that given a string `s` and the size of the $n$-grams will output the set of $n$-grams of `s` represented as tuples. Notice, the `.split()` method of strings could be helpful."
   ]
  },
  {
   "cell_type": "code",
   "execution_count": 38,
   "metadata": {
    "deletable": false,
    "nbgrader": {
     "cell_type": "code",
     "checksum": "aea46a56f64f76311ba437376ac884bc",
     "grade": false,
     "grade_id": "word_n_grams",
     "locked": false,
     "schema_version": 3,
     "solution": true,
     "task": false
    }
   },
   "outputs": [],
   "source": [
    "import string\n",
    "\n",
    "def remove_punctuation(s: str) -> str:\n",
    "    \"\"\"Removes the punctuation from the string s and returns the result\"\"\"\n",
    "    for p in string.punctuation:\n",
    "        s = s.replace(p, '')\n",
    "    return s\n",
    "\n",
    "def word_ngrams(s: str, n=2):\n",
    "    \"\"\"Returns the set of n-grams of the string\"\"\"\n",
    "\n",
    "    words = remove_punctuation(s).lower().split(\" \")\n",
    "\n",
    "    result = set()\n",
    "    for i in range(0, len(words)-(n-1)):\n",
    "        result.add(tuple(words[i:i+n]))  \n",
    "\n",
    "    return result\n"
   ]
  },
  {
   "cell_type": "code",
   "execution_count": 39,
   "metadata": {
    "deletable": false,
    "editable": false,
    "nbgrader": {
     "cell_type": "code",
     "checksum": "1b0bce7b36d3c67d35bf4c4a75ecc1d3",
     "grade": true,
     "grade_id": "correct_word_n_grams",
     "locked": true,
     "points": 1,
     "schema_version": 3,
     "solution": false,
     "task": false
    }
   },
   "outputs": [],
   "source": [
    "assert word_ngrams(\"He said bye as he walked through the door.\") == set([('he', 'said'),\n",
    " ('said', 'bye'),\n",
    " ('bye', 'as'),\n",
    " ('as', 'he'),\n",
    " ('he', 'walked'),\n",
    " ('walked', 'through'),\n",
    " ('through', 'the'),\n",
    " ('the', 'door')])\n",
    "assert word_ngrams(\"He said bye as he walked through the door.\", 3) == set([('he', 'said', 'bye'),\n",
    " ('said', 'bye', 'as'),\n",
    " ('bye', 'as', 'he'),\n",
    " ('as', 'he', 'walked'),\n",
    " ('he', 'walked', 'through'),\n",
    " ('walked', 'through', 'the'),\n",
    " ('through', 'the', 'door')])"
   ]
  },
  {
   "cell_type": "code",
   "execution_count": null,
   "metadata": {},
   "outputs": [],
   "source": []
  },
  {
   "cell_type": "code",
   "execution_count": null,
   "metadata": {},
   "outputs": [],
   "source": []
  }
 ],
 "metadata": {
  "kernelspec": {
   "display_name": "Python 3 (ipykernel)",
   "language": "python",
   "name": "python3"
  },
  "language_info": {
   "codemirror_mode": {
    "name": "ipython",
    "version": 3
   },
   "file_extension": ".py",
   "mimetype": "text/x-python",
   "name": "python",
   "nbconvert_exporter": "python",
   "pygments_lexer": "ipython3",
   "version": "3.10.13"
  }
 },
 "nbformat": 4,
 "nbformat_minor": 4
}
