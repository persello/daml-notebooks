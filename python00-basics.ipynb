{
 "cells": [
  {
   "cell_type": "markdown",
   "id": "d714c115",
   "metadata": {},
   "source": [
    "## General instructions\n",
    "\n",
    "Before you turn this problem in, make sure everything runs as expected. First, **restart the kernel/runtime** (Colab: in the menubar, select *Runtime*$\\rightarrow$*Factory Reset Runtime*; Jupyter: in the menubar, select *Kernel*$\\rightarrow$*Restart*) and then **run all cells** (Colab: in the menubar, select *Runtime*$\\rightarrow$*Run all*; Jupyter: in the menubar, select *Cell*$\\rightarrow$*Run All*).\n",
    "\n",
    "Make sure you fill in any place that says `YOUR CODE HERE` or `\"YOUR ANSWER HERE\"`, as well as the list of the group members in the following cell."
   ]
  },
  {
   "cell_type": "markdown",
   "id": "81beab02",
   "metadata": {},
   "source": [
    "Enter here the *Group Name* and the list of *Group Members*.\n",
    "\n",
    "`Doi eletronics`\n",
    "\n",
    "`Burco Lorenzo, Persello Riccardo`"
   ]
  },
  {
   "cell_type": "markdown",
   "id": "04660f34",
   "metadata": {},
   "source": [
    "In order to be able to have an evaluation DO NOT delete/cut the cells with code and answers. Once you have finished you can downolad the notebook (Colab: in the menubar, select *File*$\\rightarrow$*Download .ipynb*; Jupyter: in the menubar, select *File*$\\rightarrow$*Download as*$\\rightarrow$*Notebook (.ipynb)*) and upload as an assignment on the e-learning platform.\n",
    "\n",
    "The following cell will load the Google Drive extension for the current notebook, when the variable `MOUNT` is `True`. This allow you to mount the Google Drive filesystem for file persistence. The mountpoint will be `/content/gdrive`.\n",
    "Furthermore, it will set the `PATH` variable, from now on, so that if you have to refer to external files you could do that by writing:\n",
    "\n",
    "```python\n",
    "os.path.join(PATH, filename)\n",
    "```\n",
    "\n",
    "This will append the filename after the specific PATH."
   ]
  },
  {
   "cell_type": "code",
   "execution_count": 42,
   "id": "93b5c0ff",
   "metadata": {},
   "outputs": [],
   "source": [
    "import os\n",
    "MOUNT = False\n",
    "if 'google.colab' in str(get_ipython()) and MOUNT:\n",
    "    from google.colab import drive\n",
    "    drive.mount('/content/gdrive')\n",
    "    PATH = '/content/gdrive/MyDrive'\n",
    "else:\n",
    "    PATH = '.'"
   ]
  },
  {
   "cell_type": "markdown",
   "id": "235c09a9",
   "metadata": {},
   "source": [
    "# Important warning\n",
    "\n",
    "**⚠️ avoid copying, removing or modifying test cells, if you do that your assignment might be graded wrongly ⚠️**"
   ]
  },
  {
   "cell_type": "markdown",
   "id": "cf0070a5",
   "metadata": {},
   "source": [
    "---"
   ]
  },
  {
   "cell_type": "markdown",
   "id": "9ec61171",
   "metadata": {
    "deletable": false,
    "editable": false,
    "nbgrader": {
     "cell_type": "markdown",
     "checksum": "bdb392d8155bd842cdfa1a328d4f2448",
     "grade": false,
     "grade_id": "cell-48202e7869f721c8",
     "locked": true,
     "schema_version": 3,
     "solution": false,
     "task": false
    }
   },
   "source": [
    "# The very basics\n",
    "\n",
    "In this notebook we are dealing with the real basics of the Python language, trying to cope with variables and performing some stuff.\n"
   ]
  },
  {
   "cell_type": "markdown",
   "id": "5a66b2f3",
   "metadata": {
    "deletable": false,
    "editable": false,
    "nbgrader": {
     "cell_type": "markdown",
     "checksum": "19198baa29f7a3b7aa2a329734e70a1b",
     "grade": false,
     "grade_id": "cell-8060d7fa737115e4",
     "locked": true,
     "schema_version": 3,
     "solution": false,
     "task": false
    }
   },
   "source": [
    "## Exercise 1\n",
    "\n",
    "Write the code that, given a value stored in a variable `n` it checks whether that number is a prime or not and stores the truth value of that condition in another variable `prime`.\n",
    "\n",
    "**Recall**: a natural number (i.e., integer and non negative) is *prime* if it is only divisible by 1 and itself."
   ]
  },
  {
   "cell_type": "code",
   "execution_count": 43,
   "id": "1b09a2c2",
   "metadata": {
    "deletable": false,
    "nbgrader": {
     "cell_type": "code",
     "checksum": "a74deade06d57a16b42187ee92f09be4",
     "grade": false,
     "grade_id": "cell-3dd7f008193cd592",
     "locked": false,
     "schema_version": 3,
     "solution": true,
     "task": false
    }
   },
   "outputs": [
    {
     "name": "stdout",
     "output_type": "stream",
     "text": [
      "False\n"
     ]
    }
   ],
   "source": [
    "n = 6\n",
    "for i in range(2, n):\n",
    "    if n % i != 0:\n",
    "        prime = True\n",
    "    else:\n",
    "        prime = False\n",
    "        break\n",
    "\n",
    "print(prime)"
   ]
  },
  {
   "cell_type": "code",
   "execution_count": 44,
   "id": "5bfdd471",
   "metadata": {
    "deletable": false,
    "editable": false,
    "nbgrader": {
     "cell_type": "code",
     "checksum": "32a79e403746ebf57ce4d4ffbf6a8f77",
     "grade": true,
     "grade_id": "cell-40afce5bc2d3ca0c",
     "locked": true,
     "points": 1,
     "schema_version": 3,
     "solution": false,
     "task": false
    }
   },
   "outputs": [],
   "source": [
    "assert prime is False"
   ]
  },
  {
   "cell_type": "markdown",
   "id": "9072ffa8",
   "metadata": {
    "deletable": false,
    "editable": false,
    "nbgrader": {
     "cell_type": "markdown",
     "checksum": "c87861a3f3ddfcbc5e947ba7c0f90e58",
     "grade": false,
     "grade_id": "cell-413a427738eaad77",
     "locked": true,
     "schema_version": 3,
     "solution": false,
     "task": false
    }
   },
   "source": [
    "Try another case of running the above code (you have to copy & paste it in the following cell) for testing another number that, instead, is prime (that is, copy the code and change the value of `n` to test a prime number)."
   ]
  },
  {
   "cell_type": "code",
   "execution_count": 45,
   "id": "552286b8",
   "metadata": {
    "deletable": false,
    "nbgrader": {
     "cell_type": "code",
     "checksum": "35e6407abd3306025c7bacc81ae3d863",
     "grade": true,
     "grade_id": "cell-299112a0e5a1f839",
     "locked": false,
     "points": 0,
     "schema_version": 3,
     "solution": true,
     "task": false
    }
   },
   "outputs": [
    {
     "name": "stdout",
     "output_type": "stream",
     "text": [
      "True\n"
     ]
    }
   ],
   "source": [
    "n = 7\n",
    "for i in range(2, n):\n",
    "    if n % i != 0:\n",
    "        prime = True\n",
    "    else:\n",
    "        prime = False\n",
    "        break\n",
    "\n",
    "print(prime)"
   ]
  },
  {
   "cell_type": "code",
   "execution_count": 46,
   "id": "b78c9092",
   "metadata": {
    "deletable": false,
    "editable": false,
    "nbgrader": {
     "cell_type": "code",
     "checksum": "9ab692574e7bc1286630e0005c888bee",
     "grade": true,
     "grade_id": "cell-ff6c2d61bcd19008",
     "locked": true,
     "points": 0,
     "schema_version": 3,
     "solution": false,
     "task": false
    }
   },
   "outputs": [],
   "source": [
    "assert prime is True"
   ]
  },
  {
   "cell_type": "markdown",
   "id": "7f993d38",
   "metadata": {
    "deletable": false,
    "editable": false,
    "nbgrader": {
     "cell_type": "markdown",
     "checksum": "490fb5533e36ccb44a7983b23dc36b26",
     "grade": false,
     "grade_id": "cell-39bf95cdd759b7c0",
     "locked": true,
     "schema_version": 3,
     "solution": false,
     "task": false
    }
   },
   "source": [
    "For the purpose of reuse, the code you wrote can be embedded in a *function*. More details about functions will follow in a later video lecture, although by now it's enough to know that a function can be defined as follows:\n",
    "\n",
    "```python\n",
    "def function_name(parameter1, parameter2): # the function HAS parameters, which represent data coming from the outside environment\n",
    "    # function body, i.e., the code that implements the function and compute a `value`\n",
    "    return value # this is usually the final statement, passing the result of the function to the outside environment\n",
    "```\n",
    "\n",
    "Once defined, the function can be called multiple times as:\n",
    "\n",
    "```python\n",
    "result = function_name(5, 2)\n",
    "```\n",
    "\n",
    "and the returned value can be stored, e.g., in variables."
   ]
  },
  {
   "cell_type": "markdown",
   "id": "e3ce762e",
   "metadata": {
    "deletable": false,
    "editable": false,
    "nbgrader": {
     "cell_type": "markdown",
     "checksum": "8d82f665babbe6c31ba15d10e51c6cee",
     "grade": false,
     "grade_id": "cell-688a850a3a545ca5",
     "locked": true,
     "schema_version": 3,
     "solution": false,
     "task": false
    }
   },
   "source": [
    "## Exercise 2\n",
    "\n",
    "Embed the code you write above in a function, named `prime()` that takes the value for which to determine its primality as a parameter.\n",
    "\n",
    "Notice that the name `prime` now has become the name of the function and cannot be used as a variable inside the function body (this means that you cannot just copy and paste the above code but rather you must adapt it to the specific situation)."
   ]
  },
  {
   "cell_type": "code",
   "execution_count": 47,
   "id": "d1be7916",
   "metadata": {
    "deletable": false,
    "nbgrader": {
     "cell_type": "code",
     "checksum": "1f1a80bd8378bda6ac481821737eeb90",
     "grade": false,
     "grade_id": "cell-35c94d1e8cdec97f",
     "locked": false,
     "schema_version": 3,
     "solution": true,
     "task": false
    }
   },
   "outputs": [],
   "source": [
    "def prime(n):\n",
    "    for i in range(2, n):\n",
    "        if n % i == 0:\n",
    "            return False\n",
    "        \n",
    "    return True"
   ]
  },
  {
   "cell_type": "markdown",
   "id": "99762888",
   "metadata": {
    "deletable": false,
    "editable": false,
    "nbgrader": {
     "cell_type": "markdown",
     "checksum": "154ff6cc9d887de17d5245a6e7164234",
     "grade": false,
     "grade_id": "cell-c74d26f9920c7aa9",
     "locked": true,
     "schema_version": 3,
     "solution": false,
     "task": false
    }
   },
   "source": [
    "Notice that the name `prime` now has changed its nature: from the previous cell on it has become a `function`. You can inspect it by adding a new cell after this one and issuing the command `type(prime)` which tells you which is the type associated to the variable.\n",
    "\n",
    "You can also try re-running the previous cells in order to check what was the type of `prime` earlier."
   ]
  },
  {
   "cell_type": "code",
   "execution_count": 48,
   "id": "b1748784",
   "metadata": {
    "deletable": false,
    "editable": false,
    "nbgrader": {
     "cell_type": "code",
     "checksum": "2a8431d59da18cec19cf0fa5c5276f00",
     "grade": true,
     "grade_id": "cell-3c90c7b21e1eaba1",
     "locked": true,
     "points": 1,
     "schema_version": 3,
     "solution": false,
     "task": false
    }
   },
   "outputs": [],
   "source": [
    "assert prime(6) is False\n",
    "assert prime(5) is True\n",
    "assert prime(45) is False"
   ]
  },
  {
   "cell_type": "markdown",
   "id": "5673ce29",
   "metadata": {
    "deletable": false,
    "editable": false,
    "nbgrader": {
     "cell_type": "markdown",
     "checksum": "8574a6a2fc7d775eed1b590e5d131f63",
     "grade": false,
     "grade_id": "cell-1b45c633685376a5",
     "locked": true,
     "schema_version": 3,
     "solution": false,
     "task": false
    }
   },
   "source": [
    "## Excercise 3\n",
    "\n",
    "The value of the stopped factorial `stopped_fact(n, k)` function consists in the multiplication of the numbers $n$, $n - 1$, $n - 2$, ..., $n - k + 1$. For example `stopped_fact(5, 3)` has value $5 \\times 4 \\times 3 = 60$, or `stopped_fact(13, 4)` has value $13 \\times 12 \\times 11 \\times 10 = 17160$.\n",
    "\n",
    "Fill in the function to compute the stopped factorial. "
   ]
  },
  {
   "cell_type": "code",
   "execution_count": 49,
   "id": "638c578a",
   "metadata": {
    "deletable": false,
    "nbgrader": {
     "cell_type": "code",
     "checksum": "5c1ebb6361a3360269f52d3fb01a253c",
     "grade": false,
     "grade_id": "cell-9c9ca1ea16bf3107",
     "locked": false,
     "schema_version": 3,
     "solution": true,
     "task": false
    }
   },
   "outputs": [],
   "source": [
    "def stopped_fact(n, k):\n",
    "    acc = 1\n",
    "    for x in range(n-(k-1), n+1):\n",
    "        acc *= x\n",
    "\n",
    "    return acc"
   ]
  },
  {
   "cell_type": "code",
   "execution_count": 50,
   "id": "d55ad498",
   "metadata": {
    "deletable": false,
    "editable": false,
    "nbgrader": {
     "cell_type": "code",
     "checksum": "39aa6e27826467467638c67d61ea2887",
     "grade": true,
     "grade_id": "cell-088cedc90fdc6551",
     "locked": true,
     "points": 1,
     "schema_version": 3,
     "solution": false,
     "task": false
    }
   },
   "outputs": [],
   "source": [
    "assert stopped_fact(4, 2) == 12\n",
    "assert stopped_fact(5, 3) == 60\n",
    "assert stopped_fact(13, 4) == 17160"
   ]
  },
  {
   "cell_type": "code",
   "execution_count": null,
   "id": "c3a451df",
   "metadata": {},
   "outputs": [],
   "source": []
  }
 ],
 "metadata": {
  "kernelspec": {
   "display_name": "Python 3 (ipykernel)",
   "language": "python",
   "name": "python3"
  },
  "language_info": {
   "codemirror_mode": {
    "name": "ipython",
    "version": 3
   },
   "file_extension": ".py",
   "mimetype": "text/x-python",
   "name": "python",
   "nbconvert_exporter": "python",
   "pygments_lexer": "ipython3",
   "version": "3.10.13"
  }
 },
 "nbformat": 4,
 "nbformat_minor": 5
}
