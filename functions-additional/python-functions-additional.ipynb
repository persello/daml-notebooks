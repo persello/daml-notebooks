{
 "cells": [
  {
   "cell_type": "markdown",
   "id": "d2589ad8",
   "metadata": {},
   "source": [
    "## General instructions\n",
    "\n",
    "Before you turn this problem in, make sure everything runs as expected. First, **restart the kernel/runtime** (Colab: in the menubar, select *Runtime*$\\rightarrow$*Factory Reset Runtime*; Jupyter: in the menubar, select *Kernel*$\\rightarrow$*Restart*) and then **run all cells** (Colab: in the menubar, select *Runtime*$\\rightarrow$*Run all*; Jupyter: in the menubar, select *Cell*$\\rightarrow$*Run All*).\n",
    "\n",
    "Make sure you fill in any place that says `YOUR CODE HERE` or `\"YOUR ANSWER HERE\"`, as well as the list of the group members in the following cell."
   ]
  },
  {
   "cell_type": "markdown",
   "id": "b6712ee8",
   "metadata": {},
   "source": [
    "Enter here the *Group Name* and the list of *Group Members*.\n",
    "\n",
    "`Doi eletronics`\n",
    "\n",
    "`Burco Lorenzo, Persello Riccardo`"
   ]
  },
  {
   "cell_type": "markdown",
   "id": "d028f3eb",
   "metadata": {},
   "source": [
    "In order to be able to have an evaluation DO NOT delete/cut the cells with code and answers. Once you have finished you can downolad the notebook (Colab: in the menubar, select *File*$\\rightarrow$*Download .ipynb*; Jupyter: in the menubar, select *File*$\\rightarrow$*Download as*$\\rightarrow$*Notebook (.ipynb)*) and upload as an assignment on the e-learning platform.\n",
    "\n",
    "The following cell will load the Google Drive extension for the current notebook, when the variable `MOUNT` is `True`. This allow you to mount the Google Drive filesystem for file persistence. The mountpoint will be `/content/gdrive`.\n",
    "Furthermore, it will set the `PATH` variable, from now on, so that if you have to refer to external files you could do that by writing:\n",
    "\n",
    "```python\n",
    "os.path.join(PATH, filename)\n",
    "```\n",
    "\n",
    "This will append the filename after the specific PATH."
   ]
  },
  {
   "cell_type": "code",
   "execution_count": 1,
   "id": "837bb0e3",
   "metadata": {},
   "outputs": [],
   "source": [
    "import os\n",
    "MOUNT = False\n",
    "if 'google.colab' in str(get_ipython()) and MOUNT:\n",
    "    from google.colab import drive\n",
    "    drive.mount('/content/gdrive')\n",
    "    PATH = '/content/gdrive/MyDrive'\n",
    "else:\n",
    "    PATH = '.'"
   ]
  },
  {
   "cell_type": "markdown",
   "id": "88eab68d",
   "metadata": {},
   "source": [
    "# Important warning\n",
    "\n",
    "**⚠️ avoid copying, removing or modifying test cells, if you do that your assignment might be graded wrongly ⚠️**"
   ]
  },
  {
   "cell_type": "markdown",
   "id": "b487fff7",
   "metadata": {},
   "source": [
    "---"
   ]
  },
  {
   "cell_type": "markdown",
   "id": "6833d7a9",
   "metadata": {
    "deletable": false,
    "editable": false,
    "nbgrader": {
     "cell_type": "markdown",
     "checksum": "ed6351573290af655b3e3a466e077e12",
     "grade": false,
     "grade_id": "cell-72b72a87b5df390d",
     "locked": true,
     "schema_version": 3,
     "solution": false,
     "task": false
    }
   },
   "source": [
    "Suppose you have the outcomes of an exam reported as string of given answers and correct ones. The format of the data is the following one:\n",
    "\n",
    "```python\n",
    "[{'student_id': '1', 'given': ['F'. 'AB', 'C', ...], 'correct': ['F', 'A', 'D', ...] }, ...]\n",
    "```\n",
    "That is, there are lists of dictionaries, containing `student_id`, `given` and `correct` answers represented as list of strings. The above example reads `'F'` is the given answer for the first question and `'F'` is the correct answer for the first question. As for the second question `'A'` and `'B'` are the given answer but only `'A'` is correct.\n",
    "\n",
    "An example file is provided along with this notebook, whose name is `correction.json`.\n",
    "\n",
    "The following statements will import the library for loading that file and providing its content as the `data` variable. Notice that in order to be able to load it you should **upload it** to the colaboratory environment. Alternatively you might mount the google drive and try referring to its path on the google drive with the `PATH` variable."
   ]
  },
  {
   "cell_type": "code",
   "execution_count": 2,
   "id": "744ab148",
   "metadata": {
    "deletable": false,
    "editable": false,
    "nbgrader": {
     "cell_type": "code",
     "checksum": "46ad78edcab8be7959259579273fc332",
     "grade": false,
     "grade_id": "cell-fe8b2f9687ba4f83",
     "locked": true,
     "schema_version": 3,
     "solution": false,
     "task": false
    }
   },
   "outputs": [],
   "source": [
    "import json\n",
    "import os\n",
    "if 'PATH' not in locals():\n",
    "    PATH = '.'\n",
    "\n",
    "with open(os.path.join(PATH, 'correction.json')) as f:\n",
    "    data = json.load(f)"
   ]
  },
  {
   "cell_type": "code",
   "execution_count": 3,
   "id": "50076ac4",
   "metadata": {
    "deletable": false,
    "editable": false,
    "nbgrader": {
     "cell_type": "code",
     "checksum": "cc2800e9bbfe35527cd23b26a7297d3d",
     "grade": false,
     "grade_id": "cell-2a3ae77aa3c876c9",
     "locked": true,
     "schema_version": 3,
     "solution": false,
     "task": false
    }
   },
   "outputs": [
    {
     "name": "stdout",
     "output_type": "stream",
     "text": [
      "228 [{'student_id': '95', 'correct': ['F', 'A', 'B', 'D', 'C', 'A', 'C', 'C', 'C', 'A', 'D', 'E', 'AB', 'C', 'AD'], 'given': ['F', 'A', 'B', 'A', 'C', 'C', 'C', 'C', 'A', 'C', 'D', 'B', 'AB', 'A', 'CBE']}, {'student_id': '181', 'correct': ['E', 'B', 'A', 'A', 'C', 'B', 'D', 'B', 'B', 'EA', 'B', 'B', 'AE', 'A', 'A'], 'given': ['E', 'B', 'A', 'A', 'C', 'B', 'D', 'B', 'B', 'EBA', 'B', 'B', 'AE', 'C', 'A']}, {'student_id': '60', 'correct': ['C', 'B', 'D', 'C', 'C', 'D', 'E', 'D', 'D', 'B', 'CF', 'D', 'D', 'C', 'A'], 'given': ['C', 'C', 'B', 'D', 'C', 'E', 'E', 'D', 'D', 'D', 'D', 'BD', 'B', 'B', 'BC']}, {'student_id': '50', 'correct': ['B', 'A', 'B', 'B', 'AD', 'A', 'B', 'B', 'B', 'B', 'A', 'C', 'D', 'A', 'B'], 'given': ['B', 'A', 'B', 'B', 'A', 'A', 'B', 'B', 'B', 'B', 'A', 'C', 'D', 'A', 'B']}, {'student_id': '55', 'correct': ['B', 'B', 'C', 'C', 'D', 'D', 'ADFB', 'B', 'D', 'A', 'B', 'C', 'C', 'C', 'B'], 'given': ['B', 'B', 'C', 'D', 'D', 'D', 'ADFB', 'B', 'D', 'A', 'B', 'C', 'C', 'C', 'B']}]\n"
     ]
    }
   ],
   "source": [
    "print(len(data), data[:5])"
   ]
  },
  {
   "cell_type": "markdown",
   "id": "9ba6a9d9",
   "metadata": {
    "deletable": false,
    "editable": false,
    "nbgrader": {
     "cell_type": "markdown",
     "checksum": "73c848ada70847c330f9bcfb8bc88056",
     "grade": false,
     "grade_id": "cell-aefa60867ee96a62",
     "locked": true,
     "schema_version": 3,
     "solution": false,
     "task": false
    }
   },
   "source": [
    "## Exercise 1\n",
    "\n",
    "Write a function named `correction` that takes as arguments the answers to a single question and returns the following values:\n",
    "\n",
    "1. the number of correct answers among the given ones;\n",
    "2. the number of missing answers from the given ones.\n",
    "\n",
    "For example, in the case of `'AB'` as the given answers and `'BD'` as the correct ones the only correct answer in the given is `B` whereas `D` is missing.\n",
    "\n",
    "**Suggestion:** use the “super-powers” of the **`set`** data structure."
   ]
  },
  {
   "cell_type": "code",
   "execution_count": 4,
   "id": "74303803",
   "metadata": {
    "deletable": false,
    "nbgrader": {
     "cell_type": "code",
     "checksum": "190710fc070ebb4b4960348b3a9f5ed7",
     "grade": false,
     "grade_id": "cell-c2760e69b1cd2873",
     "locked": false,
     "schema_version": 3,
     "solution": true,
     "task": false
    }
   },
   "outputs": [],
   "source": [
    "def correction(given: str, correct: str) -> (int, int):\n",
    "    given_set = set(given)\n",
    "    correct_set = set(correct)\n",
    "\n",
    "    intersection = given_set & correct_set\n",
    "    missing = correct_set - intersection\n",
    "\n",
    "    return (len(intersection), len(missing))"
   ]
  },
  {
   "cell_type": "code",
   "execution_count": 5,
   "id": "c5bab0c0",
   "metadata": {
    "deletable": false,
    "editable": false,
    "nbgrader": {
     "cell_type": "code",
     "checksum": "df59b9e9428ddae5183ca3e883c5aa0c",
     "grade": true,
     "grade_id": "cell-7971e816718e146d",
     "locked": true,
     "points": 1,
     "schema_version": 3,
     "solution": false,
     "task": false
    }
   },
   "outputs": [],
   "source": [
    "\"\"\"\n",
    "Checks that the function `correction` exists\n",
    "\"\"\"\n",
    "try:\n",
    "    correction\n",
    "except NameError:\n",
    "    assert False, \"The name correction does not exists\"\n",
    "\"\"\"\n",
    "A few cases\n",
    "\"\"\"\n",
    "assert correction('AB', 'BD') == (1, 1)\n",
    "assert correction('A', 'BDC') == (0, 3)\n",
    "assert correction('', '') == (0, 0)\n",
    "assert correction('', 'A') == (0, 1)"
   ]
  },
  {
   "cell_type": "markdown",
   "id": "27c8d3a0",
   "metadata": {
    "deletable": false,
    "editable": false,
    "nbgrader": {
     "cell_type": "markdown",
     "checksum": "cbbb1d68d450abb5d6cae8fbf87325f9",
     "grade": false,
     "grade_id": "cell-55975109d6b56c5d",
     "locked": true,
     "schema_version": 3,
     "solution": false,
     "task": false
    }
   },
   "source": [
    "## Exercise 2\n",
    "\n",
    "Write a function `process` that transforms the data from the list of student into the following new format:\n",
    "\n",
    "```python\n",
    "[{ 'student_id': '1', 'answers': [(1, 1), (0, 3), ... ] }, { 'student_id': 2, ... }]\n",
    "```\n",
    "\n",
    "by using the `correction` function defined above. The first element of the tuple should be the number of correct answers and the second element of the tuple the number of missing ones.\n",
    "\n",
    "Optionally, the function `process` could take further arguments `given` and `missing` that, when set to `True`, will fill in the `answers` list with the specified value. That is:\n",
    "\n",
    "```python\n",
    "process(data) # should perform the above described transformation, with a tuple of two values\n",
    "process(data, given=True, missing=True) # same as before\n",
    "process(data, given=True) # should fill in `answers` list with just the `given` values\n",
    "process(data, missing=True) # should fill in `answers` list with just the `missing` values\n",
    "```"
   ]
  },
  {
   "cell_type": "code",
   "execution_count": 15,
   "id": "fea011f0",
   "metadata": {
    "deletable": false,
    "nbgrader": {
     "cell_type": "code",
     "checksum": "28a41436f7d1a02d13f5c876338ce11a",
     "grade": false,
     "grade_id": "cell-78cf6f8aac913681",
     "locked": false,
     "schema_version": 3,
     "solution": true,
     "task": false
    }
   },
   "outputs": [],
   "source": [
    "def split_correction(correction_result: (int, int), given, missing):\n",
    "\n",
    "    if not given and not missing:\n",
    "        # No parameters have been passed, keep the result.\n",
    "        return correction_result\n",
    "    if given and missing:\n",
    "        # Same as before.\n",
    "        return correction_result\n",
    "    elif missing:\n",
    "        return correction_result[1]\n",
    "    elif given:\n",
    "        return correction_result[0]\n",
    "\n",
    "def process(data, given=False, missing=False):\n",
    "\n",
    "    result = []\n",
    "    for student_data in data:\n",
    "        result.append(\n",
    "            { \n",
    "              'student_id': student_data['student_id'],\n",
    "              'answers': [ split_correction(correction(given_answer, correct_answer), given, missing) for (given_answer, correct_answer) in zip(student_data['given'], student_data['correct'])]\n",
    "            }\n",
    "        )\n",
    "\n",
    "    return result"
   ]
  },
  {
   "cell_type": "code",
   "execution_count": 16,
   "id": "a15e48a6",
   "metadata": {
    "deletable": false,
    "editable": false,
    "nbgrader": {
     "cell_type": "code",
     "checksum": "63be551b9b87bcf4880064e994c2bb17",
     "grade": true,
     "grade_id": "cell-880f468f6c45c067",
     "locked": true,
     "points": 0,
     "schema_version": 3,
     "solution": false,
     "task": false
    }
   },
   "outputs": [],
   "source": [
    "res = process(data)\n",
    "for i, d in enumerate(res):\n",
    "    assert d['student_id'] == data[i]['student_id'], f\"{d['student_id']} {data[i]}\"\n",
    "    for t, g, c in zip(d['answers'], data[i]['given'], data[i]['correct']):\n",
    "        assert t == correction(g, c)\n",
    "res = process(data, given=True)\n",
    "for i, d in enumerate(res):\n",
    "    assert d['student_id'] == data[i]['student_id'], f\"{d['student_id']} {data[i]}\"\n",
    "    for t, g, c in zip(d['answers'], data[i]['given'], data[i]['correct']):\n",
    "        assert t == correction(g, c)[0]\n",
    "res = process(data, missing=True)\n",
    "for i, d in enumerate(res):\n",
    "    assert d['student_id'] == data[i]['student_id'], f\"{d['student_id']} {data[i]}\"\n",
    "    for t, g, c in zip(d['answers'], data[i]['given'], data[i]['correct']):\n",
    "        assert t == correction(g, c)[1]"
   ]
  },
  {
   "cell_type": "markdown",
   "id": "af28310b",
   "metadata": {
    "deletable": false,
    "editable": false,
    "nbgrader": {
     "cell_type": "markdown",
     "checksum": "e4bcf77d6ef2a89a15e0acb8c3eea27c",
     "grade": false,
     "grade_id": "cell-89593649e5ec24a8",
     "locked": true,
     "schema_version": 3,
     "solution": false,
     "task": false
    }
   },
   "source": [
    "## Exercise 3\n",
    "\n",
    "Write a function `report(data, f)` that takes as argument the list obtained by the `process` function and an aggregation function `f` (can be `min`, `max`, `sum`).\n",
    "\n",
    "The `report` function should take the `answers` list of each student and aggregate the **number of correct** results by applying the aggregation function `f`.\n",
    "\n",
    "The default value for the aggregation function for the `report` function should be `sum`.\n",
    "\n",
    "The output should be a dictionary, whose keys are the student ids and the values are the result of the aggregation, for example:\n",
    "\n",
    "```python\n",
    "{'95': 8,\n",
    " '181': 1,\n",
    " '60': 10,\n",
    " '50': 1,\n",
    " ...\n",
    "}\n",
    "```"
   ]
  },
  {
   "cell_type": "code",
   "execution_count": 17,
   "id": "84984e7e",
   "metadata": {
    "deletable": false,
    "nbgrader": {
     "cell_type": "code",
     "checksum": "bb03ba25cce39b9355060a5f87c59b7a",
     "grade": false,
     "grade_id": "cell-5eb54861aa4f2e39",
     "locked": false,
     "schema_version": 3,
     "solution": true,
     "task": false
    }
   },
   "outputs": [],
   "source": [
    "def report(data, f=sum):\n",
    "    return { student_data['student_id']: f([ num_correct for (num_correct, _) in student_data['answers']]) for student_data in data }"
   ]
  },
  {
   "cell_type": "code",
   "execution_count": 18,
   "id": "3d6332d4",
   "metadata": {
    "deletable": false,
    "editable": false,
    "nbgrader": {
     "cell_type": "code",
     "checksum": "dec0f40e80d7fb37dafab856ab2281b6",
     "grade": true,
     "grade_id": "cell-f845536578dd20bf",
     "locked": true,
     "points": 1,
     "schema_version": 3,
     "solution": false,
     "task": false
    }
   },
   "outputs": [],
   "source": [
    "# This will check the results with respect to the reference ones, provided in a json file\n",
    "# In order to pass the test also this file should be uploaded\n",
    "res = process(data)\n",
    "with open(os.path.join(PATH, 'results.json')) as f:\n",
    "    compare = json.load(f)\n",
    "for student_id, value in report(res).items():\n",
    "    assert value == compare[student_id]"
   ]
  },
  {
   "cell_type": "markdown",
   "id": "f20950a6-5020-4854-b56d-cd27f214ea36",
   "metadata": {
    "deletable": false,
    "editable": false,
    "nbgrader": {
     "cell_type": "markdown",
     "checksum": "e68bab1bc3c2273324c398fc1d01d37c",
     "grade": false,
     "grade_id": "cell-423052e40855e0a0",
     "locked": true,
     "schema_version": 3,
     "solution": false,
     "task": false
    },
    "tags": []
   },
   "source": [
    "## Exercise 4\n",
    "\n",
    "Write an `average(d)` function that given a list of numerical values returns the average value of the list and use it as the *aggregator* in the `report()` function defined above."
   ]
  },
  {
   "cell_type": "code",
   "execution_count": 21,
   "id": "7d127923-dd5e-4686-b4c5-be1b15780613",
   "metadata": {
    "deletable": false,
    "nbgrader": {
     "cell_type": "code",
     "checksum": "d9cacbf2d71db1f240c883109720756e",
     "grade": false,
     "grade_id": "cell-8a1f3d9b03950928",
     "locked": false,
     "schema_version": 3,
     "solution": true,
     "task": false
    },
    "tags": []
   },
   "outputs": [],
   "source": [
    "def average(d):\n",
    "    s = sum(d)\n",
    "    return s / len(d)"
   ]
  },
  {
   "cell_type": "code",
   "execution_count": 22,
   "id": "29ac55d1-5a25-4d5f-86f8-5f17e7281c8f",
   "metadata": {
    "deletable": false,
    "editable": false,
    "nbgrader": {
     "cell_type": "code",
     "checksum": "f97a15d2bf7107fbf4291680d69277a0",
     "grade": true,
     "grade_id": "cell-6b48d9a6ce4908ec",
     "locked": true,
     "points": 1,
     "schema_version": 3,
     "solution": false,
     "task": false
    },
    "tags": []
   },
   "outputs": [],
   "source": [
    "try:\n",
    "    report(res, average)\n",
    "except NameError as e:\n",
    "    assert False, str(e)"
   ]
  },
  {
   "cell_type": "code",
   "execution_count": null,
   "id": "bac225a3-982a-4bd5-a5b6-3807fdacd6cf",
   "metadata": {},
   "outputs": [],
   "source": []
  }
 ],
 "metadata": {
  "kernelspec": {
   "display_name": "Python 3 (ipykernel)",
   "language": "python",
   "name": "python3"
  },
  "language_info": {
   "codemirror_mode": {
    "name": "ipython",
    "version": 3
   },
   "file_extension": ".py",
   "mimetype": "text/x-python",
   "name": "python",
   "nbconvert_exporter": "python",
   "pygments_lexer": "ipython3",
   "version": "3.10.13"
  }
 },
 "nbformat": 4,
 "nbformat_minor": 5
}
