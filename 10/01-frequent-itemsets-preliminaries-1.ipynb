{
 "cells": [
  {
   "cell_type": "markdown",
   "metadata": {},
   "source": [
    "## General instructions\n",
    "\n",
    "Before you turn this problem in, make sure everything runs as expected. First, **restart the kernel/runtime** (Colab: in the menubar, select *Runtime*$\\rightarrow$*Factory Reset Runtime*; Jupyter: in the menubar, select *Kernel*$\\rightarrow$*Restart*) and then **run all cells** (Colab: in the menubar, select *Runtime*$\\rightarrow$*Run all*; Jupyter: in the menubar, select *Cell*$\\rightarrow$*Run All*).\n",
    "\n",
    "Make sure you fill in any place that says `YOUR CODE HERE` or `\"YOUR ANSWER HERE\"`, as well as the list of the group members in the following cell."
   ]
  },
  {
   "cell_type": "markdown",
   "metadata": {},
   "source": [
    "Enter here the *Group Name* and the list of *Group Members*.\n",
    "\n",
    "`GROUP NAME`\n",
    "\n",
    "`GROUP MEMBERS`"
   ]
  },
  {
   "cell_type": "markdown",
   "metadata": {},
   "source": [
    "In order to be able to have an evaluation DO NOT delete/cut the cells with code and answers. Once you have finished you can downolad the notebook (Colab: in the menubar, select *File*$\\rightarrow$*Download .ipynb*; Jupyter: in the menubar, select *File*$\\rightarrow$*Download as*$\\rightarrow$*Notebook (.ipynb)*) and upload as an assignment on the e-learning platform.\n",
    "\n",
    "The following cell will load the Google Drive extension for the current notebook, when the variable `MOUNT` is `True`. This allow you to mount the Google Drive filesystem for file persistence. The mountpoint will be `/content/gdrive`.\n",
    "Furthermore, it will set the `PATH` variable, from now on, so that if you have to refer to external files you could do that by writing:\n",
    "\n",
    "```python\n",
    "os.path.join(PATH, filename)\n",
    "```\n",
    "\n",
    "This will append the filename after the specific PATH."
   ]
  },
  {
   "cell_type": "code",
   "execution_count": null,
   "metadata": {},
   "outputs": [],
   "source": [
    "import os\n",
    "MOUNT = False\n",
    "if 'google.colab' in str(get_ipython()) and MOUNT:\n",
    "    from google.colab import drive\n",
    "    drive.mount('/content/gdrive')\n",
    "    PATH = '/content/gdrive/MyDrive'\n",
    "else:\n",
    "    PATH = '.'"
   ]
  },
  {
   "cell_type": "markdown",
   "metadata": {},
   "source": [
    "# Important warning\n",
    "\n",
    "**⚠️ avoid copying, removing or modifying test cells, if you do that your assignment might be graded wrongly ⚠️**"
   ]
  },
  {
   "cell_type": "markdown",
   "metadata": {},
   "source": [
    "---"
   ]
  },
  {
   "cell_type": "markdown",
   "metadata": {
    "deletable": false,
    "editable": false,
    "nbgrader": {
     "checksum": "342c180df7906cdf6d7f91dbdc9a1a2a",
     "grade": false,
     "grade_id": "cell-02a1093805e634d8",
     "locked": true,
     "schema_version": 3,
     "solution": false,
     "task": false
    }
   },
   "source": [
    "In this practice we will investigate frequent itemsets analysis and association rules. \n",
    "\n",
    "For this purpose, you should have the `mlxtend` library installed.\n",
    "\n",
    "In order to install a library in your environment you can issue the command `!pip3 install <library_name>` from a notebook cell. On the COLAB notebook you have to issue it every time the virtual machine is restarted, since a default python environment is created. \n",
    "\n",
    "The `!` before the command tells the notebook to run that command on the underlying operating system (which incidentally, in COLAB, is a unix/linux OS).\n",
    "\n",
    "If you want to check whether the library is installed before (re)-installing it you can issue the following command:\n",
    "\n",
    "```bash\n",
    "!pip3 freeze | egrep \"mlxtend\"\n",
    "```\n",
    "\n",
    "Alternatively, you can try to import the library through the python `import` statement and check whether this instruction raises an `ImportError`.\n",
    "\n",
    "The library documentation is available [here](http://rasbt.github.io/mlxtend/).\n",
    "\n",
    "For this practice, we will use the **IBM HR Analytics Employee Attrition & Performance**, which is made available on the [Kaggle Repository](https://www.kaggle.com/datasets/pavansubhasht/ibm-hr-analytics-attrition-dataset). It contains a set of employee attrition data from IBM. A csv file is provided alongside the notebook, however refer to the website for the data dictionary.\n",
    "\n",
    "Also, we learn how to save a binary `pickle` file so to speed up intermediate data save and retrieval in case of big datasets."
   ]
  },
  {
   "cell_type": "markdown",
   "metadata": {},
   "source": [
    "# Preliminaries 1\n",
    "\n",
    "Write down the code to ensure that the `mlxtend` library is installed on your system, by trying to import them, or install it if needed."
   ]
  },
  {
   "cell_type": "code",
   "execution_count": null,
   "metadata": {
    "deletable": false,
    "nbgrader": {
     "checksum": "223b85416652feae06804ba0c46b2456",
     "grade": false,
     "grade_id": "cell-f7a35caa351a298a",
     "locked": false,
     "schema_version": 3,
     "solution": true,
     "task": false
    }
   },
   "outputs": [],
   "source": [
    "# YOUR CODE HERE\n",
    "raise NotImplementedError()"
   ]
  },
  {
   "cell_type": "code",
   "execution_count": null,
   "metadata": {
    "deletable": false,
    "editable": false,
    "nbgrader": {
     "checksum": "47c5c41afde3480af4d583a2fd0c42fb",
     "grade": true,
     "grade_id": "cell-f473852af17869fa",
     "locked": true,
     "points": 1,
     "schema_version": 3,
     "solution": false,
     "task": false
    }
   },
   "outputs": [],
   "source": [
    "try:\n",
    "    import mlxtend\n",
    "except:\n",
    "    assert False, \"mlxtend cannot be imported\""
   ]
  },
  {
   "cell_type": "markdown",
   "metadata": {},
   "source": [
    "# Preliminaries 2\n",
    "\n",
    "Search the Kaggle Repository and retrieve the IBM HR Analytics Employee Attrition & Performance. It should be available to your scripts in a file `WA_Fn-UseC_-HR-Employee-Attrition.csv`.\n",
    "\n",
    "There is no formal *answer* to this task, you just have to make available the file to your notebook.\n",
    "\n",
    "The `%time` annotation in the cell gives you the amount of time spent in the operations in the cells and is useful to compare the performances of different ways to accomplish a task."
   ]
  },
  {
   "cell_type": "code",
   "execution_count": null,
   "metadata": {
    "deletable": false,
    "editable": false,
    "nbgrader": {
     "checksum": "401b4f86f03bc256e29af79fd8b1959a",
     "grade": true,
     "grade_id": "cell-363868753e865c6d",
     "locked": true,
     "points": 1,
     "schema_version": 3,
     "solution": false,
     "task": false
    }
   },
   "outputs": [],
   "source": [
    "%time \n",
    "\n",
    "import pandas as pd\n",
    "try:\n",
    "    df = pd.read_csv('WA_Fn-UseC_-HR-Employee-Attrition.csv')\n",
    "except Exception as e:\n",
    "    assert False, f\"the employee attrition file seems to be not available: {str(e)}\""
   ]
  },
  {
   "cell_type": "markdown",
   "metadata": {},
   "source": [
    "# Preliminaries 3\n",
    "\n",
    "Save the `df` object into a `pickle` (`.pkl`) binary file. You can refer to [this resource](https://www.datacamp.com/community/tutorials/pickle-python-tutorial) for a short tutorial on pickle. The expected file name is `employee-attrition.pkl`."
   ]
  },
  {
   "cell_type": "code",
   "execution_count": null,
   "metadata": {
    "deletable": false,
    "nbgrader": {
     "checksum": "cb567ae023c59ecdd430ab9d1ee035ce",
     "grade": false,
     "grade_id": "cell-3a31759d484375b4",
     "locked": false,
     "schema_version": 3,
     "solution": true,
     "task": false
    }
   },
   "outputs": [],
   "source": [
    "%time \n",
    "# YOUR CODE HERE\n",
    "raise NotImplementedError()"
   ]
  },
  {
   "cell_type": "code",
   "execution_count": null,
   "metadata": {
    "deletable": false,
    "editable": false,
    "nbgrader": {
     "checksum": "7e12f5e96a951379494a4f6d4f510871",
     "grade": true,
     "grade_id": "cell-2990cc048fce7491",
     "locked": true,
     "points": 1,
     "schema_version": 3,
     "solution": false,
     "task": false
    }
   },
   "outputs": [],
   "source": [
    "%time\n",
    "\n",
    "import pickle\n",
    "with open('employee-attrition.pkl', 'rb') as f:\n",
    "    df2 = pickle.load(f)"
   ]
  },
  {
   "cell_type": "code",
   "execution_count": null,
   "metadata": {
    "deletable": false,
    "editable": false,
    "nbgrader": {
     "checksum": "e23852b4741445f819a5bb26600b6ff2",
     "grade": true,
     "grade_id": "cell-410d11be789745e6",
     "locked": true,
     "points": 1,
     "schema_version": 3,
     "solution": false,
     "task": false
    }
   },
   "outputs": [],
   "source": [
    "assert all(df == df2), 'The content of the two dataframes differ'"
   ]
  },
  {
   "cell_type": "markdown",
   "metadata": {},
   "source": [
    "If everything went right you now should have the data in binary form which will be ready for the analysis."
   ]
  }
 ],
 "metadata": {
  "kernelspec": {
   "display_name": "Python 3 (ipykernel)",
   "language": "python",
   "name": "python3"
  },
  "language_info": {
   "codemirror_mode": {
    "name": "ipython",
    "version": 3
   },
   "file_extension": ".py",
   "mimetype": "text/x-python",
   "name": "python",
   "nbconvert_exporter": "python",
   "pygments_lexer": "ipython3",
   "version": "3.11.6"
  }
 },
 "nbformat": 4,
 "nbformat_minor": 4
}
