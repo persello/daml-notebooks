{
 "cells": [
  {
   "cell_type": "markdown",
   "metadata": {},
   "source": [
    "## General instructions\n",
    "\n",
    "Before you turn this problem in, make sure everything runs as expected. First, **restart the kernel/runtime** (Colab: in the menubar, select *Runtime*$\\rightarrow$*Factory Reset Runtime*; Jupyter: in the menubar, select *Kernel*$\\rightarrow$*Restart*) and then **run all cells** (Colab: in the menubar, select *Runtime*$\\rightarrow$*Run all*; Jupyter: in the menubar, select *Cell*$\\rightarrow$*Run All*).\n",
    "\n",
    "Make sure you fill in any place that says `YOUR CODE HERE` or `\"YOUR ANSWER HERE\"`, as well as the list of the group members in the following cell."
   ]
  },
  {
   "cell_type": "markdown",
   "metadata": {},
   "source": [
    "Enter here the *Group Name* and the list of *Group Members*.\n",
    "\n",
    "`Doi eletronics`\n",
    "\n",
    "`Burco Lorenzo, Persello Riccardo`"
   ]
  },
  {
   "cell_type": "markdown",
   "metadata": {},
   "source": [
    "In order to be able to have an evaluation DO NOT delete/cut the cells with code and answers. Once you have finished you can downolad the notebook (Colab: in the menubar, select *File*$\\rightarrow$*Download .ipynb*; Jupyter: in the menubar, select *File*$\\rightarrow$*Download as*$\\rightarrow$*Notebook (.ipynb)*) and upload as an assignment on the e-learning platform.\n",
    "\n",
    "The following cell will load the Google Drive extension for the current notebook, when the variable `MOUNT` is `True`. This allow you to mount the Google Drive filesystem for file persistence. The mountpoint will be `/content/gdrive`.\n",
    "Furthermore, it will set the `PATH` variable, from now on, so that if you have to refer to external files you could do that by writing:\n",
    "\n",
    "```python\n",
    "os.path.join(PATH, filename)\n",
    "```\n",
    "\n",
    "This will append the filename after the specific PATH."
   ]
  },
  {
   "cell_type": "code",
   "execution_count": 29,
   "metadata": {},
   "outputs": [],
   "source": [
    "import os\n",
    "MOUNT = False\n",
    "if 'google.colab' in str(get_ipython()) and MOUNT:\n",
    "    from google.colab import drive\n",
    "    drive.mount('/content/gdrive')\n",
    "    PATH = '/content/gdrive/MyDrive'\n",
    "else:\n",
    "    PATH = '.'"
   ]
  },
  {
   "cell_type": "markdown",
   "metadata": {},
   "source": [
    "# Important warning\n",
    "\n",
    "**⚠️ avoid copying, removing or modifying test cells, if you do that your assignment might be graded wrongly ⚠️**"
   ]
  },
  {
   "cell_type": "markdown",
   "metadata": {},
   "source": [
    "---"
   ]
  },
  {
   "cell_type": "markdown",
   "metadata": {
    "deletable": false,
    "editable": false,
    "nbgrader": {
     "cell_type": "markdown",
     "checksum": "077dc35579eec485280c2ea3497ca764",
     "grade": false,
     "grade_id": "cell-b2c15310371181c2",
     "locked": true,
     "schema_version": 3,
     "solution": false,
     "task": false
    }
   },
   "source": [
    "# Preamble\n",
    "\n",
    "`scipy.stats` is a library for statistical analysis built for `numpy` arrays. We will use it to make and check some (statistical) hypothesis about data stored in arrays."
   ]
  },
  {
   "cell_type": "markdown",
   "metadata": {
    "deletable": false,
    "editable": false,
    "nbgrader": {
     "cell_type": "markdown",
     "checksum": "99d6c712024e72bd5d4298c18885814f",
     "grade": false,
     "grade_id": "cell-8325167870d87b8e",
     "locked": true,
     "schema_version": 3,
     "solution": false,
     "task": false
    }
   },
   "source": [
    "# Student $t$-test \n",
    "\n",
    "We recall that the Student $t$-test is an inferential statistics that is used to determine if there is a *significant*  difference between the *means* of two groups (samples) which may be related in some features.\n",
    "\n",
    "The null hypothesis of the test is *H0: the difference in the means of the two samples is 0*, whereas as for the alternative hypothesis you can consider either *H1: the difference in the means of the two samples is not 0* (two-sided test) or *H1: the difference in the means of the two samples is greater (lower) than 0* (one-sided test). You should already be aware of the difference from your Bachelor Statistics course, if not please give a look at your course notes.\n",
    "\n",
    "In `scipy.stats` the $t$-test is available by means of some different functions: `ttest_rel()` when the samples are related, `ttest_ind()` in the case the samples are independent or `ttest_1samp()` when you have just one sample and a reference value for the mean."
   ]
  },
  {
   "cell_type": "markdown",
   "metadata": {
    "deletable": false,
    "editable": false,
    "nbgrader": {
     "cell_type": "markdown",
     "checksum": "ec695daa06b59c5c80c6a2a7a26aade5",
     "grade": false,
     "grade_id": "cell-48289f09817083bb",
     "locked": true,
     "schema_version": 3,
     "solution": false,
     "task": false
    }
   },
   "source": [
    "# Exercise 1\n",
    "\n",
    "You have a file `ages.csv` containing the ages of some persons. Read it in a suitable `np.array` and write down the code to check if we can conlude that the mean age of the persons is the $40$. Please motivate your answer."
   ]
  },
  {
   "cell_type": "code",
   "execution_count": 30,
   "metadata": {
    "deletable": false,
    "nbgrader": {
     "cell_type": "code",
     "checksum": "ba119b52cdf0dee5c487ca306f508053",
     "grade": true,
     "grade_id": "cell-407a9a58e9d984ad",
     "locked": false,
     "points": 5,
     "schema_version": 3,
     "solution": true,
     "task": false
    }
   },
   "outputs": [
    {
     "name": "stdout",
     "output_type": "stream",
     "text": [
      "avg = 43.11538461538461\n",
      "p: 0.5552770051946303\n",
      "The mean passes the t-test.\n"
     ]
    },
    {
     "data": {
      "text/plain": [
       "<matplotlib.collections.LineCollection at 0x122ef4190>"
      ]
     },
     "execution_count": 30,
     "metadata": {},
     "output_type": "execute_result"
    },
    {
     "data": {
      "image/png": "[encoded data removed]",
      "text/plain": [
       "<Figure size 640x480 with 1 Axes>"
      ]
     },
     "metadata": {},
     "output_type": "display_data"
    }
   ],
   "source": [
    "%matplotlib inline\n",
    "\n",
    "import numpy as np\n",
    "import matplotlib.pyplot as plt\n",
    "import scipy\n",
    "\n",
    "data = np.genfromtxt('ages.csv', delimiter=',')\n",
    "filtered = data[data > 0]\n",
    "print(f\"avg = {np.average(filtered)}\")\n",
    "p = scipy.stats.ttest_1samp(filtered, popmean=40).pvalue\n",
    "\n",
    "print(f\"p: {p}\")\n",
    "\n",
    "if p > 0.05:\n",
    "    print('The mean passes the t-test.')\n",
    "else:\n",
    "    print('The mean doesn\\'t pass the t-test.')\n",
    "\n",
    "plt.hist(data)\n",
    "plt.vlines(40, 0, 10, colors=\"black\")\n"
   ]
  },
  {
   "cell_type": "markdown",
   "metadata": {
    "deletable": false,
    "editable": false,
    "nbgrader": {
     "cell_type": "markdown",
     "checksum": "cf14c05e72a808011b4527ef7965f946",
     "grade": false,
     "grade_id": "cell-c4a9a784811fa990",
     "locked": true,
     "points": 5,
     "schema_version": 3,
     "solution": false,
     "task": true
    }
   },
   "source": [
    "Describe in some detail the reasoning you did for your decision.\n",
    "\n",
    "> First of all, we removed all the negative ages in a filtering pass. \\\n",
    "> Since we have a single sample and a reference value for the mean, we used the `scipy.stats.ttest_1samp` function. \\\n",
    "> Then, we extracted the $p$-value from the result and compared it with a 5% baseline. \\\n",
    "> Since it's much higher than 5%, we consider the reference value for the mean as valid."
   ]
  },
  {
   "cell_type": "markdown",
   "metadata": {
    "deletable": false,
    "editable": false,
    "nbgrader": {
     "cell_type": "markdown",
     "checksum": "b6e34a8df4e9f49e8512604eaac59447",
     "grade": false,
     "grade_id": "cell-5d3223f5f2969795",
     "locked": true,
     "schema_version": 3,
     "solution": false,
     "task": false
    }
   },
   "source": [
    "# Exercise 2\n",
    "\n",
    "Read the data from the `blood_pressure.csv` data file into the suitable set of `np.array`s. The data refers to a clinical trial of a drug for the treatment of high blood pressure. The relevant data, for our purposes, are the two last columns that contain the blood pressure of a patient before taking the drug and after."
   ]
  },
  {
   "cell_type": "code",
   "execution_count": 31,
   "metadata": {
    "deletable": false,
    "nbgrader": {
     "cell_type": "code",
     "checksum": "6fc44db52dc91ac6201b6223e6f10a40",
     "grade": true,
     "grade_id": "cell-9bf2c0fd7e872e11",
     "locked": false,
     "points": 1,
     "schema_version": 3,
     "solution": true,
     "task": false
    }
   },
   "outputs": [
    {
     "data": {
      "text/plain": [
       "<matplotlib.legend.Legend at 0x123787970>"
      ]
     },
     "execution_count": 31,
     "metadata": {},
     "output_type": "execute_result"
    },
    {
     "data": {
      "image/png": "[encoded data removed]",
      "text/plain": [
       "<Figure size 640x480 with 1 Axes>"
      ]
     },
     "metadata": {},
     "output_type": "display_data"
    }
   ],
   "source": [
    "data = np.genfromtxt('blood_pressure.csv', delimiter=',', dtype=str)[1:, :]\n",
    "\n",
    "bp_before = data[:, -2].astype(np.float32)\n",
    "bp_after = data[:, -1].astype(np.float32)\n",
    "\n",
    "bins = np.linspace(100, 200, 30)\n",
    "\n",
    "plt.hist(bp_before, alpha=0.5, bins=bins, label=\"before\")\n",
    "plt.hist(bp_after, alpha=0.5, bins=bins, label=\"after\")\n",
    "\n",
    "plt.legend()"
   ]
  },
  {
   "cell_type": "markdown",
   "metadata": {
    "deletable": false,
    "editable": false,
    "nbgrader": {
     "cell_type": "markdown",
     "checksum": "29bcda17b2c872331419b993691cc356",
     "grade": false,
     "grade_id": "cell-99db91ac52ff6ea3",
     "locked": true,
     "schema_version": 3,
     "solution": false,
     "task": false
    }
   },
   "source": [
    "# Exercise 3\n",
    "\n",
    "Write the code to use the suitable $t$-test variant to check whether the drug has an impact or not in decreasing the blood pressure. Write the code in the next cell and in the following one describe in detail the reasoning that you made."
   ]
  },
  {
   "cell_type": "code",
   "execution_count": 32,
   "metadata": {
    "deletable": false,
    "nbgrader": {
     "cell_type": "code",
     "checksum": "0fb9e5fc2cdca0088652db94cfd49944",
     "grade": true,
     "grade_id": "cell-08931058315b58bc",
     "locked": false,
     "points": 5,
     "schema_version": 3,
     "solution": true,
     "task": false
    }
   },
   "outputs": [
    {
     "name": "stdout",
     "output_type": "stream",
     "text": [
      "The drug had an impact.\n",
      "The drug decreased blood pressure.\n"
     ]
    }
   ],
   "source": [
    "res = scipy.stats.ttest_rel(bp_before, bp_after)\n",
    "\n",
    "if res.pvalue < 0.05:\n",
    "    print(\"The drug had an impact.\")\n",
    "    if res.statistic > 0:\n",
    "        print(\"The drug decreased blood pressure.\")\n",
    "    else:\n",
    "        print(\"The drug increased blood pressure.\")\n",
    "else:\n",
    "    print(\"The drug did not have an impact.\")"
   ]
  },
  {
   "cell_type": "markdown",
   "metadata": {
    "deletable": false,
    "editable": false,
    "nbgrader": {
     "cell_type": "markdown",
     "checksum": "dfd56d9c23808a1aba3add992133dfee",
     "grade": false,
     "grade_id": "cell-71011b305d4f3829",
     "locked": true,
     "points": 5,
     "schema_version": 3,
     "solution": false,
     "task": true
    }
   },
   "source": [
    "Describe in some detail the reasoning you did for your decision.\n",
    "\n",
    "> We ran a $t$-test for related samples, since we are working with the same population. \\\n",
    "> We used the $p$-value for deciding whether the drug had an impact or not. \\\n",
    "> Then we checked what kind of impact it had by checking the sign of the $t$-statistic."
   ]
  },
  {
   "cell_type": "markdown",
   "metadata": {
    "deletable": false,
    "editable": false,
    "nbgrader": {
     "cell_type": "markdown",
     "checksum": "38fc5161ea577dd0a08651c436c3bb8a",
     "grade": false,
     "grade_id": "cell-e0bc684b408fed44",
     "locked": true,
     "schema_version": 3,
     "solution": false,
     "task": false
    }
   },
   "source": [
    "# Shapiro-Wilk Test\n",
    "\n",
    "The *Shapiro-Wilk* test verifies whether a data sample has a Gaussian distribution. Its null hypothesis is *H0: the sample has a Gaussian distribution* whereas the alternative hypothesis is *H1: the sample does not have a Gaussian distribution*.\n",
    "\n",
    "The test is available in `scipy.stats` under the `shapiro()` function."
   ]
  },
  {
   "cell_type": "markdown",
   "metadata": {
    "deletable": false,
    "editable": false,
    "nbgrader": {
     "cell_type": "markdown",
     "checksum": "68ff6b45a691631aaf755f0ac7e4f344",
     "grade": false,
     "grade_id": "cell-20a9862428952dab",
     "locked": true,
     "schema_version": 3,
     "solution": false,
     "task": false
    }
   },
   "source": [
    "# Exercise 4\n",
    "\n",
    "Check if each of the blood pressure data (i.e., the before the treatment and the after the treatment data) have a Gaussian distribution or not."
   ]
  },
  {
   "cell_type": "code",
   "execution_count": 33,
   "metadata": {
    "deletable": false,
    "nbgrader": {
     "cell_type": "code",
     "checksum": "6d3d71e4f36b4562bfbef005d7ab5aaf",
     "grade": true,
     "grade_id": "cell-0e4756bcc30e5136",
     "locked": false,
     "points": 5,
     "schema_version": 3,
     "solution": true,
     "task": false
    }
   },
   "outputs": [
    {
     "name": "stdout",
     "output_type": "stream",
     "text": [
      "p_before = 0.0004928281414322555\n",
      "The blood pressure before taking the drug does not have a Gaussian distribution.\n",
      "p_after = 0.0202285498380661\n",
      "The blood pressure after taking the drug does not have a Gaussian distribution.\n"
     ]
    }
   ],
   "source": [
    "p_before = scipy.stats.shapiro(bp_before).pvalue\n",
    "\n",
    "print(f\"p_before = {p_before}\")\n",
    "\n",
    "if p_before > 0.05:\n",
    "    print(\"The blood pressure before taking the drug has a Gaussian distribution.\")\n",
    "else:\n",
    "    print(\"The blood pressure before taking the drug does not have a Gaussian distribution.\")\n",
    "\n",
    "p_after = scipy.stats.shapiro(bp_after).pvalue\n",
    "\n",
    "print(f\"p_after = {p_after}\")\n",
    "\n",
    "if p_after > 0.05:\n",
    "    print(\"The blood pressure after taking the drug has a Gaussian distribution.\")\n",
    "else:\n",
    "    print(\"The blood pressure after taking the drug does not have a Gaussian distribution.\")"
   ]
  },
  {
   "cell_type": "markdown",
   "metadata": {
    "deletable": false,
    "editable": false,
    "nbgrader": {
     "cell_type": "markdown",
     "checksum": "daefd2af9f4268e6c0131233735c3d1f",
     "grade": false,
     "grade_id": "cell-75263d1a3cbeb3b1",
     "locked": true,
     "points": 0,
     "schema_version": 3,
     "solution": false,
     "task": true
    }
   },
   "source": [
    "Describe in some detail the reasoning you did for your decision.\n",
    "\n",
    "> We ran a Shapiro-Wilk test for each of the two samples. \\\n",
    "> Then we compared the $p$-values with a 5% baseline. \\\n",
    "> Since both $p$-values are lower than 5%, we consider the samples as not Gaussian."
   ]
  },
  {
   "cell_type": "markdown",
   "metadata": {
    "deletable": false,
    "editable": false,
    "nbgrader": {
     "cell_type": "markdown",
     "checksum": "299fb217a5f98da0257ce317958e29b8",
     "grade": false,
     "grade_id": "cell-f95de1a66f7f1455",
     "locked": true,
     "schema_version": 3,
     "solution": false,
     "task": false
    }
   },
   "source": [
    "# Correlation tests\n",
    "\n",
    "Correlation tests allow to check if two samples are related. In other words, the hypotheses are as follows: *H0: the two samples are independent* and *H1: there is a dependency between the samples*. In `scipy.stats` they are available under the `pearsonr()`, `spearmanr()` and `kendalltau()` function.\n",
    "\n",
    "* Pearson correlation measures a linear dependency between the samples\n",
    "* Spearman and Kendall correlations measure a monotonic relationship (i.e., not necessarily linear)"
   ]
  },
  {
   "cell_type": "markdown",
   "metadata": {
    "deletable": false,
    "editable": false,
    "nbgrader": {
     "cell_type": "markdown",
     "checksum": "a9a81d59b352547120949b3feeb64d46",
     "grade": false,
     "grade_id": "cell-b73f25d795268fee",
     "locked": true,
     "schema_version": 3,
     "solution": false,
     "task": false
    }
   },
   "source": [
    "# Exercise 5\n",
    "\n",
    "Measure the different correlations between the before and after the treatment blood pressure data and write down your findings."
   ]
  },
  {
   "cell_type": "code",
   "execution_count": 34,
   "metadata": {
    "deletable": false,
    "nbgrader": {
     "cell_type": "code",
     "checksum": "bb0980f551c7dc627093daa4f94acc46",
     "grade": true,
     "grade_id": "cell-907020ee0ac85000",
     "locked": false,
     "points": 5,
     "schema_version": 3,
     "solution": true,
     "task": false
    }
   },
   "outputs": [
    {
     "name": "stdout",
     "output_type": "stream",
     "text": [
      "PearsonRResult(statistic=0.15911810291010756, pvalue=0.08258424647722729) SignificanceResult(statistic=0.15309980094728082, pvalue=0.09503275191903816) SignificanceResult(statistic=0.10258323909760486, pvalue=0.10346647059275761)\n"
     ]
    }
   ],
   "source": [
    "p_res = scipy.stats.pearsonr(bp_before, bp_after)\n",
    "s_res = scipy.stats.spearmanr(bp_before, bp_after)\n",
    "k_res = scipy.stats.kendalltau(bp_before, bp_after)\n",
    "\n",
    "print(p_res, s_res, k_res)"
   ]
  },
  {
   "cell_type": "markdown",
   "metadata": {
    "deletable": false,
    "editable": false,
    "nbgrader": {
     "cell_type": "markdown",
     "checksum": "54973b625c05f7be3d6f062055b3b5b5",
     "grade": false,
     "grade_id": "cell-4f4df7369b0ed2aa",
     "locked": true,
     "points": 0,
     "schema_version": 3,
     "solution": false,
     "task": true
    }
   },
   "source": [
    "Describe in some detail the reasoning you did for your decision.\n",
    "\n",
    "> The Spearman and Kendall correlations lead to a $p$-value of about 10%, which is higher than 5%. \\\n",
    "> This means that we can't reject the null hypothesis, so we consider the samples as independent under a monotonic relationship. \\\n",
    "> Also, the Pearson correlation leads to a $p$-value of 8%, leading us to think that the samples are independent also under a linear relationship."
   ]
  }
 ],
 "metadata": {
  "kernelspec": {
   "display_name": "Python 3",
   "language": "python",
   "name": "python3"
  },
  "language_info": {
   "codemirror_mode": {
    "name": "ipython",
    "version": 3
   },
   "file_extension": ".py",
   "mimetype": "text/x-python",
   "name": "python",
   "nbconvert_exporter": "python",
   "pygments_lexer": "ipython3",
   "version": "3.10.13"
  }
 },
 "nbformat": 4,
 "nbformat_minor": 1
}
