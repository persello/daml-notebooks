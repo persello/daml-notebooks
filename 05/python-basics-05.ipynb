{
 "cells": [
  {
   "cell_type": "markdown",
   "metadata": {},
   "source": [
    "## General instructions\n",
    "\n",
    "Before you turn this problem in, make sure everything runs as expected. First, **restart the kernel/runtime** (Colab: in the menubar, select *Runtime*$\\rightarrow$*Factory Reset Runtime*; Jupyter: in the menubar, select *Kernel*$\\rightarrow$*Restart*) and then **run all cells** (Colab: in the menubar, select *Runtime*$\\rightarrow$*Run all*; Jupyter: in the menubar, select *Cell*$\\rightarrow$*Run All*).\n",
    "\n",
    "Make sure you fill in any place that says `YOUR CODE HERE` or `\"YOUR ANSWER HERE\"`, as well as the list of the group members in the following cell."
   ]
  },
  {
   "cell_type": "markdown",
   "metadata": {},
   "source": [
    "Enter here the *Group Name* and the list of *Group Members*.\n",
    "\n",
    "`Doi eletronics`\n",
    "\n",
    "`Burco Lorenzo, Persello Riccardo`"
   ]
  },
  {
   "cell_type": "markdown",
   "metadata": {},
   "source": [
    "In order to be able to have an evaluation DO NOT delete/cut the cells with code and answers. Once you have finished you can downolad the notebook (Colab: in the menubar, select *File*$\\rightarrow$*Download .ipynb*; Jupyter: in the menubar, select *File*$\\rightarrow$*Download as*$\\rightarrow$*Notebook (.ipynb)*) and upload as an assignment on the e-learning platform.\n",
    "\n",
    "The following cell will load the Google Drive extension for the current notebook, when the variable `MOUNT` is `True`. This allow you to mount the Google Drive filesystem for file persistence. The mountpoint will be `/content/gdrive`.\n",
    "Furthermore, it will set the `PATH` variable, from now on, so that if you have to refer to external files you could do that by writing:\n",
    "\n",
    "```python\n",
    "os.path.join(PATH, filename)\n",
    "```\n",
    "\n",
    "This will append the filename after the specific PATH."
   ]
  },
  {
   "cell_type": "code",
   "execution_count": 11,
   "metadata": {},
   "outputs": [],
   "source": [
    "import os\n",
    "MOUNT = False\n",
    "if 'google.colab' in str(get_ipython()) and MOUNT:\n",
    "    from google.colab import drive\n",
    "    drive.mount('/content/gdrive')\n",
    "    PATH = '/content/gdrive/MyDrive'\n",
    "else:\n",
    "    PATH = '.'"
   ]
  },
  {
   "cell_type": "markdown",
   "metadata": {},
   "source": [
    "# Important warning\n",
    "\n",
    "**⚠️ avoid copying, removing or modifying test cells, if you do that your assignment might be graded wrongly ⚠️**"
   ]
  },
  {
   "cell_type": "markdown",
   "metadata": {},
   "source": [
    "---"
   ]
  },
  {
   "cell_type": "markdown",
   "metadata": {
    "deletable": false,
    "editable": false,
    "nbgrader": {
     "cell_type": "markdown",
     "checksum": "76a2b51d6ee80e7a789439786795c649",
     "grade": false,
     "grade_id": "cell-2e77395ca0758cac",
     "locked": true,
     "schema_version": 3,
     "solution": false,
     "task": false
    }
   },
   "source": [
    "The aim of this practice is to get acquainted with *functional* style Python, therefore you are required to avoid loops in the following exercises unless explicitly stated.\n",
    "\n",
    "Instead of using files stored on the notebook filesystem, you can use the following fragment of code for obtaining the content of a document on the web, specified by its url. The use of what is returned by the function is exactly equivalent with the file object (i.e., it can be used as an iterable such as `for l in f`). See the following example."
   ]
  },
  {
   "cell_type": "code",
   "execution_count": 12,
   "metadata": {
    "deletable": false,
    "editable": false,
    "nbgrader": {
     "cell_type": "code",
     "checksum": "cf7a3181078daaaf5695c60ef224cc59",
     "grade": false,
     "grade_id": "cell-f1bfc093a9725986",
     "locked": true,
     "schema_version": 3,
     "solution": false,
     "task": false
    }
   },
   "outputs": [
    {
     "name": "stdout",
     "output_type": "stream",
     "text": [
      "b'\\xef\\xbb\\xbfThe Project Gutenberg eBook of La Divina Commedia di Dante, by Dante Alighieri\\r\\n'\n",
      "b'\\r\\n'\n",
      "b'This eBook is for the use of anyone anywhere in the United States and\\r\\n'\n",
      "b'most other parts of the world at no cost and with almost no restrictions\\r\\n'\n",
      "b'whatsoever. You may copy it, give it away or re-use it under the terms\\r\\n'\n",
      "b'of the Project Gutenberg License included with this eBook or online at\\r\\n'\n",
      "b'www.gutenberg.org. If you are not located in the United States, you\\r\\n'\n"
     ]
    }
   ],
   "source": [
    "from urllib.request import urlopen\n",
    "\n",
    "def open_from_url(url):\n",
    "    return urlopen(url)     \n",
    "\n",
    "with open_from_url('https://www.gutenberg.org/files/1000/1000-0.txt') as f:\n",
    "    for i, l in enumerate(f):        \n",
    "        print(l)\n",
    "        if i > 5:\n",
    "            break"
   ]
  },
  {
   "cell_type": "markdown",
   "metadata": {
    "deletable": false,
    "editable": false,
    "nbgrader": {
     "cell_type": "markdown",
     "checksum": "121fb6681364b3afbc365bd5d4e25819",
     "grade": false,
     "grade_id": "cell-ab74bf95aba293c6",
     "locked": true,
     "schema_version": 3,
     "solution": false,
     "task": false
    }
   },
   "source": [
    "Notice that the type of the lines is slightly different from a simple string (it has a leading `b`), meaning that is an encoded string. However, if needed, it can be possibly decoded to a regular string by using the `.decode()` method. Look at the following example."
   ]
  },
  {
   "cell_type": "code",
   "execution_count": 13,
   "metadata": {
    "deletable": false,
    "editable": false,
    "nbgrader": {
     "cell_type": "code",
     "checksum": "e0ec94ce4ec2e4b7a9ed1cb7248a85ab",
     "grade": false,
     "grade_id": "cell-d1ef2a4ca0bb407a",
     "locked": true,
     "schema_version": 3,
     "solution": false,
     "task": false
    }
   },
   "outputs": [
    {
     "name": "stdout",
     "output_type": "stream",
     "text": [
      "The Project Gutenberg eBook of La Divina Commedia di Dante, by Dante Alighieri\n",
      "\n",
      "\n",
      "\n",
      "This eBook is for the use of anyone anywhere in the United States and\n",
      "\n",
      "most other parts of the world at no cost and with almost no restrictions\n",
      "\n",
      "whatsoever. You may copy it, give it away or re-use it under the terms\n",
      "\n",
      "of the Project Gutenberg License included with this eBook or online at\n",
      "\n",
      "www.gutenberg.org. If you are not located in the United States, you\n",
      "\n"
     ]
    }
   ],
   "source": [
    "with open_from_url('https://www.gutenberg.org/files/1000/1000-0.txt') as f:\n",
    "    for i, l in enumerate(f):        \n",
    "        print(l.decode('utf8'))\n",
    "        if i > 5:\n",
    "            break"
   ]
  },
  {
   "cell_type": "markdown",
   "metadata": {},
   "source": [
    "Also, run the following code to install a convenience utility for automatically generating test data in further exercises."
   ]
  },
  {
   "cell_type": "code",
   "execution_count": 14,
   "metadata": {},
   "outputs": [
    {
     "name": "stdout",
     "output_type": "stream",
     "text": [
      "Defaulting to user installation because normal site-packages is not writeable\n",
      "Collecting faker\n",
      "  Obtaining dependency information for faker from https://files.pythonhosted.org/packages/de/f4/1e0d8d5050671d5d72ec51494adf04723c73dc53642db292102b7954c617/Faker-19.12.0-py3-none-any.whl.metadata\n",
      "  Downloading Faker-19.12.0-py3-none-any.whl.metadata (15 kB)\n",
      "Requirement already satisfied: python-dateutil>=2.4 in /home/lorenzo/.local/lib/python3.10/site-packages (from faker) (2.8.2)\n",
      "Requirement already satisfied: six>=1.5 in /usr/lib/python3/dist-packages (from python-dateutil>=2.4->faker) (1.16.0)\n",
      "Downloading Faker-19.12.0-py3-none-any.whl (1.7 MB)\n",
      "\u001b[2K   \u001b[38;2;114;156;31m━━━━━━━━━━━━━━━━━━━━━━━━━━━━━━━━━━━━━━━━\u001b[0m \u001b[32m1.7/1.7 MB\u001b[0m \u001b[31m6.6 MB/s\u001b[0m eta \u001b[36m0:00:00\u001b[0m[36m0:00:01\u001b[0m[36m0:00:01\u001b[0m:01\u001b[0m\n",
      "\u001b[?25hInstalling collected packages: faker\n",
      "Successfully installed faker-19.12.0\n",
      "\n",
      "\u001b[1m[\u001b[0m\u001b[34;49mnotice\u001b[0m\u001b[1;39;49m]\u001b[0m\u001b[39;49m A new release of pip is available: \u001b[0m\u001b[31;49m23.2.1\u001b[0m\u001b[39;49m -> \u001b[0m\u001b[32;49m23.3.1\u001b[0m\n",
      "\u001b[1m[\u001b[0m\u001b[34;49mnotice\u001b[0m\u001b[1;39;49m]\u001b[0m\u001b[39;49m To update, run: \u001b[0m\u001b[32;49mpip install --upgrade pip\u001b[0m\n"
     ]
    }
   ],
   "source": [
    "# this will install a library on the current machine (if it is not present yet)\n",
    "# in particular, the ! (bang) sign denotes the execution of a shell command\n",
    "!pip3 install faker"
   ]
  },
  {
   "cell_type": "markdown",
   "metadata": {
    "deletable": false,
    "editable": false,
    "nbgrader": {
     "cell_type": "markdown",
     "checksum": "8a25521a133e1afe421a48afb6758f1c",
     "grade": false,
     "grade_id": "cell-7dabddc29a2a20a3",
     "locked": true,
     "schema_version": 3,
     "solution": false,
     "task": false
    }
   },
   "source": [
    "# Exercise 1\n",
    "\n",
    "We'd like to find the longest line (in terms of number of characters) in a fileL. We'd aim at doing that using the functional style programming. Write a function `longest_line()` that given a file object (either a regular one or the one obtained by the `open_from_url()` function defined above) applies the right combination of functions to compute its longest line. You should do that in the functional style using the `map()` higher-order function.\n",
    "\n",
    "**Note**: no decoding of the binary lines is needed.\n",
    "\n",
    "The function should be used in the following pattern:\n",
    "\n",
    "```python\n",
    "with open('test_file.txt') as f:\n",
    "    length = longest_line(f)\n",
    "```"
   ]
  },
  {
   "cell_type": "code",
   "execution_count": 15,
   "metadata": {
    "deletable": false,
    "nbgrader": {
     "cell_type": "code",
     "checksum": "c9926208e75419c9b775ed4b29f2ccd4",
     "grade": false,
     "grade_id": "cell-3d16886f3bfca8ce",
     "locked": false,
     "schema_version": 3,
     "solution": true,
     "task": false
    }
   },
   "outputs": [],
   "source": [
    "def longest_line(f):\n",
    "    line_lengths = map(len, f)\n",
    "    longest = max(line_lengths)\n",
    "    return longest"
   ]
  },
  {
   "cell_type": "markdown",
   "metadata": {
    "deletable": false,
    "editable": false,
    "nbgrader": {
     "cell_type": "markdown",
     "checksum": "e9cc9477f1b54d9baaaee44dabab9515",
     "grade": false,
     "grade_id": "cell-b17b908c600f916d",
     "locked": true,
     "schema_version": 3,
     "solution": false,
     "task": false
    }
   },
   "source": [
    "Write down an automatic way to construct some text file to check whether the longest line is exactly the one that you expect.\n",
    "For example you can create and write in a text file a set of lines of equal known length (for example repeating the same character for a given number of times) and check whether the `longest_line()` function will return the correct value."
   ]
  },
  {
   "cell_type": "code",
   "execution_count": 16,
   "metadata": {
    "deletable": false,
    "nbgrader": {
     "cell_type": "code",
     "checksum": "da47bb77357a5779ba6eb6f408e0f3a4",
     "grade": true,
     "grade_id": "cell-aa3b9e0beee867d5",
     "locked": false,
     "points": 1,
     "schema_version": 3,
     "solution": true,
     "task": false
    }
   },
   "outputs": [],
   "source": [
    "from random import randint\n",
    "from functools import reduce\n",
    "\n",
    "def generate_lines():\n",
    "    with open('generated.txt', 'w') as f:\n",
    "        lengths = [randint(1, 200) for _ in range(0, 50)]\n",
    "        for l in lengths:\n",
    "            f.write(reduce(lambda x, acc: x + acc, ['a' for _ in range(0, l-1)], '\\n'))\n",
    "    return max(lengths)\n",
    "\n",
    "longest1 = generate_lines()\n",
    "with open('generated.txt', 'r') as f:\n",
    "    longest2 = longest_line(f)\n",
    "assert longest1 == longest2\n",
    "    "
   ]
  },
  {
   "cell_type": "code",
   "execution_count": 17,
   "metadata": {
    "deletable": false,
    "editable": false,
    "nbgrader": {
     "cell_type": "code",
     "checksum": "2fa46c7c2033b78a167fe13149f83779",
     "grade": true,
     "grade_id": "cell-31dc462879dabf23",
     "locked": true,
     "points": 1,
     "schema_version": 3,
     "solution": false,
     "task": false
    }
   },
   "outputs": [],
   "source": [
    "## This will test the function on some examples known in advance\n",
    "\n",
    "with open('book-war-and-peace-converted-in-paragraphs.txt') as f:\n",
    "    assert longest_line(f) == 1494\n",
    "\n",
    "test_urls = [\n",
    "    ('https://raw.githubusercontent.com/fluentpython/example-code/master/attic/sequences/war-and-peace.txt', 76),\n",
    "    ('https://www.gutenberg.org/files/1000/1000-0.txt', 83),   \n",
    "    ('https://sherlock-holm.es/stories/plain-text/advs.txt', 77)\n",
    "]\n",
    "\n",
    "for url, expected_length in test_urls:\n",
    "    with open_from_url(url) as f:\n",
    "        computed_length = longest_line(f)\n",
    "        assert computed_length == expected_length, f'Error computing the longest line for {url}, expecting {expected_length}, found {computed_length}'"
   ]
  },
  {
   "cell_type": "markdown",
   "metadata": {},
   "source": [
    "## Longest line with transformations\n",
    "\n",
    "Suppose we would like to make some transformations to the line before its length get counted, as an example we suppose to have a function that removes spaces from the line such as the following function `remove_spaces()`:"
   ]
  },
  {
   "cell_type": "code",
   "execution_count": 18,
   "metadata": {
    "deletable": false,
    "editable": false,
    "nbgrader": {
     "cell_type": "code",
     "checksum": "130505d466c35536dd0b00508567c719",
     "grade": false,
     "grade_id": "cell-ac2435f71a493ef1",
     "locked": true,
     "schema_version": 3,
     "solution": false,
     "task": false
    }
   },
   "outputs": [],
   "source": [
    "def remove_spaces(line):\n",
    "    for c in ' \\t\\n\\r':\n",
    "        line = line.replace(c, '')\n",
    "    return line"
   ]
  },
  {
   "cell_type": "markdown",
   "metadata": {
    "deletable": false,
    "editable": false,
    "nbgrader": {
     "cell_type": "markdown",
     "checksum": "10946a8a2aab9099f40dfc7bb584b097",
     "grade": false,
     "grade_id": "cell-785803b169530b2f",
     "locked": true,
     "schema_version": 3,
     "solution": false,
     "task": false
    }
   },
   "source": [
    "## Exercise 2\n",
    "\n",
    "Modify the `longest_line()` function, so that it takes another parameter that is a transformation function and applies to each line that transformation function before measuring its length.\n"
   ]
  },
  {
   "cell_type": "code",
   "execution_count": 20,
   "metadata": {
    "deletable": false,
    "nbgrader": {
     "cell_type": "code",
     "checksum": "05c2ead1d79e3bebbf07bae0275f2384",
     "grade": false,
     "grade_id": "cell-65d8ed41bb08a3ac",
     "locked": false,
     "schema_version": 3,
     "solution": true,
     "task": false
    }
   },
   "outputs": [
    {
     "name": "stdout",
     "output_type": "stream",
     "text": [
      "1234\n"
     ]
    }
   ],
   "source": [
    "def longest_line(f, transform):\n",
    "    transformed = map(transform, f)\n",
    "    line_lengths = map(len, transformed)\n",
    "    longest = max(line_lengths)\n",
    "    return longest\n",
    "    \n",
    "with open('book-war-and-peace-converted-in-paragraphs.txt') as f:\n",
    "    print(longest_line(f, remove_spaces))"
   ]
  },
  {
   "cell_type": "code",
   "execution_count": 21,
   "metadata": {
    "deletable": false,
    "editable": false,
    "nbgrader": {
     "cell_type": "code",
     "checksum": "0b79dc0abc371f4c1ce86182ed7b457f",
     "grade": true,
     "grade_id": "cell-8b969ffadae2a451",
     "locked": true,
     "points": 1,
     "schema_version": 3,
     "solution": false,
     "task": false
    }
   },
   "outputs": [],
   "source": [
    "with open('book-war-and-peace-converted-in-paragraphs.txt') as f:\n",
    "    assert longest_line(f, remove_spaces) == 1234"
   ]
  },
  {
   "cell_type": "markdown",
   "metadata": {
    "deletable": false,
    "editable": false,
    "nbgrader": {
     "cell_type": "markdown",
     "checksum": "aa16ddce2330689542d7e0d1304d2650",
     "grade": false,
     "grade_id": "cell-64f492ee82b4d44d",
     "locked": true,
     "schema_version": 3,
     "solution": false,
     "task": false
    }
   },
   "source": [
    "We define a general purpose transformation function `remove_characters()` that given a text and a sequence of characters it removes those characters from the text:"
   ]
  },
  {
   "cell_type": "code",
   "execution_count": 23,
   "metadata": {
    "deletable": false,
    "editable": false,
    "nbgrader": {
     "cell_type": "code",
     "checksum": "01a29c0afdbba17f1a73953e369ec01c",
     "grade": false,
     "grade_id": "cell-7aab7aeff730cb4b",
     "locked": true,
     "schema_version": 3,
     "solution": false,
     "task": false
    }
   },
   "outputs": [],
   "source": [
    "def remove_characters(line, characters):\n",
    "    for c in characters:\n",
    "        line = line.replace(c, '')\n",
    "    return line"
   ]
  },
  {
   "cell_type": "markdown",
   "metadata": {},
   "source": [
    "## Exercise 3\n",
    "\n",
    "Adapt the function call in the following cell, so that it can call the `longest_line()` function with the `remove_characters()` function for removing all the vowels from the text before counting. Avoid redefining the function (or using a `lambda`) but use a partial binding instead."
   ]
  },
  {
   "cell_type": "code",
   "execution_count": 24,
   "metadata": {
    "deletable": false,
    "nbgrader": {
     "cell_type": "code",
     "checksum": "b2c3a60a1846bbd783654da84d2305b2",
     "grade": true,
     "grade_id": "cell-ab6f247470d3de40",
     "locked": false,
     "points": 1,
     "schema_version": 3,
     "solution": true,
     "task": false
    }
   },
   "outputs": [],
   "source": [
    "from functools import partial\n",
    "\n",
    "remove_vowels = partial(remove_characters, characters='aeiouAEIOU')"
   ]
  },
  {
   "cell_type": "markdown",
   "metadata": {
    "deletable": false,
    "editable": false,
    "nbgrader": {
     "cell_type": "markdown",
     "checksum": "f3b4ce2f002f70fb92d0a53812d0028b",
     "grade": false,
     "grade_id": "cell-b3ba959d93563700",
     "locked": true,
     "schema_version": 3,
     "solution": false,
     "task": false
    }
   },
   "source": [
    "# Word counting in functional style\n",
    "\n",
    "We'd like to perform a word count in the functional style. To this aim we will define a *pipeline* of transformation from the initial text to a way that is suitable for performing the counting operation in a step-by-step fashion."
   ]
  },
  {
   "cell_type": "markdown",
   "metadata": {
    "deletable": false,
    "editable": false,
    "nbgrader": {
     "cell_type": "markdown",
     "checksum": "a809b3fe4fef6a318515afe7b86c9bfd",
     "grade": false,
     "grade_id": "cell-164e1ca026ebee9d",
     "locked": true,
     "schema_version": 3,
     "solution": false,
     "task": false
    }
   },
   "source": [
    "Consider a generator function `emit_words()` that given a text, returns a tuple with each word of that text (normalized, so lowercased and without punctuation) and the value `1`. For example the following text `\"Buffalo, buffalo (verb) other buffalo from Buffalo\"` will be emitted as the following tuples:\n",
    "\n",
    "```\n",
    "('buffalo', 1)\n",
    "('buffalo', 1)\n",
    "('verb', 1)\n",
    "('other', 1)\n",
    "('buffalo', 1)\n",
    "('from', 1)\n",
    "('buffalo', 1)\n",
    "```"
   ]
  },
  {
   "cell_type": "code",
   "execution_count": 27,
   "metadata": {
    "deletable": false,
    "editable": false,
    "nbgrader": {
     "cell_type": "code",
     "checksum": "9592c389a4fbd206143c6ebfc0569612",
     "grade": false,
     "grade_id": "cell-47e740a1cb25257c",
     "locked": true,
     "schema_version": 3,
     "solution": false,
     "task": false
    }
   },
   "outputs": [
    {
     "name": "stdout",
     "output_type": "stream",
     "text": [
      "[('buffalo', 1), ('buffalo', 1), ('verb', 1), ('other', 1), ('buffalo', 1), ('from', 1), ('buffalo', 1)]\n"
     ]
    }
   ],
   "source": [
    "import string\n",
    "\n",
    "def remove_punctuation(s):\n",
    "    \"\"\"Removes the punctuation from the string s and returns the result\"\"\"\n",
    "    for c in string.punctuation:\n",
    "        s = s.replace(c, '')\n",
    "    return s\n",
    "\n",
    "def emit_words(text):\n",
    "    for w in text.lower().strip().split(\" \"):\n",
    "        w = remove_punctuation(w)\n",
    "        yield (w, 1)\n",
    "        \n",
    "print(list(emit_words(\"Buffalo, buffalo (verb) other buffalo from Buffalo\")))"
   ]
  },
  {
   "cell_type": "markdown",
   "metadata": {
    "deletable": false,
    "editable": false,
    "nbgrader": {
     "cell_type": "markdown",
     "checksum": "704077e55817d6c16ea20a174ce154bb",
     "grade": false,
     "grade_id": "cell-61b5b720f5b3d2a8",
     "locked": true,
     "schema_version": 3,
     "solution": false,
     "task": false
    }
   },
   "source": [
    "Notice that since the function `emit_words()` returns a generator (i.e., a lazy function), in order to see what it computes we have to explicitly force a conversion to a `list()` so that the generator is executed on all the elements it is going to generate.\n",
    "\n",
    "We aim at using the `map()` and the `reduce()` function to compute the countings of the different words in a file. In particular, we're following the next two steps:"
   ]
  },
  {
   "cell_type": "markdown",
   "metadata": {
    "deletable": false,
    "editable": false,
    "nbgrader": {
     "cell_type": "markdown",
     "checksum": "d722d5b1e273fe44d78d526156abbebe",
     "grade": false,
     "grade_id": "cell-5a2e125d06c59872",
     "locked": true,
     "schema_version": 3,
     "solution": false,
     "task": false
    }
   },
   "source": [
    "## Exercise 4\n",
    "\n",
    "Write the function `map_to_counts(texts)` that, given a sequence of strings, transforms each line of the file into the list of tuples seen before using the `map()` function and the `emit_words()` one.\n",
    "\n",
    "The result might be something like:\n",
    "\n",
    "```\n",
    "<map at 0x10e03b2b0>\n",
    "```\n",
    "\n",
    "How can you force the content to be explicitly generated, in order to check it?"
   ]
  },
  {
   "cell_type": "code",
   "execution_count": 31,
   "metadata": {
    "deletable": false,
    "nbgrader": {
     "cell_type": "code",
     "checksum": "c26bcef9017989766185df4ec79807fa",
     "grade": true,
     "grade_id": "cell-534cd1cd8af7e1ad",
     "locked": false,
     "points": 1,
     "schema_version": 3,
     "solution": true,
     "task": false
    }
   },
   "outputs": [
    {
     "data": {
      "text/plain": [
       "[[('the', 1),\n",
       "  ('buffalo', 1),\n",
       "  ('from', 1),\n",
       "  ('buffalo', 1),\n",
       "  ('who', 1),\n",
       "  ('are', 1),\n",
       "  ('buffaloed', 1),\n",
       "  ('by', 1),\n",
       "  ('buffalo', 1)],\n",
       " [('buffalo', 1),\n",
       "  ('buffalo', 1),\n",
       "  ('verb', 1),\n",
       "  ('other', 1),\n",
       "  ('buffalo', 1),\n",
       "  ('from', 1),\n",
       "  ('buffalo', 1)]]"
      ]
     },
     "execution_count": 31,
     "metadata": {},
     "output_type": "execute_result"
    }
   ],
   "source": [
    "def map_to_counts(texts):\n",
    "    return list(map(lambda t: list(emit_words(t)), texts))\n",
    "    \n",
    "    \n",
    "strings = [\n",
    "    \"The buffalo from Buffalo who are buffaloed by buffalo\",\n",
    "    \"Buffalo, buffalo (verb) other buffalo from Buffalo\",\n",
    "]\n",
    "\n",
    "map_to_counts(strings)"
   ]
  },
  {
   "cell_type": "markdown",
   "metadata": {
    "deletable": false,
    "editable": false,
    "nbgrader": {
     "cell_type": "markdown",
     "checksum": "f8e410e572c639a2bc935c3770de24a6",
     "grade": false,
     "grade_id": "cell-18b90b05c4ab4cf9",
     "locked": true,
     "schema_version": 3,
     "solution": false,
     "task": false
    }
   },
   "source": [
    "Can you write down the fragment of code for checking whether the `map_to_counts()` function works properly?\n",
    "\n",
    "The expected value to be checked against is something like:\n",
    "\n",
    "```python\n",
    "[[('the', 1), ('buffalo', 1), ('from', 1), ('buffalo', 1), ('who', 1), ('are', 1), ('buffaloed', 1), ('by', 1), ('buffalo', 1)], [('buffalo', 1), ('buffalo', 1), ('verb', 1), ('other', 1), ('buffalo', 1), ('from', 1), ('buffalo', 1)]]\n",
    "```"
   ]
  },
  {
   "cell_type": "code",
   "execution_count": 33,
   "metadata": {
    "deletable": false,
    "nbgrader": {
     "cell_type": "code",
     "checksum": "a4023abb22a7aa14a00f94dee37b20c3",
     "grade": true,
     "grade_id": "cell-bcd75f4167ab98f0",
     "locked": false,
     "points": 0,
     "schema_version": 3,
     "solution": true,
     "task": false
    }
   },
   "outputs": [],
   "source": [
    "assert map_to_counts(strings) == [[('the', 1), ('buffalo', 1), ('from', 1), ('buffalo', 1), ('who', 1), ('are', 1), ('buffaloed', 1), ('by', 1), ('buffalo', 1)], [('buffalo', 1), ('buffalo', 1), ('verb', 1), ('other', 1), ('buffalo', 1), ('from', 1), ('buffalo', 1)]]"
   ]
  },
  {
   "cell_type": "markdown",
   "metadata": {},
   "source": [
    "## Exercise 5\n",
    "\n",
    "The expected format of the returned value is a (lazy) sequence of sequences (i.e., for each text the words and the 1 count), such as:\n",
    "\n",
    "```python\n",
    "[[('the', 1), ('buffalo', 1), ('from', 1), ('buffalo', 1), ('who', 1), ('are', 1), ('buffaloed', 1), ('by', 1), ('buffalo', 1)], [('buffalo', 1), ('buffalo', 1), ('verb', 1), ('other', 1), ('buffalo', 1), ('from', 1), ('buffalo', 1)]]\n",
    "```\n",
    "\n",
    "We'd like to transform it in a flat sequence (i.e., without nesting), conceptually like the following one:\n",
    "\n",
    "```\n",
    "[('the', 1), ('buffalo', 1), ('from', 1), ('buffalo', 1), ('who', 1), ('are', 1), ('buffaloed', 1), ('by', 1), ('buffalo', 1), ('buffalo', 1), ('buffalo', 1), ('verb', 1), ('other', 1), ('buffalo', 1), ('from', 1), ('buffalo', 1)]\n",
    "```\n",
    "\n",
    "Write a function `flat_sequence(lists)` that, using the `reduce()` function creates a flat version of the sequence."
   ]
  },
  {
   "cell_type": "code",
   "execution_count": null,
   "metadata": {
    "deletable": false,
    "nbgrader": {
     "cell_type": "code",
     "checksum": "e0c2c17e73f5694825a3659753ba2dfb",
     "grade": false,
     "grade_id": "cell-cc111f16850c5b52",
     "locked": false,
     "schema_version": 3,
     "solution": true,
     "task": false
    }
   },
   "outputs": [],
   "source": [
    "from functools import reduce\n",
    "\n",
    "def flat_sequence(lists):\n",
    "    # YOUR CODE HERE\n",
    "    raise NotImplementedError()\n",
    "    \n",
    "print(flat_sequence(map_to_counts(strings)))"
   ]
  },
  {
   "cell_type": "code",
   "execution_count": null,
   "metadata": {
    "deletable": false,
    "editable": false,
    "nbgrader": {
     "cell_type": "code",
     "checksum": "fcae7e1db90b04c57693ca615b8d1894",
     "grade": true,
     "grade_id": "cell-de32d17c46860342",
     "locked": true,
     "points": 1,
     "schema_version": 3,
     "solution": false,
     "task": false
    }
   },
   "outputs": [],
   "source": [
    "assert flat_sequence(map_to_counts(strings)) == [('the', 1), ('buffalo', 1), ('from', 1), ('buffalo', 1), ('who', 1), ('are', 1), ('buffaloed', 1), ('by', 1), ('buffalo', 1), ('buffalo', 1), ('buffalo', 1), ('verb', 1), ('other', 1), ('buffalo', 1), ('from', 1), ('buffalo', 1)]\n",
    "\n",
    "# this will generate some fake sentences just for testing\n",
    "\n",
    "from faker import Faker\n",
    "\n",
    "fake = Faker()\n",
    "\n",
    "test_strings = [fake.sentence() for _ in range(10)]\n",
    "for t in flat_sequence(map_to_counts(test_strings)):\n",
    "    assert type(t) == tuple\n",
    "    assert type(t[0]) == str\n",
    "    assert type(t[1]) == int\n",
    "    \n",
    "# just for curiosity give a look at the generated strings\n",
    "print(test_strings)"
   ]
  },
  {
   "cell_type": "markdown",
   "metadata": {
    "deletable": false,
    "editable": false,
    "nbgrader": {
     "cell_type": "markdown",
     "checksum": "9a86422cbb4bb334c1c53c6b6c617f71",
     "grade": false,
     "grade_id": "cell-67a25b43b4a253f1",
     "locked": true,
     "schema_version": 3,
     "solution": false,
     "task": false
    }
   },
   "source": [
    "## Exercise 6\n",
    "\n",
    "We aim at accumulating all the elements obtained in the plain sequence in a single dictionary with the counting. In particular, we aim at using a `reduce()` function that updates a dictionary with the counting."
   ]
  },
  {
   "cell_type": "code",
   "execution_count": null,
   "metadata": {
    "deletable": false,
    "nbgrader": {
     "cell_type": "code",
     "checksum": "8d29089d48ded335033844b8490525fd",
     "grade": false,
     "grade_id": "cell-d011224c8355668e",
     "locked": false,
     "schema_version": 3,
     "solution": true,
     "task": false
    }
   },
   "outputs": [],
   "source": [
    "# the function f should update the accumulated dictionary according \n",
    "# to the data item it gets from the `reduce()` function\n",
    "def f(acc, item):\n",
    "    # YOUR CODE HERE\n",
    "    raise NotImplementedError()\n",
    "\n",
    "# reduce will accumulate a dictionary, starting from an empty one\n",
    "# that count the plain sequence as processed by the previous functions\n",
    "reduce(f, flat_sequence(map_to_counts(strings)), dict())"
   ]
  },
  {
   "cell_type": "code",
   "execution_count": null,
   "metadata": {
    "deletable": false,
    "editable": false,
    "nbgrader": {
     "cell_type": "code",
     "checksum": "3c0ea6992c8214bc0c477592f4be41ad",
     "grade": true,
     "grade_id": "cell-57a4e235c2736550",
     "locked": true,
     "points": 1,
     "schema_version": 3,
     "solution": false,
     "task": false
    }
   },
   "outputs": [],
   "source": [
    "assert reduce(f, flat_sequence(map_to_counts(strings)), dict()) == {'the': 1, 'buffalo': 7, 'from': 2, 'who': 1, 'are': 1, 'buffaloed': 1, 'by': 1, 'verb': 1, 'other': 1}\n",
    "\n",
    "# the following transform the test_strings (which are not known) into the counter\n",
    "# of the words, using a python Counter object\n",
    "# notice how we transform the test_strings (a list of strings) into a single string\n",
    "# by joining each single line (i.e., text) by the `\" \".join()` method\n",
    "# this creates a flat version of the test_strings list\n",
    "# moreover, the split(\" \") at the end is needed to ensure that each word become\n",
    "# a single token to be counted by the counter (if you do not do that Counter() will count each\n",
    "# single character)\n",
    "from collections import Counter\n",
    "\n",
    "reference_counter = Counter(remove_punctuation(\" \".join(text.lower() for text in test_strings)).split(\" \"))\n",
    "assert reduce(f, flat_sequence(map_to_counts(test_strings)), dict()) == reference_counter"
   ]
  },
  {
   "cell_type": "markdown",
   "metadata": {
    "deletable": false,
    "editable": false,
    "nbgrader": {
     "cell_type": "markdown",
     "checksum": "d45b042403de860ba5ffed7258752740",
     "grade": false,
     "grade_id": "cell-9c7c32477529dd05",
     "locked": true,
     "schema_version": 3,
     "solution": false,
     "task": false
    }
   },
   "source": [
    "Just for your information, this schema, in which there is a mapping into the intermediate representation `(k, v)` and a dipatching of that representation is called *map/reduce* and is one of the most used types of high performance computing paradigms for Big Data.\n",
    "\n",
    "<img src=\"data:image/jpeg;base64,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\">\n",
    "\n",
    "The input is split, transformed, combined and reduced in parallel. In the above example, you see a workflow in which the input is split in chunks consisting of a single line. Each line is sent to a mapper for a transformation. The mapper is supposed to “*emit*” a list of `(key, value)` tuples. The list emitted by each mapper is then recombined so that each *reducer* is supplied with a list of `value`s corresponding to the same `key`. The reducer then is free to return whatever results it is meaningful for it.\n",
    "\n",
    "The figure refers to an example in which a counting of occurences of the single characters in some texts.\n",
    "\n",
    "## Map/Reduce simulator\n",
    "\n",
    "A more precise simulation of the *map/reduce* paradigm is provided through the library `map_reduce.py`, which simulates the *map/reduce* steps by performing them in parallel.\n",
    "\n",
    "You can give a look at the file content, if you're interested in the implementation.\n",
    "\n",
    "The `map_reduce` module can be loaded by issuing the command:\n",
    "\n",
    "```python\n",
    "from map_reduce import map_reduce\n",
    "```\n",
    "\n",
    "provided that the `map_reduce.py` is in **the same** directory as this notebook (or the notebook using it). It is not a systemwide library but a custom one.\n",
    "\n",
    "The `map_reduce` module is a higher-order function that takes two functions as its arguments, namely the `mapper` and the `reducer`, and returns another function (call it `apply`) that has an iterable as its argument. The `apply` function will perform all the steps of the *map/reduce* pipeline, namely:\n",
    "\n",
    "1. it will transform each item of the input iterable (in parallel) by applying the `mapper()` function to that item;\n",
    "2. it will partition the results of the *map* application into blocks having the same key value;\n",
    "3. it will send each block to a single `reducer()` function that performs the reduction in parallel.\n",
    "\n",
    "You will see an example of adapting the map/reduce functions for counting words and an usage of the map reduce simulator in the following cells. The final output format is slightly different from the one above and is more similar to an actual output of a map/reduce pipeline (i.e., a list of tuples instead of a dictionary).\n",
    "\n",
    "The signatures of the two functions is as follows:\n",
    "\n",
    "* `mapper(item) -> list of tuples (k, v)`\n",
    "* `reducer(k, list of values corresponding to key k) -> list of any type`"
   ]
  },
  {
   "cell_type": "code",
   "execution_count": null,
   "metadata": {
    "deletable": false,
    "editable": false,
    "nbgrader": {
     "cell_type": "code",
     "checksum": "92be5540cc976925b1567c4f6ede94e1",
     "grade": false,
     "grade_id": "cell-6f4a84fbf9a0d071",
     "locked": true,
     "schema_version": 3,
     "solution": false,
     "task": false
    }
   },
   "outputs": [],
   "source": [
    "# This will install the typeguard library that performs runtime checking of the function times, more details\n",
    "# in a later lecture\n",
    "!pip3 install typeguard"
   ]
  },
  {
   "cell_type": "code",
   "execution_count": null,
   "metadata": {},
   "outputs": [],
   "source": [
    "from map_reduce import map_reduce\n",
    "\n",
    "import string\n",
    "\n",
    "def m(text):\n",
    "    def remove_punctuation(s):\n",
    "        for c in string.punctuation:\n",
    "            s = s.replace(c, '')\n",
    "        return s\n",
    "    # the mapper emits a list of tuples (word, 1), one for each word\n",
    "    return [(remove_punctuation(w), 1) for w in text.lower().strip().split()]\n",
    "\n",
    "def r(key, data):\n",
    "    # data is the list of values corresponding to the key `key`\n",
    "    return (key, sum(data))\n",
    "\n",
    "apply = map_reduce(m, r)\n",
    "\n",
    "apply(strings)"
   ]
  },
  {
   "cell_type": "markdown",
   "metadata": {},
   "source": [
    "## Exercise 7\n",
    "\n",
    "Given a text file containing some temperature data with the following format:\n",
    "\n",
    "```\n",
    "Id,Region,Country,State,City,Month,Day,Year,AvgDailyTemperature\n",
    "794485,Europe,Italy,,Milan,1,1,1995,42.2\n",
    "794486,Europe,Italy,,Milan,1,2,1995,35.5\n",
    "...\n",
    "```\n",
    "\n",
    "You might wonder whether the temperature reported is wrong, but it's not, it is just reported using Farenheit degrees.\n",
    "\n",
    "We'd like to compute the minimum and maximum **monthly** temperature for **each city** using a *map/reduce* pipepline.\n",
    "\n",
    "Define a `mapper()` function that, given one line of the file outputs a tuple whose value is the temperature converted in Celsius degrees (the formula is $°C = (°F - 32) \\cdot \\frac{5}{9}$) and the key is suitable for the further reduce processing (you have to choose).\n",
    "\n",
    "Define a `reducer()` function that, given one of the keys and the list of values corresponding to that key returns the suitable value to represent both the minimum and maximum monthly temperature for each city.\n",
    "\n",
    "You have to decide which are the keys and which are the values for both functions. The outcome should represent that information.\n",
    "\n"
   ]
  },
  {
   "cell_type": "code",
   "execution_count": null,
   "metadata": {
    "deletable": false,
    "nbgrader": {
     "cell_type": "code",
     "checksum": "88e6cba0c15eb4cc982ee7b200e0bbf0",
     "grade": true,
     "grade_id": "cell-97131aec57d655e8",
     "locked": false,
     "points": 5,
     "schema_version": 3,
     "solution": true,
     "task": false
    }
   },
   "outputs": [],
   "source": [
    "def mapper(line):\n",
    "    # decide how to transform each line so that it will get to the correct reducer\n",
    "    # YOUR CODE HERE\n",
    "    raise NotImplementedError()\n",
    "\n",
    "def reducer(key, items):\n",
    "    # decide how to aggregate all the data that have the same key\n",
    "    # YOUR CODE HERE\n",
    "    raise NotImplementedError()"
   ]
  },
  {
   "cell_type": "code",
   "execution_count": null,
   "metadata": {
    "deletable": false,
    "editable": false,
    "nbgrader": {
     "cell_type": "code",
     "checksum": "c2077ade08a5dce5b5238d0767bd66b8",
     "grade": false,
     "grade_id": "cell-2ec5972c3ff03bb4",
     "locked": true,
     "schema_version": 3,
     "solution": false,
     "task": false
    }
   },
   "outputs": [],
   "source": [
    "apply = map_reduce(mapper, reducer)\n",
    "\n",
    "def read_line(l):\n",
    "    t = l.strip().split(',')\n",
    "    return t[4], int(t[5]), float(t[8])\n",
    "\n",
    "with open('italian_city_temperature.csv') as f:\n",
    "    f.readline() # skip the first line, which is the header\n",
    "    print(apply(map(read_line, f)))"
   ]
  },
  {
   "cell_type": "markdown",
   "metadata": {},
   "source": [
    "You might notice that a lot of minimum values are `-72.7777...`, which are probably missing observations (the value corresponds to a `-99.0` in the original untransformed data). How can you get rid of those wrong observations? You might do that either in the reducer."
   ]
  },
  {
   "cell_type": "code",
   "execution_count": null,
   "metadata": {
    "deletable": false,
    "nbgrader": {
     "cell_type": "code",
     "checksum": "5025b81dc7ebf47e95d6a8c90a5555ad",
     "grade": true,
     "grade_id": "cell-f81a32941d41f398",
     "locked": false,
     "points": 1,
     "schema_version": 3,
     "solution": true,
     "task": false
    }
   },
   "outputs": [],
   "source": [
    "## Write a modified version of reducer so that the missing observation\n",
    "## are removed\n",
    "\n",
    "def reducer(key, items):\n",
    "    # YOUR CODE HERE\n",
    "    raise NotImplementedError()"
   ]
  },
  {
   "cell_type": "code",
   "execution_count": null,
   "metadata": {},
   "outputs": [],
   "source": [
    "apply = map_reduce(mapper, reducer)\n",
    "\n",
    "with open('italian_city_temperature.csv') as f:\n",
    "    f.readline() # skip the first line, which is the header\n",
    "    print(apply(map(read_line, f)))"
   ]
  },
  {
   "cell_type": "code",
   "execution_count": null,
   "metadata": {},
   "outputs": [],
   "source": []
  }
 ],
 "metadata": {
  "kernelspec": {
   "display_name": "Python 3 (ipykernel)",
   "language": "python",
   "name": "python3"
  },
  "language_info": {
   "codemirror_mode": {
    "name": "ipython",
    "version": 3
   },
   "file_extension": ".py",
   "mimetype": "text/x-python",
   "name": "python",
   "nbconvert_exporter": "python",
   "pygments_lexer": "ipython3",
   "version": "3.10.12"
  }
 },
 "nbformat": 4,
 "nbformat_minor": 4
}
